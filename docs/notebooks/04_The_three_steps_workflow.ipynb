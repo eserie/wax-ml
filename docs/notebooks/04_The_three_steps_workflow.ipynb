{
  "nbformat": 4,
  "nbformat_minor": 5,
  "metadata": {
    "accelerator": "GPU",
    "colab": {
      "name": "04_The_three_steps_workflow.ipynb",
      "provenance": []
    },
    "jupytext": {
      "encoding": "# -*- coding: utf-8 -*-",
      "formats": "ipynb,py,md:myst"
    },
    "kernelspec": {
      "display_name": "Python 3",
      "language": "python",
      "name": "python3"
    },
    "language_info": {
      "codemirror_mode": {
        "name": "ipython",
        "version": 3
      },
      "file_extension": ".py",
      "mimetype": "text/x-python",
      "name": "python",
      "nbconvert_exporter": "python",
      "pygments_lexer": "ipython3",
      "version": "3.7.10"
    }
  },
  "cells": [
    {
      "cell_type": "code",
      "metadata": {
        "id": "2b295407-92c4-4818-bfb9-f445f6967f10",
        "outputId": "dc6c8e1b-2875-4287-d83a-4bdc4c9db80a",
        "colab": {
          "base_uri": "https://localhost:8080/"
        }
      },
      "source": [
        "# Uncomment to run the notebook in Colab\n",
        "# ! pip install -q \"wax-ml[complete]@git+https://github.com/eserie/wax-ml.git\"\n",
        "# ! pip install -q --upgrade jax jaxlib==0.1.67+cuda111 -f https://storage.googleapis.com/jax-releases/jax_releases.html"
      ],
      "id": "2b295407-92c4-4818-bfb9-f445f6967f10",
      "execution_count": 1,
      "outputs": [
        {
          "output_type": "stream",
          "text": [
            "\u001b[K     |████████████████████████████████| 45.3MB 62kB/s \n",
            "\u001b[K     |████████████████████████████████| 286kB 43.6MB/s \n",
            "\u001b[K     |████████████████████████████████| 122kB 57.7MB/s \n",
            "\u001b[K     |████████████████████████████████| 21.5MB 71.3MB/s \n",
            "\u001b[K     |████████████████████████████████| 51kB 7.6MB/s \n",
            "\u001b[K     |████████████████████████████████| 81kB 11.5MB/s \n",
            "\u001b[K     |████████████████████████████████| 51kB 8.0MB/s \n",
            "\u001b[K     |████████████████████████████████| 143kB 54.2MB/s \n",
            "\u001b[K     |████████████████████████████████| 112kB 32.0MB/s \n",
            "\u001b[K     |████████████████████████████████| 296kB 47.6MB/s \n",
            "\u001b[K     |████████████████████████████████| 71kB 9.7MB/s \n",
            "\u001b[K     |████████████████████████████████| 61kB 9.1MB/s \n",
            "\u001b[K     |████████████████████████████████| 747kB 42.2MB/s \n",
            "\u001b[K     |████████████████████████████████| 102kB 15.1MB/s \n",
            "\u001b[K     |████████████████████████████████| 51kB 7.6MB/s \n",
            "\u001b[K     |████████████████████████████████| 71kB 11.0MB/s \n",
            "\u001b[K     |████████████████████████████████| 727kB 43.4MB/s \n",
            "\u001b[K     |████████████████████████████████| 81kB 11.3MB/s \n",
            "\u001b[K     |████████████████████████████████| 51kB 8.0MB/s \n",
            "\u001b[?25h  Building wheel for wax-ml (setup.py) ... \u001b[?25l\u001b[?25hdone\n",
            "  Building wheel for autoflake (setup.py) ... \u001b[?25l\u001b[?25hdone\n",
            "  Building wheel for py-cpuinfo (setup.py) ... \u001b[?25l\u001b[?25hdone\n",
            "\u001b[31mERROR: pytest-cov 2.12.1 has requirement coverage>=5.2.1, but you'll have coverage 3.7.1 which is incompatible.\u001b[0m\n",
            "\u001b[31mERROR: pytest-cov 2.12.1 has requirement pytest>=4.6, but you'll have pytest 3.6.4 which is incompatible.\u001b[0m\n",
            "\u001b[31mERROR: pytest-forked 1.3.0 has requirement pytest>=3.10, but you'll have pytest 3.6.4 which is incompatible.\u001b[0m\n",
            "\u001b[31mERROR: pytest-xdist 2.2.1 has requirement pytest>=6.0.0, but you'll have pytest 3.6.4 which is incompatible.\u001b[0m\n",
            "\u001b[31mERROR: pytest-benchmark 3.4.1 has requirement pytest>=3.8, but you'll have pytest 3.6.4 which is incompatible.\u001b[0m\n",
            "\u001b[31mERROR: mdit-py-plugins 0.2.8 has requirement markdown-it-py~=1.0, but you'll have markdown-it-py 0.6.2 which is incompatible.\u001b[0m\n",
            "\u001b[31mERROR: markdown-it-py 0.6.2 has requirement attrs<21,>=19, but you'll have attrs 21.2.0 which is incompatible.\u001b[0m\n",
            "\u001b[K     |████████████████████████████████| 675kB 8.1MB/s \n",
            "\u001b[K     |████████████████████████████████| 194.6MB 68kB/s \n",
            "\u001b[?25h  Building wheel for jax (setup.py) ... \u001b[?25l\u001b[?25hdone\n"
          ],
          "name": "stdout"
        }
      ]
    },
    {
      "cell_type": "code",
      "metadata": {
        "id": "ff30291d"
      },
      "source": [
        "# check available devices\n",
        "import jax"
      ],
      "id": "ff30291d",
      "execution_count": 2,
      "outputs": []
    },
    {
      "cell_type": "code",
      "metadata": {
        "colab": {
          "base_uri": "https://localhost:8080/"
        },
        "id": "a3cdb104",
        "outputId": "a6f395c3-6ee3-4fe5-ce39-a02617a129ca"
      },
      "source": [
        "print(\"jax backend {}\".format(jax.lib.xla_bridge.get_backend().platform))\n",
        "jax.devices()"
      ],
      "id": "a3cdb104",
      "execution_count": 3,
      "outputs": [
        {
          "output_type": "stream",
          "text": [
            "jax backend gpu\n"
          ],
          "name": "stdout"
        },
        {
          "output_type": "execute_result",
          "data": {
            "text/plain": [
              "[GpuDevice(id=0, process_index=0)]"
            ]
          },
          "metadata": {
            "tags": []
          },
          "execution_count": 3
        }
      ]
    },
    {
      "cell_type": "markdown",
      "metadata": {
        "id": "1fa1808c"
      },
      "source": [
        "# 🎛 The 3-steps workflow 🎛\n",
        "\n",
        "[![Open in Colab](https://colab.research.google.com/assets/colab-badge.svg)](https://colab.research.google.com/github/eserie/wax-ml/blob/main/docs/notebooks/04_The_three_steps_workflow.ipynb)"
      ],
      "id": "1fa1808c"
    },
    {
      "cell_type": "markdown",
      "metadata": {
        "id": "2e1eefec"
      },
      "source": [
        "It is already very useful to be able to execute a JAX function on a dataframe in a single work step\n",
        "and with a single command line thanks to WAX-ML accessors.\n",
        "\n",
        "The 1-step WAX-ML's stream API works like that:\n",
        "```python\n",
        "<data-container>.stream(...).apply(...)\n",
        "```\n",
        "\n",
        "But this is not optimal because, under the hood, there are mainly three costly steps:\n",
        "- (1) (synchronize | data tracing | encode): make the data \"JAX ready\"\n",
        "- (2) (compile | code tracing | execution): compile and optimize a function for XLA, execute it.\n",
        "- (3) (format): convert data back to pandas/xarray/numpy format.\n",
        "\n",
        "With the `wax.stream` primitives, it is quite easy to explicitly split the 1-step workflow\n",
        "into a 3-step workflow.\n",
        "\n",
        "This will allow the user to have full control over each step and iterate on each one.\n",
        "\n",
        "It is actually very useful to iterate on step (2), the \"calculation step\" when\n",
        "you are doing research.\n",
        "You can then take full advantage of the JAX primitives, especially the `jit` primitive.\n",
        "\n",
        "Let's illustrate how to reimplement WAX-ML EWMA yourself with the WAX-ML 3-step workflow."
      ],
      "id": "2e1eefec"
    },
    {
      "cell_type": "markdown",
      "metadata": {
        "id": "bd2e906e"
      },
      "source": [
        "## Imports"
      ],
      "id": "bd2e906e"
    },
    {
      "cell_type": "code",
      "metadata": {
        "id": "2bdfbf9a",
        "tags": []
      },
      "source": [
        "import haiku as hk\n",
        "import numpy as onp\n",
        "import pandas as pd\n",
        "import xarray as xr\n",
        "\n",
        "from wax.accessors import register_wax_accessors\n",
        "from wax.compile import jit_init_apply\n",
        "from wax.external.eagerpy import convert_to_tensors\n",
        "from wax.format import format_dataframe\n",
        "from wax.modules import EWMA\n",
        "from wax.stream import tree_access_data\n",
        "from wax.unroll import dynamic_unroll\n",
        "\n",
        "register_wax_accessors()"
      ],
      "id": "2bdfbf9a",
      "execution_count": 4,
      "outputs": []
    },
    {
      "cell_type": "markdown",
      "metadata": {
        "id": "a0999c69"
      },
      "source": [
        "## Performance on big dataframes"
      ],
      "id": "a0999c69"
    },
    {
      "cell_type": "markdown",
      "metadata": {
        "id": "6f8447b4"
      },
      "source": [
        "### Generate data"
      ],
      "id": "6f8447b4"
    },
    {
      "cell_type": "code",
      "metadata": {
        "id": "768d7802-580d-4c31-9a0e-e6dc4f0589ca",
        "tags": [
          "parameters"
        ]
      },
      "source": [
        "T = 1.0e5\n",
        "N = 1000"
      ],
      "id": "768d7802-580d-4c31-9a0e-e6dc4f0589ca",
      "execution_count": 5,
      "outputs": []
    },
    {
      "cell_type": "code",
      "metadata": {
        "id": "03af743d",
        "tags": []
      },
      "source": [
        "T, N = map(int, (T, N))\n",
        "dataframe = pd.DataFrame(\n",
        "    onp.random.normal(size=(T, N)), index=pd.date_range(\"1970\", periods=T, freq=\"s\")\n",
        ")"
      ],
      "id": "03af743d",
      "execution_count": 6,
      "outputs": []
    },
    {
      "cell_type": "markdown",
      "metadata": {
        "id": "d1fd46f7"
      },
      "source": [
        "### pandas EWMA"
      ],
      "id": "d1fd46f7"
    },
    {
      "cell_type": "code",
      "metadata": {
        "colab": {
          "base_uri": "https://localhost:8080/"
        },
        "id": "27092faf",
        "tags": [],
        "outputId": "e97a2738-5c2a-4bf9-c9e0-c44040185424"
      },
      "source": [
        "%%time\n",
        "df_ewma_pandas = dataframe.ewm(alpha=1.0 / 10.0).mean()"
      ],
      "id": "27092faf",
      "execution_count": 7,
      "outputs": [
        {
          "output_type": "stream",
          "text": [
            "CPU times: user 1.97 s, sys: 480 ms, total: 2.45 s\n",
            "Wall time: 2.44 s\n"
          ],
          "name": "stdout"
        }
      ]
    },
    {
      "cell_type": "markdown",
      "metadata": {
        "id": "678be283"
      },
      "source": [
        "### WAX-ML EWMA"
      ],
      "id": "678be283"
    },
    {
      "cell_type": "code",
      "metadata": {
        "colab": {
          "base_uri": "https://localhost:8080/"
        },
        "id": "11f3705d",
        "tags": [],
        "outputId": "744f0faa-7030-4155-80ae-4a5c745731f8"
      },
      "source": [
        "%%time\n",
        "df_ewma_wax = dataframe.wax.ewm(alpha=1.0 / 10.0).mean()"
      ],
      "id": "11f3705d",
      "execution_count": 8,
      "outputs": [
        {
          "output_type": "stream",
          "text": [
            "CPU times: user 2.31 s, sys: 689 ms, total: 3 s\n",
            "Wall time: 3.31 s\n"
          ],
          "name": "stdout"
        }
      ]
    },
    {
      "cell_type": "markdown",
      "metadata": {
        "id": "0d94d5cf"
      },
      "source": [
        "It's a little faster, but not that much faster..."
      ],
      "id": "0d94d5cf"
    },
    {
      "cell_type": "markdown",
      "metadata": {
        "id": "e51ee290"
      },
      "source": [
        "### WAX-ML EWMA (without format step)"
      ],
      "id": "e51ee290"
    },
    {
      "cell_type": "markdown",
      "metadata": {
        "id": "7361def9"
      },
      "source": [
        "Let's disable the final formatting step (the output is now in raw JAX format):"
      ],
      "id": "7361def9"
    },
    {
      "cell_type": "code",
      "metadata": {
        "colab": {
          "base_uri": "https://localhost:8080/"
        },
        "id": "f87f5668",
        "tags": [],
        "outputId": "3f37d97e-1875-4f66-9e6b-9a22b20642a6"
      },
      "source": [
        "%%time\n",
        "df_ewma_wax_no_format = dataframe.wax.ewm(alpha=1.0 / 10.0, format_outputs=False).mean()\n",
        "df_ewma_wax_no_format.block_until_ready()"
      ],
      "id": "f87f5668",
      "execution_count": 9,
      "outputs": [
        {
          "output_type": "stream",
          "text": [
            "CPU times: user 1.95 s, sys: 537 ms, total: 2.49 s\n",
            "Wall time: 2.37 s\n"
          ],
          "name": "stdout"
        }
      ]
    },
    {
      "cell_type": "code",
      "metadata": {
        "colab": {
          "base_uri": "https://localhost:8080/"
        },
        "id": "88d0cab5-62ad-47f7-9d06-56fc45fa542e",
        "outputId": "f8b7c4fb-79a7-4652-82eb-2b649aeb074c"
      },
      "source": [
        "type(df_ewma_wax_no_format)"
      ],
      "id": "88d0cab5-62ad-47f7-9d06-56fc45fa542e",
      "execution_count": 10,
      "outputs": [
        {
          "output_type": "execute_result",
          "data": {
            "text/plain": [
              "jaxlib.xla_extension.DeviceArray"
            ]
          },
          "metadata": {
            "tags": []
          },
          "execution_count": 10
        }
      ]
    },
    {
      "cell_type": "markdown",
      "metadata": {
        "id": "9be62475-b2fa-4a95-b293-7e4410ca36ca"
      },
      "source": [
        "Let's check the device on which the calculation was performed (if you have GPU available, this should be `GpuDevice` otherwise it will be `CpuDevice`):"
      ],
      "id": "9be62475-b2fa-4a95-b293-7e4410ca36ca"
    },
    {
      "cell_type": "code",
      "metadata": {
        "colab": {
          "base_uri": "https://localhost:8080/"
        },
        "id": "38d3970c-04a5-4deb-93b3-a4f5f899e8f1",
        "outputId": "ba287d55-719a-47de-f959-9223effbe7a6"
      },
      "source": [
        "df_ewma_wax_no_format.device()"
      ],
      "id": "38d3970c-04a5-4deb-93b3-a4f5f899e8f1",
      "execution_count": 11,
      "outputs": [
        {
          "output_type": "execute_result",
          "data": {
            "text/plain": [
              "GpuDevice(id=0, process_index=0)"
            ]
          },
          "metadata": {
            "tags": []
          },
          "execution_count": 11
        }
      ]
    },
    {
      "cell_type": "markdown",
      "metadata": {
        "id": "784ee16e"
      },
      "source": [
        "Now we will see how to break down WAX-ML one-liners `<dataset>.ewm(...).mean()` or `<dataset>.stream(...).apply(...)` into 3 steps:\n",
        "- a preparation step where we prepare JAX-ready data and functions.\n",
        "- a processing step where we execute the JAX program\n",
        "- a post-processing step where we format the results in pandas or xarray format."
      ],
      "id": "784ee16e"
    },
    {
      "cell_type": "markdown",
      "metadata": {
        "id": "c5e7b817"
      },
      "source": [
        "### Generate data (in dataset format)\n",
        "\n",
        "WAX-ML `Sream` object works on datasets.\n",
        "So let's transform the `DataFrame` into a xarray `Dataset`:"
      ],
      "id": "c5e7b817"
    },
    {
      "cell_type": "code",
      "metadata": {
        "id": "9965444b"
      },
      "source": [
        "dataset = xr.DataArray(dataframe).to_dataset(name=\"dataarray\")\n",
        "del dataframe"
      ],
      "id": "9965444b",
      "execution_count": 12,
      "outputs": []
    },
    {
      "cell_type": "markdown",
      "metadata": {
        "id": "123965eb"
      },
      "source": [
        "## Step (1) (synchronize | data tracing | encode)\n",
        "\n",
        "In this step,  WAX-ML do:\n",
        "- \"data tracing\" : prepare the indices for fast access tin the JAX function `access_data`\n",
        "- synchronize streams if there is multiple ones.\n",
        "  This functionality have options : `freq`, `ffills`\n",
        "- encode and convert data from numpy to JAX: use encoders for `datetimes64` and `string_`\n",
        "  dtypes. Be aware that by default JAX works in float32\n",
        "  (see [JAX's Common Gotchas](https://jax.readthedocs.io/en/latest/notebooks/Common_Gotchas_in_JAX.html#double-64bit-precision) to work in float64).\n",
        "\n",
        "We have a function `Stream.prepare` that implement this Step (1).\n",
        "It prepares a function that wraps the input function with the actual data and indices\n",
        "in a pair of pure functions (`TransformedWithState` Haiku tuple)."
      ],
      "id": "123965eb"
    },
    {
      "cell_type": "code",
      "metadata": {
        "colab": {
          "base_uri": "https://localhost:8080/"
        },
        "id": "5f6b72ca",
        "lines_to_next_cell": 1,
        "outputId": "e6852b1f-65bb-478a-ea6f-1cc6a3ce0898"
      },
      "source": [
        "%%time\n",
        "stream = dataset.wax.stream()"
      ],
      "id": "5f6b72ca",
      "execution_count": 13,
      "outputs": [
        {
          "output_type": "stream",
          "text": [
            "CPU times: user 311 µs, sys: 0 ns, total: 311 µs\n",
            "Wall time: 323 µs\n"
          ],
          "name": "stdout"
        }
      ]
    },
    {
      "cell_type": "markdown",
      "metadata": {
        "id": "4cc34aad-3e15-4220-9dff-30dcad660307",
        "lines_to_next_cell": 2
      },
      "source": [
        "Define our custom function to be applied on a dict of arrays\n",
        "having the same structure than the original dataset:"
      ],
      "id": "4cc34aad-3e15-4220-9dff-30dcad660307"
    },
    {
      "cell_type": "code",
      "metadata": {
        "id": "2bfa2a6c",
        "lines_to_next_cell": 1
      },
      "source": [
        "def my_ewma_on_dataset(dataset):\n",
        "    return EWMA(alpha=1.0 / 10.0, adjust=True)(dataset[\"dataarray\"])"
      ],
      "id": "2bfa2a6c",
      "execution_count": 14,
      "outputs": []
    },
    {
      "cell_type": "code",
      "metadata": {
        "id": "4735903f"
      },
      "source": [
        "transform_dataset, jxs = stream.prepare(dataset, my_ewma_on_dataset)"
      ],
      "id": "4735903f",
      "execution_count": 15,
      "outputs": []
    },
    {
      "cell_type": "markdown",
      "metadata": {
        "id": "18b31346-501a-407b-b586-780117d043f3"
      },
      "source": [
        "Let's definite the init parameters and state of the transformation we\n",
        "will apply."
      ],
      "id": "18b31346-501a-407b-b586-780117d043f3"
    },
    {
      "cell_type": "markdown",
      "metadata": {
        "id": "78ea9eda-d0cc-4dba-8b2a-60fbf1dd41bd"
      },
      "source": [
        "### Init params and state"
      ],
      "id": "78ea9eda-d0cc-4dba-8b2a-60fbf1dd41bd"
    },
    {
      "cell_type": "code",
      "metadata": {
        "id": "47b1ebdf-ff32-4c2a-ae0b-51b88882328b"
      },
      "source": [
        "from wax.unroll import init_params_state"
      ],
      "id": "47b1ebdf-ff32-4c2a-ae0b-51b88882328b",
      "execution_count": 16,
      "outputs": []
    },
    {
      "cell_type": "code",
      "metadata": {
        "id": "ea6651f6-0db8-48f0-b578-013b2cb74272"
      },
      "source": [
        "rng = jax.random.PRNGKey(42)\n",
        "params, state = init_params_state(transform_dataset, rng, jxs)"
      ],
      "id": "ea6651f6-0db8-48f0-b578-013b2cb74272",
      "execution_count": 17,
      "outputs": []
    },
    {
      "cell_type": "code",
      "metadata": {
        "colab": {
          "base_uri": "https://localhost:8080/"
        },
        "id": "dc9a4bce-83d1-494b-b053-c6f9ebfb7d0c",
        "outputId": "b177e83e-d301-4071-bd37-803d93a64910"
      },
      "source": [
        "params"
      ],
      "id": "dc9a4bce-83d1-494b-b053-c6f9ebfb7d0c",
      "execution_count": 18,
      "outputs": [
        {
          "output_type": "execute_result",
          "data": {
            "text/plain": [
              "FlatMapping({'ewma': FlatMapping({'alpha': DeviceArray(0.1, dtype=float32)})})"
            ]
          },
          "metadata": {
            "tags": []
          },
          "execution_count": 18
        }
      ]
    },
    {
      "cell_type": "code",
      "metadata": {
        "id": "4dd83bef-ef68-4576-973f-594f18123944",
        "lines_to_next_cell": 2
      },
      "source": [
        "assert state[\"ewma\"][\"count\"].shape == (N,)\n",
        "assert state[\"ewma\"][\"mean\"].shape == (N,)"
      ],
      "id": "4dd83bef-ef68-4576-973f-594f18123944",
      "execution_count": 19,
      "outputs": []
    },
    {
      "cell_type": "markdown",
      "metadata": {
        "id": "903a778c"
      },
      "source": [
        "## Step (2) (compile | code tracing | execution)"
      ],
      "id": "903a778c"
    },
    {
      "cell_type": "markdown",
      "metadata": {
        "id": "425830f4"
      },
      "source": [
        "In this step we:\n",
        "- prepare a pure function (with\n",
        "  [Haiku's transform mechanism](https://dm-haiku.readthedocs.io/en/latest/api.html#haiku-transforms))\n",
        "  Define a \"transformation\" function which:\n",
        "    - access to the data\n",
        "    - apply another transformation, here: EWMA\n",
        "\n",
        "- compile it with `jax.jit`\n",
        "- perform code tracing and execution (the last line):\n",
        "    - Unroll the transformation on \"steps\" `xs` (a `np.arange` vector)."
      ],
      "id": "425830f4"
    },
    {
      "cell_type": "code",
      "metadata": {
        "id": "6825fdc8-1773-4e04-a41c-a126a1527891"
      },
      "source": [
        "rng = next(hk.PRNGSequence(42))\n",
        "outputs, state = dynamic_unroll(transform_dataset, params, state, rng, False, jxs)"
      ],
      "id": "6825fdc8-1773-4e04-a41c-a126a1527891",
      "execution_count": 20,
      "outputs": []
    },
    {
      "cell_type": "code",
      "metadata": {
        "colab": {
          "base_uri": "https://localhost:8080/"
        },
        "id": "3862a486-a5a2-4aa9-967a-59ebc32a18e1",
        "outputId": "b54b4e2c-a0ab-4a43-d331-d6b3d90707c6"
      },
      "source": [
        "outputs.device()"
      ],
      "id": "3862a486-a5a2-4aa9-967a-59ebc32a18e1",
      "execution_count": 21,
      "outputs": [
        {
          "output_type": "execute_result",
          "data": {
            "text/plain": [
              "GpuDevice(id=0, process_index=0)"
            ]
          },
          "metadata": {
            "tags": []
          },
          "execution_count": 21
        }
      ]
    },
    {
      "cell_type": "markdown",
      "metadata": {
        "id": "b73f3252"
      },
      "source": [
        "Once it has been compiled and \"traced\" by JAX, the function is much faster to execute:"
      ],
      "id": "b73f3252"
    },
    {
      "cell_type": "code",
      "metadata": {
        "colab": {
          "base_uri": "https://localhost:8080/"
        },
        "id": "a889d294",
        "tags": [],
        "outputId": "e69a75ff-4b00-4a1d-f101-49944e01d9b4"
      },
      "source": [
        "%%timeit\n",
        "outputs, _ = dynamic_unroll(transform_dataset, params, state, rng, False, jxs)\n",
        "_ = outputs.block_until_ready()"
      ],
      "id": "a889d294",
      "execution_count": 22,
      "outputs": [
        {
          "output_type": "stream",
          "text": [
            "1 loop, best of 5: 1.28 s per loop\n"
          ],
          "name": "stdout"
        }
      ]
    },
    {
      "cell_type": "markdown",
      "metadata": {
        "id": "987e8b63"
      },
      "source": [
        "This is 3x faster than pandas implementation!"
      ],
      "id": "987e8b63"
    },
    {
      "cell_type": "markdown",
      "metadata": {
        "id": "4c8acec1-4414-4340-9cfc-199e90565d4d"
      },
      "source": [
        "### Manually prepare the data and manage the device"
      ],
      "id": "4c8acec1-4414-4340-9cfc-199e90565d4d"
    },
    {
      "cell_type": "markdown",
      "metadata": {
        "id": "8b76775b-76f7-45ae-8bc7-66a6f945370f"
      },
      "source": [
        "In order to manage the device on which the computations take place,\n",
        "we need to have even more control over the execution flow.\n",
        "Instead of calling `stream.prepare` to build the `transform_dataset` function,\n",
        "we can do it ourselves by :\n",
        "- using the `stream.trace_dataset` function\n",
        "- converting the numpy data in jax ourself\n",
        "- puting the data on the device we want."
      ],
      "id": "8b76775b-76f7-45ae-8bc7-66a6f945370f"
    },
    {
      "cell_type": "code",
      "metadata": {
        "colab": {
          "base_uri": "https://localhost:8080/"
        },
        "id": "76479f76-7b6e-4321-97c3-942f2987bc01",
        "outputId": "7f22f580-be0b-4d23-9d4d-7d89c9dd117b"
      },
      "source": [
        "np_data, np_index, xs = stream.trace_dataset(dataset)\n",
        "jnp_data, jnp_index, jxs = convert_to_tensors((np_data, np_index, xs), \"jax\")"
      ],
      "id": "76479f76-7b6e-4321-97c3-942f2987bc01",
      "execution_count": 23,
      "outputs": [
        {
          "output_type": "stream",
          "text": [
            "/usr/local/lib/python3.7/dist-packages/jax/_src/numpy/lax_numpy.py:3033: UserWarning: Explicitly requested dtype float64 requested in asarray is not available, and will be truncated to dtype float32. To enable more dtypes, set the jax_enable_x64 configuration option or the JAX_ENABLE_X64 shell environment variable. See https://github.com/google/jax#current-gotchas for more.\n",
            "  lax._check_user_dtype_supported(dtype, \"asarray\")\n",
            "/usr/local/lib/python3.7/dist-packages/jax/_src/numpy/lax_numpy.py:3033: UserWarning: Explicitly requested dtype int64 requested in asarray is not available, and will be truncated to dtype int32. To enable more dtypes, set the jax_enable_x64 configuration option or the JAX_ENABLE_X64 shell environment variable. See https://github.com/google/jax#current-gotchas for more.\n",
            "  lax._check_user_dtype_supported(dtype, \"asarray\")\n"
          ],
          "name": "stderr"
        }
      ]
    },
    {
      "cell_type": "markdown",
      "metadata": {
        "id": "a4fa1934-3633-4661-b808-c60e4b8c4600"
      },
      "source": [
        "We explicitly set data on CPUs (the is not needed if you only have CPUs):"
      ],
      "id": "a4fa1934-3633-4661-b808-c60e4b8c4600"
    },
    {
      "cell_type": "code",
      "metadata": {
        "colab": {
          "base_uri": "https://localhost:8080/"
        },
        "id": "bae591f7-e7ec-4b8b-9b80-6f129184e1ae",
        "outputId": "36f15d54-170f-4771-f571-ecacbc942026"
      },
      "source": [
        "from jax.tree_util import tree_leaves, tree_map\n",
        "\n",
        "cpus = jax.devices(\"cpu\")\n",
        "jnp_data, jnp_index, jxs = tree_map(\n",
        "    lambda x: jax.device_put(x, cpus[0]), (jnp_data, jnp_index, jxs)\n",
        ")\n",
        "print(\"data copied to CPU device.\")"
      ],
      "id": "bae591f7-e7ec-4b8b-9b80-6f129184e1ae",
      "execution_count": 24,
      "outputs": [
        {
          "output_type": "stream",
          "text": [
            "data copied to CPU device.\n"
          ],
          "name": "stdout"
        }
      ]
    },
    {
      "cell_type": "markdown",
      "metadata": {
        "id": "f851fbe7-096e-4399-ae5c-08739837dfeb"
      },
      "source": [
        "We have now \"JAX-ready\" data for later fast access."
      ],
      "id": "f851fbe7-096e-4399-ae5c-08739837dfeb"
    },
    {
      "cell_type": "markdown",
      "metadata": {
        "id": "19f3b58e-61f3-481c-a512-cb87bde622a8"
      },
      "source": [
        "Let's define the transformation that wrap the actual data and indices in a pair of\n",
        "pure functions:"
      ],
      "id": "19f3b58e-61f3-481c-a512-cb87bde622a8"
    },
    {
      "cell_type": "code",
      "metadata": {
        "id": "e7ebbb08-d790-4977-b49d-c9224e299a42"
      },
      "source": [
        "@jit_init_apply\n",
        "@hk.transform_with_state\n",
        "def transform_dataset(step):\n",
        "    dataset = tree_access_data(jnp_data, jnp_index, step)\n",
        "    return EWMA(alpha=1.0 / 10.0, adjust=True)(dataset[\"dataarray\"])"
      ],
      "id": "e7ebbb08-d790-4977-b49d-c9224e299a42",
      "execution_count": 25,
      "outputs": []
    },
    {
      "cell_type": "markdown",
      "metadata": {
        "id": "31fa1d05-c3d7-4543-ac82-d398044cdc2e"
      },
      "source": [
        "And we can call it as before:"
      ],
      "id": "31fa1d05-c3d7-4543-ac82-d398044cdc2e"
    },
    {
      "cell_type": "code",
      "metadata": {
        "colab": {
          "base_uri": "https://localhost:8080/"
        },
        "id": "f851407a-597f-4711-8370-c3e83cb50da7",
        "outputId": "3892357f-2d91-40b6-85bc-542e471ed28f"
      },
      "source": [
        "%%time\n",
        "outputs, state = dynamic_unroll(transform_dataset, None, None, rng, False, jxs)\n",
        "_ = outputs.block_until_ready()"
      ],
      "id": "f851407a-597f-4711-8370-c3e83cb50da7",
      "execution_count": 26,
      "outputs": [
        {
          "output_type": "stream",
          "text": [
            "CPU times: user 2.43 s, sys: 194 ms, total: 2.62 s\n",
            "Wall time: 2.56 s\n"
          ],
          "name": "stdout"
        }
      ]
    },
    {
      "cell_type": "code",
      "metadata": {
        "colab": {
          "base_uri": "https://localhost:8080/"
        },
        "id": "e5b786b7-ecaf-4280-894b-aa8f65a0b78f",
        "outputId": "2e3c126e-9c9d-49b4-caa5-67f215944188"
      },
      "source": [
        "outputs.device()"
      ],
      "id": "e5b786b7-ecaf-4280-894b-aa8f65a0b78f",
      "execution_count": 27,
      "outputs": [
        {
          "output_type": "execute_result",
          "data": {
            "text/plain": [
              "CpuDevice(id=0)"
            ]
          },
          "metadata": {
            "tags": []
          },
          "execution_count": 27
        }
      ]
    },
    {
      "cell_type": "markdown",
      "metadata": {
        "id": "6fa51498"
      },
      "source": [
        "## Step(3) (format)\n",
        "Let's come back to pandas/xarray:"
      ],
      "id": "6fa51498"
    },
    {
      "cell_type": "code",
      "metadata": {
        "colab": {
          "base_uri": "https://localhost:8080/"
        },
        "id": "d1b0732c",
        "outputId": "38e747c5-5b1c-40dc-c289-5aeebe503a8b"
      },
      "source": [
        "%%time\n",
        "y = format_dataframe(\n",
        "    dataset.coords, onp.array(outputs), format_dims=dataset.dataarray.dims\n",
        ")"
      ],
      "id": "d1b0732c",
      "execution_count": 28,
      "outputs": [
        {
          "output_type": "stream",
          "text": [
            "CPU times: user 123 ms, sys: 919 µs, total: 124 ms\n",
            "Wall time: 129 ms\n"
          ],
          "name": "stdout"
        }
      ]
    },
    {
      "cell_type": "markdown",
      "metadata": {
        "id": "e27bd3b8"
      },
      "source": [
        "It's quite slow (see WEP3 enhancement proposal)."
      ],
      "id": "e27bd3b8"
    },
    {
      "cell_type": "markdown",
      "metadata": {
        "id": "3cdc9281-6092-4368-a0e8-ed26a5114106"
      },
      "source": [
        "## GPU execution"
      ],
      "id": "3cdc9281-6092-4368-a0e8-ed26a5114106"
    },
    {
      "cell_type": "markdown",
      "metadata": {
        "id": "f0d4651d-9087-4f04-9f07-a4d92cd3ba1f"
      },
      "source": [
        "Let's look with execution on GPU"
      ],
      "id": "f0d4651d-9087-4f04-9f07-a4d92cd3ba1f"
    },
    {
      "cell_type": "code",
      "metadata": {
        "colab": {
          "base_uri": "https://localhost:8080/"
        },
        "id": "a30f6024-5e9c-4174-92ea-7207860d829d",
        "outputId": "95058ee2-9461-4e7e-f9b1-b1e55087dc9e"
      },
      "source": [
        "try:\n",
        "    gpus = jax.devices(\"gpu\")\n",
        "    jnp_data, jnp_index, jxs = tree_map(\n",
        "        lambda x: jax.device_put(x, gpus[0]), (jnp_data, jnp_index, jxs)\n",
        "    )\n",
        "    print(\"data copied to GPU device.\")\n",
        "    GPU_AVAILABLE = True\n",
        "except RuntimeError as err:\n",
        "    print(err)\n",
        "    GPU_AVAILABLE = False"
      ],
      "id": "a30f6024-5e9c-4174-92ea-7207860d829d",
      "execution_count": 29,
      "outputs": [
        {
          "output_type": "stream",
          "text": [
            "data copied to GPU device.\n"
          ],
          "name": "stdout"
        }
      ]
    },
    {
      "cell_type": "markdown",
      "metadata": {
        "id": "27d7cf26-f35b-489e-83b9-c120565d9b17"
      },
      "source": [
        "Let's check that our data is on the GPUs:"
      ],
      "id": "27d7cf26-f35b-489e-83b9-c120565d9b17"
    },
    {
      "cell_type": "code",
      "metadata": {
        "colab": {
          "base_uri": "https://localhost:8080/"
        },
        "id": "d6f00e5d-1b85-483d-9856-35de3a954b13",
        "outputId": "9d5d0ec1-4899-4d8e-d9f6-2232321ec42a"
      },
      "source": [
        "tree_leaves(jnp_data)[0].device()"
      ],
      "id": "d6f00e5d-1b85-483d-9856-35de3a954b13",
      "execution_count": 30,
      "outputs": [
        {
          "output_type": "execute_result",
          "data": {
            "text/plain": [
              "GpuDevice(id=0, process_index=0)"
            ]
          },
          "metadata": {
            "tags": []
          },
          "execution_count": 30
        }
      ]
    },
    {
      "cell_type": "code",
      "metadata": {
        "colab": {
          "base_uri": "https://localhost:8080/"
        },
        "id": "6f89fc7c-4824-4858-aee8-6fff7834c70c",
        "outputId": "5b5304de-0694-4944-92f1-63eee852ebf6"
      },
      "source": [
        "tree_leaves(jnp_index)[0].device()"
      ],
      "id": "6f89fc7c-4824-4858-aee8-6fff7834c70c",
      "execution_count": 31,
      "outputs": [
        {
          "output_type": "execute_result",
          "data": {
            "text/plain": [
              "GpuDevice(id=0, process_index=0)"
            ]
          },
          "metadata": {
            "tags": []
          },
          "execution_count": 31
        }
      ]
    },
    {
      "cell_type": "code",
      "metadata": {
        "colab": {
          "base_uri": "https://localhost:8080/"
        },
        "id": "ba2471ef-51e4-49f2-863c-aabafd401cbf",
        "outputId": "e6afa394-3e1b-4b9b-aea6-9dfe0d60ab86"
      },
      "source": [
        "jxs.device()"
      ],
      "id": "ba2471ef-51e4-49f2-863c-aabafd401cbf",
      "execution_count": 32,
      "outputs": [
        {
          "output_type": "execute_result",
          "data": {
            "text/plain": [
              "GpuDevice(id=0, process_index=0)"
            ]
          },
          "metadata": {
            "tags": []
          },
          "execution_count": 32
        }
      ]
    },
    {
      "cell_type": "code",
      "metadata": {
        "colab": {
          "base_uri": "https://localhost:8080/"
        },
        "id": "6c35bd5d-0113-455d-bd56-f7c31bf6c736",
        "lines_to_next_cell": 2,
        "outputId": "fda693e8-723e-436d-84f6-68a49a510be9"
      },
      "source": [
        "%%time\n",
        "if GPU_AVAILABLE:\n",
        "    rng = next(hk.PRNGSequence(42))\n",
        "    outputs, state = dynamic_unroll(transform_dataset, None, None, rng, False, jxs)"
      ],
      "id": "6c35bd5d-0113-455d-bd56-f7c31bf6c736",
      "execution_count": 33,
      "outputs": [
        {
          "output_type": "stream",
          "text": [
            "CPU times: user 1.72 s, sys: 546 ms, total: 2.27 s\n",
            "Wall time: 2.19 s\n"
          ],
          "name": "stdout"
        }
      ]
    },
    {
      "cell_type": "markdown",
      "metadata": {
        "id": "274b5615-8785-43e7-a2db-5f867566c913"
      },
      "source": [
        "Let's redefine our function `transform_dataset` by explicitly specify to `jax.jit` the `device` option."
      ],
      "id": "274b5615-8785-43e7-a2db-5f867566c913"
    },
    {
      "cell_type": "code",
      "metadata": {
        "colab": {
          "base_uri": "https://localhost:8080/"
        },
        "id": "6bb7431e-90f2-4761-a906-69f25fea4a63",
        "outputId": "285660f2-8379-4b8f-f89f-9f5a7240c419"
      },
      "source": [
        "%%time\n",
        "if GPU_AVAILABLE:\n",
        "\n",
        "    @hk.transform_with_state\n",
        "    def transform_dataset(step):\n",
        "        dataset = tree_access_data(jnp_data, jnp_index, step)\n",
        "        return EWMA(alpha=1.0 / 10.0, adjust=True)(dataset[\"dataarray\"])\n",
        "\n",
        "    transform_dataset = type(transform_dataset)(\n",
        "        transform_dataset.init, jax.jit(transform_dataset.apply, device=gpus[0])\n",
        "    )\n",
        "\n",
        "    rng = next(hk.PRNGSequence(42))\n",
        "    outputs, state = dynamic_unroll(transform_dataset, None, None, rng, False, jxs)"
      ],
      "id": "6bb7431e-90f2-4761-a906-69f25fea4a63",
      "execution_count": 34,
      "outputs": [
        {
          "output_type": "stream",
          "text": [
            "CPU times: user 1.62 s, sys: 14.2 ms, total: 1.63 s\n",
            "Wall time: 2.27 s\n"
          ],
          "name": "stdout"
        }
      ]
    },
    {
      "cell_type": "code",
      "metadata": {
        "colab": {
          "base_uri": "https://localhost:8080/"
        },
        "id": "944dcb8e-211c-4b39-b854-12118fe775ed",
        "outputId": "fbeeab1e-e245-4d85-ad5c-09530ec7d331"
      },
      "source": [
        "outputs.device()"
      ],
      "id": "944dcb8e-211c-4b39-b854-12118fe775ed",
      "execution_count": 35,
      "outputs": [
        {
          "output_type": "execute_result",
          "data": {
            "text/plain": [
              "GpuDevice(id=0, process_index=0)"
            ]
          },
          "metadata": {
            "tags": []
          },
          "execution_count": 35
        }
      ]
    },
    {
      "cell_type": "code",
      "metadata": {
        "colab": {
          "base_uri": "https://localhost:8080/"
        },
        "id": "de99ee71-4e02-4843-9e6e-39d831f9697e",
        "lines_to_next_cell": 0,
        "outputId": "4262991e-c488-4296-849d-b111e288c203"
      },
      "source": [
        "%%timeit\n",
        "if GPU_AVAILABLE:\n",
        "    outputs, state = dynamic_unroll(transform_dataset, None, None, rng, False, jxs)\n",
        "    _ = outputs.block_until_ready()"
      ],
      "id": "de99ee71-4e02-4843-9e6e-39d831f9697e",
      "execution_count": 36,
      "outputs": [
        {
          "output_type": "stream",
          "text": [
            "1 loop, best of 5: 1.27 s per loop\n"
          ],
          "name": "stdout"
        }
      ]
    },
    {
      "cell_type": "code",
      "metadata": {
        "id": "6oYJTYfNCgX0"
      },
      "source": [
        ""
      ],
      "id": "6oYJTYfNCgX0",
      "execution_count": 36,
      "outputs": []
    }
  ]
}