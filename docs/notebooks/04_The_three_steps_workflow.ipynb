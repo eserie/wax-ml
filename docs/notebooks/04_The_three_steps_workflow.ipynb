{
 "cells": [
  {
   "cell_type": "markdown",
   "id": "1fa1808c",
   "metadata": {},
   "source": [
    "# 🎛 The 3-steps workflow 🎛\n",
    "\n",
    "[![Open in Colab](https://colab.research.google.com/assets/colab-badge.svg)](https://colab.research.google.com/github/eserie/wax-ml/blob/main/docs/notebooks/04_The_three_steps_workflow.ipynb)"
   ]
  },
  {
   "cell_type": "markdown",
   "id": "2e1eefec",
   "metadata": {},
   "source": [
    "It is already very useful to be able to execute a JAX function on a dataframe in a single work step\n",
    "and with a single command line thanks to WAX accessors.\n",
    "\n",
    "The 1-step WAX's stream API works like that:\n",
    "```python\n",
    ".stream(...).apply(...)\n",
    "```\n",
    "\n",
    "But this is not optimal because, under the hood, there are mainly three costly steps:\n",
    "- (1) (synchronize | data tracing | encode): make the data \"JAX ready\"\n",
    "- (2) (compile | code tracing | execution): compile and optimize a function for XLA, execute it.\n",
    "- (3) (format): convert data back to pandas/xarray/numpy format.\n",
    "\n",
    "With the `wax.stream` primitives, it is quite easy to explicitly split the 1-step workflow\n",
    "into a 3-step workflow.\n",
    "\n",
    "This will allow the user to have full control over each step and iterate on each one.\n",
    "\n",
    "It is actually very useful to iterate on step (2), the \"calculation step\" when\n",
    "you are doing research.\n",
    "You can then take full advantage of the JAX primitives, especially the `jit` primitive.\n",
    "\n",
    "Let's illustrate how to reimplement WAX EWMA yourself with the WAX 3-step workflow."
   ]
  },
  {
   "cell_type": "markdown",
   "id": "bd2e906e",
   "metadata": {},
   "source": [
    "## Imports"
   ]
  },
  {
   "cell_type": "code",
   "execution_count": 1,
   "id": "2bdfbf9a",
   "metadata": {
    "tags": []
   },
   "outputs": [],
   "source": [
    "from functools import partial\n",
    "\n",
    "import haiku as hk\n",
    "import numpy as onp\n",
    "import pandas as pd\n",
    "import xarray as xr\n",
    "from eagerpy import convert_to_tensors\n",
    "\n",
    "from wax.accessors import register_wax_accessors\n",
    "from wax.compile import jit_init_apply\n",
    "from wax.format import format_dataframe\n",
    "from wax.modules import EWMA\n",
    "from wax.stream import tree_access_data\n",
    "from wax.unroll import dynamic_unroll\n",
    "\n",
    "register_wax_accessors()"
   ]
  },
  {
   "cell_type": "markdown",
   "id": "a0999c69",
   "metadata": {},
   "source": [
    "## Performance on big dataframes"
   ]
  },
  {
   "cell_type": "markdown",
   "id": "6f8447b4",
   "metadata": {},
   "source": [
    "### Generate data"
   ]
  },
  {
   "cell_type": "code",
   "execution_count": null,
   "id": "768d7802-580d-4c31-9a0e-e6dc4f0589ca",
   "metadata": {
    "tags": [
     "parameters"
    ]
   },
   "outputs": [],
   "source": [
    "T = 1.0e6\n",
    "N = 1000"
   ]
  },
  {
   "cell_type": "code",
   "execution_count": 2,
   "id": "03af743d",
   "metadata": {
    "tags": []
   },
   "outputs": [
    {
     "name": "stdout",
     "output_type": "stream",
     "text": [
      "CPU times: user 24.8 s, sys: 2.55 s, total: 27.3 s\n",
      "Wall time: 27.4 s\n"
     ]
    }
   ],
   "source": [
    "%%time\n",
    "T, N = map(int, (T, N))\n",
    "dataframe = pd.DataFrame(\n",
    "    onp.random.normal(size=(T, N)), index=pd.date_range(\"1970\", periods=T, freq=\"s\")\n",
    ")"
   ]
  },
  {
   "cell_type": "markdown",
   "id": "d1fd46f7",
   "metadata": {},
   "source": [
    "### Pandas EWMA"
   ]
  },
  {
   "cell_type": "code",
   "execution_count": 3,
   "id": "27092faf",
   "metadata": {
    "tags": []
   },
   "outputs": [
    {
     "name": "stdout",
     "output_type": "stream",
     "text": [
      "CPU times: user 47.1 s, sys: 7.02 s, total: 54.1 s\n",
      "Wall time: 54.6 s\n"
     ]
    }
   ],
   "source": [
    "%%time\n",
    "df_ewma_pandas = dataframe.ewm(alpha=1.0 / 10.0).mean()"
   ]
  },
  {
   "cell_type": "markdown",
   "id": "678be283",
   "metadata": {},
   "source": [
    "### WAX EWMA"
   ]
  },
  {
   "cell_type": "code",
   "execution_count": 4,
   "id": "11f3705d",
   "metadata": {
    "tags": []
   },
   "outputs": [
    {
     "name": "stderr",
     "output_type": "stream",
     "text": [
      "WARNING:absl:No GPU/TPU found, falling back to CPU. (Set TF_CPP_MIN_LOG_LEVEL=0 and rerun for more info.)\n"
     ]
    },
    {
     "name": "stdout",
     "output_type": "stream",
     "text": [
      "CPU times: user 22.7 s, sys: 11.5 s, total: 34.2 s\n",
      "Wall time: 39.9 s\n"
     ]
    }
   ],
   "source": [
    "%%time\n",
    "df_ewma_wax = dataframe.wax.ewm(alpha=1.0 / 10.0).mean()"
   ]
  },
  {
   "cell_type": "markdown",
   "id": "0d94d5cf",
   "metadata": {},
   "source": [
    "It's a little faster, but not that much faster..."
   ]
  },
  {
   "cell_type": "markdown",
   "id": "e51ee290",
   "metadata": {},
   "source": [
    "### WAX EWMA (without format step)"
   ]
  },
  {
   "cell_type": "markdown",
   "id": "7361def9",
   "metadata": {},
   "source": [
    "Let's disable the final formatting step (the output is now in raw JAX format):"
   ]
  },
  {
   "cell_type": "code",
   "execution_count": 5,
   "id": "f87f5668",
   "metadata": {
    "tags": []
   },
   "outputs": [
    {
     "name": "stdout",
     "output_type": "stream",
     "text": [
      "CPU times: user 4.63 s, sys: 5.48 s, total: 10.1 s\n",
      "Wall time: 11.7 s\n"
     ]
    }
   ],
   "source": [
    "%%time\n",
    "df_ewma_wax_no_format = dataframe.wax.ewm(alpha=1.0 / 10.0, format_outputs=False).mean()"
   ]
  },
  {
   "cell_type": "markdown",
   "id": "784ee16e",
   "metadata": {},
   "source": [
    "That's better! In fact (see below)\n",
    "there is a performance problem in the final formatting step.\n",
    "See WEP3 for a proposal to improve the formatting step."
   ]
  },
  {
   "cell_type": "markdown",
   "id": "c5e7b817",
   "metadata": {},
   "source": [
    "### Generate data (in dataset format)\n",
    "\n",
    "WAX `Sream` object works on datasets to we'll move form dataframe to datasets."
   ]
  },
  {
   "cell_type": "code",
   "execution_count": 6,
   "id": "9965444b",
   "metadata": {},
   "outputs": [],
   "source": [
    "dataset = xr.DataArray(dataframe).to_dataset(name=\"dataarray\")"
   ]
  },
  {
   "cell_type": "markdown",
   "id": "123965eb",
   "metadata": {},
   "source": [
    "## Step (1) (synchronize | data tracing | encode)\n",
    "\n",
    "In this step,  WAX do:\n",
    "- \"data tracing\" : prepare the indices for fast access tin the JAX function `access_data`\n",
    "- synchronize streams if there is multiple ones.\n",
    "  This functionality have options : `freq`, `ffills`\n",
    "- encode and convert data from numpy to JAX: use encoders for `datetimes64` and `string_`\n",
    "  dtypes. Be aware that by default JAX works in float32\n",
    "  (see [JAX's Common Gotchas](https://jax.readthedocs.io/en/latest/notebooks/Common_Gotchas_in_JAX.html#double-64bit-precision) to work in float64)."
   ]
  },
  {
   "cell_type": "code",
   "execution_count": 7,
   "id": "4c085f3e",
   "metadata": {},
   "outputs": [
    {
     "name": "stderr",
     "output_type": "stream",
     "text": [
      "/Users/eserie/dev/git/wax-ml/venv/lib/python3.7/site-packages/jax/_src/numpy/lax_numpy.py:2983: UserWarning: Explicitly requested dtype float64 requested in asarray is not available, and will be truncated to dtype float32. To enable more dtypes, set the jax_enable_x64 configuration option or the JAX_ENABLE_X64 shell environment variable. See https://github.com/google/jax#current-gotchas for more.\n",
      "  lax._check_user_dtype_supported(dtype, \"asarray\")\n"
     ]
    },
    {
     "name": "stdout",
     "output_type": "stream",
     "text": [
      "CPU times: user 4.41 s, sys: 3.04 s, total: 7.45 s\n",
      "Wall time: 2.71 s\n"
     ]
    },
    {
     "name": "stderr",
     "output_type": "stream",
     "text": [
      "/Users/eserie/dev/git/wax-ml/venv/lib/python3.7/site-packages/jax/_src/numpy/lax_numpy.py:2983: UserWarning: Explicitly requested dtype int64 requested in asarray is not available, and will be truncated to dtype int32. To enable more dtypes, set the jax_enable_x64 configuration option or the JAX_ENABLE_X64 shell environment variable. See https://github.com/google/jax#current-gotchas for more.\n",
      "  lax._check_user_dtype_supported(dtype, \"asarray\")\n"
     ]
    }
   ],
   "source": [
    "%%time\n",
    "stream = dataframe.wax.stream()\n",
    "np_data, np_index, xs = stream.trace_dataset(dataset)\n",
    "jnp_data, jnp_index, jxs = convert_to_tensors((np_data, np_index, xs), \"jax\")"
   ]
  },
  {
   "cell_type": "markdown",
   "id": "12c9fb08",
   "metadata": {},
   "source": [
    "We have now \"JAX-ready\" data for later fast access."
   ]
  },
  {
   "cell_type": "markdown",
   "id": "903a778c",
   "metadata": {},
   "source": [
    "## Step (2) (compile | code tracing | execution)"
   ]
  },
  {
   "cell_type": "markdown",
   "id": "425830f4",
   "metadata": {},
   "source": [
    "In this step we:\n",
    "- prepare a pure function (with\n",
    "  [Haiku's transform mechanism](https://dm-haiku.readthedocs.io/en/latest/api.html#haiku-transforms))\n",
    "  Define a \"transformation\" function which:\n",
    "    - access to the data\n",
    "    - apply another transformation, here: EWMA\n",
    "\n",
    "- compile it with `jax.jit`\n",
    "- perform code tracing and execution (the last line):\n",
    "    - Unroll the transformation on \"steps\" `xs` (a `np.arange` vector)."
   ]
  },
  {
   "cell_type": "code",
   "execution_count": 8,
   "id": "bcc3e722",
   "metadata": {},
   "outputs": [
    {
     "name": "stdout",
     "output_type": "stream",
     "text": [
      "CPU times: user 16 s, sys: 4.97 s, total: 21 s\n",
      "Wall time: 26.8 s\n"
     ]
    }
   ],
   "source": [
    "%%time\n",
    "@jit_init_apply\n",
    "@hk.transform_with_state\n",
    "def transform_dataset(step):\n",
    "    dataset = partial(tree_access_data, jnp_data, jnp_index)(step)\n",
    "    return EWMA(alpha=1.0 / 10.0, adjust=True)(dataset[\"dataarray\"])\n",
    "\n",
    "\n",
    "rng = next(hk.PRNGSequence(42))\n",
    "outputs, state = dynamic_unroll(transform_dataset, None, None, rng, False, xs)"
   ]
  },
  {
   "cell_type": "markdown",
   "id": "b73f3252",
   "metadata": {},
   "source": [
    "Once it has been compiled and \"traced\" by JAX, the function is much faster to execute:"
   ]
  },
  {
   "cell_type": "code",
   "execution_count": 9,
   "id": "a889d294",
   "metadata": {
    "tags": []
   },
   "outputs": [
    {
     "name": "stdout",
     "output_type": "stream",
     "text": [
      "CPU times: user 16.7 s, sys: 3.76 s, total: 20.5 s\n",
      "Wall time: 17.6 s\n"
     ]
    }
   ],
   "source": [
    "%%time\n",
    "outputs, state = dynamic_unroll(transform_dataset, None, None, rng, False, xs)"
   ]
  },
  {
   "cell_type": "markdown",
   "id": "987e8b63",
   "metadata": {},
   "source": [
    "This is between 10x and 40x faster (time may vary) and 130 x faster than pandas implementation!"
   ]
  },
  {
   "cell_type": "markdown",
   "id": "6fa51498",
   "metadata": {},
   "source": [
    "## Step(3) (format)\n",
    "Let's come back to pandas/xarray:"
   ]
  },
  {
   "cell_type": "code",
   "execution_count": 10,
   "id": "d1b0732c",
   "metadata": {},
   "outputs": [
    {
     "name": "stdout",
     "output_type": "stream",
     "text": [
      "CPU times: user 16.7 s, sys: 2.91 s, total: 19.7 s\n",
      "Wall time: 18.7 s\n"
     ]
    }
   ],
   "source": [
    "%%time\n",
    "y = format_dataframe(\n",
    "    dataset.coords, onp.array(outputs), format_dims=dataset.dataarray.dims\n",
    ")"
   ]
  },
  {
   "cell_type": "markdown",
   "id": "e27bd3b8",
   "metadata": {},
   "source": [
    "It's quite slow (see WEP3 enhancement proposal)."
   ]
  }
 ],
 "metadata": {
  "jupytext": {
   "encoding": "# -*- coding: utf-8 -*-",
   "formats": "ipynb,py,md:myst"
  },
  "kernelspec": {
   "display_name": "Python 3",
   "language": "python",
   "name": "python3"
  },
  "language_info": {
   "codemirror_mode": {
    "name": "ipython",
    "version": 3
   },
   "file_extension": ".py",
   "mimetype": "text/x-python",
   "name": "python",
   "nbconvert_exporter": "python",
   "pygments_lexer": "ipython3",
   "version": "3.7.10"
  }
 },
 "nbformat": 4,
 "nbformat_minor": 5
}
