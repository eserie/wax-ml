{
 "cells": [
  {
   "cell_type": "code",
   "execution_count": 1,
   "id": "2b295407-92c4-4818-bfb9-f445f6967f10",
   "metadata": {},
   "outputs": [],
   "source": [
    "# Uncomment to run the notebook in Colab\n",
    "# ! pip install -q \"wax-ml[complete]@git+https://github.com/eserie/wax-ml.git\"\n",
    "# ! pip install -q --upgrade jax jaxlib==0.1.67+cuda111 -f https://storage.googleapis.com/jax-releases/jax_releases.html"
   ]
  },
  {
   "cell_type": "code",
   "execution_count": 2,
   "id": "ff30291d",
   "metadata": {},
   "outputs": [],
   "source": [
    "# check available devices\n",
    "import jax"
   ]
  },
  {
   "cell_type": "code",
   "execution_count": 3,
   "id": "a3cdb104",
   "metadata": {},
   "outputs": [
    {
     "name": "stderr",
     "output_type": "stream",
     "text": [
      "WARNING:absl:No GPU/TPU found, falling back to CPU. (Set TF_CPP_MIN_LOG_LEVEL=0 and rerun for more info.)\n",
      "WARNING:absl:No GPU/TPU found, falling back to CPU. (Set TF_CPP_MIN_LOG_LEVEL=0 and rerun for more info.)\n"
     ]
    },
    {
     "name": "stdout",
     "output_type": "stream",
     "text": [
      "jax backend cpu\n"
     ]
    },
    {
     "data": {
      "text/plain": [
       "[CpuDevice(id=0)]"
      ]
     },
     "execution_count": 3,
     "metadata": {},
     "output_type": "execute_result"
    }
   ],
   "source": [
    "print(\"jax backend {}\".format(jax.lib.xla_bridge.get_backend().platform))\n",
    "jax.devices()"
   ]
  },
  {
   "cell_type": "markdown",
   "id": "1fa1808c",
   "metadata": {},
   "source": [
    "# 🎛 The 3-steps workflow 🎛\n",
    "\n",
    "[![Open in Colab](https://colab.research.google.com/assets/colab-badge.svg)](https://colab.research.google.com/github/eserie/wax-ml/blob/main/docs/notebooks/04_The_three_steps_workflow.ipynb)"
   ]
  },
  {
   "cell_type": "markdown",
   "id": "2e1eefec",
   "metadata": {},
   "source": [
    "It is already very useful to be able to execute a JAX function on a dataframe in a single work step\n",
    "and with a single command line thanks to WAX-ML accessors.\n",
    "\n",
    "The 1-step WAX-ML's stream API works like that:\n",
    "```python\n",
    "<data-container>.stream(...).apply(...)\n",
    "```\n",
    "\n",
    "But this is not optimal because, under the hood, there are mainly three costly steps:\n",
    "- (1) (synchronize | data tracing | encode): make the data \"JAX ready\"\n",
    "- (2) (compile | code tracing | execution): compile and optimize a function for XLA, execute it.\n",
    "- (3) (format): convert data back to pandas/xarray/numpy format.\n",
    "\n",
    "With the `wax.stream` primitives, it is quite easy to explicitly split the 1-step workflow\n",
    "into a 3-step workflow.\n",
    "\n",
    "This will allow the user to have full control over each step and iterate on each one.\n",
    "\n",
    "It is actually very useful to iterate on step (2), the \"calculation step\" when\n",
    "you are doing research.\n",
    "You can then take full advantage of the JAX primitives, especially the `jit` primitive.\n",
    "\n",
    "Let's illustrate how to reimplement WAX-ML EWMA yourself with the WAX-ML 3-step workflow."
   ]
  },
  {
   "cell_type": "markdown",
   "id": "bd2e906e",
   "metadata": {},
   "source": [
    "## Imports"
   ]
  },
  {
   "cell_type": "code",
   "execution_count": 4,
   "id": "2bdfbf9a",
   "metadata": {
    "tags": []
   },
   "outputs": [],
   "source": [
    "import haiku as hk\n",
    "import numpy as onp\n",
    "import pandas as pd\n",
    "import xarray as xr\n",
    "\n",
    "from wax.accessors import register_wax_accessors\n",
    "from wax.compile import jit_init_apply\n",
    "from wax.external.eagerpy import convert_to_tensors\n",
    "from wax.format import format_dataframe\n",
    "from wax.modules import EWMA\n",
    "from wax.stream import tree_access_data\n",
    "from wax.unroll import dynamic_unroll\n",
    "\n",
    "register_wax_accessors()"
   ]
  },
  {
   "cell_type": "markdown",
   "id": "a0999c69",
   "metadata": {},
   "source": [
    "## Performance on big dataframes"
   ]
  },
  {
   "cell_type": "markdown",
   "id": "6f8447b4",
   "metadata": {},
   "source": [
    "### Generate data"
   ]
  },
  {
   "cell_type": "code",
   "execution_count": 5,
   "id": "768d7802-580d-4c31-9a0e-e6dc4f0589ca",
   "metadata": {
    "tags": [
     "parameters"
    ]
   },
   "outputs": [],
   "source": [
    "T = 1.0e5\n",
    "N = 1000"
   ]
  },
  {
   "cell_type": "code",
   "execution_count": 6,
   "id": "03af743d",
   "metadata": {
    "tags": []
   },
   "outputs": [
    {
     "name": "stdout",
     "output_type": "stream",
     "text": [
      "CPU times: user 2.46 s, sys: 211 ms, total: 2.67 s\n",
      "Wall time: 2.67 s\n"
     ]
    }
   ],
   "source": [
    "%%time\n",
    "T, N = map(int, (T, N))\n",
    "dataframe = pd.DataFrame(\n",
    "    onp.random.normal(size=(T, N)), index=pd.date_range(\"1970\", periods=T, freq=\"s\")\n",
    ")"
   ]
  },
  {
   "cell_type": "markdown",
   "id": "d1fd46f7",
   "metadata": {},
   "source": [
    "### Pandas EWMA"
   ]
  },
  {
   "cell_type": "code",
   "execution_count": 7,
   "id": "27092faf",
   "metadata": {
    "tags": []
   },
   "outputs": [
    {
     "name": "stdout",
     "output_type": "stream",
     "text": [
      "CPU times: user 2.77 s, sys: 444 ms, total: 3.21 s\n",
      "Wall time: 3.21 s\n"
     ]
    }
   ],
   "source": [
    "%%time\n",
    "df_ewma_pandas = dataframe.ewm(alpha=1.0 / 10.0).mean()"
   ]
  },
  {
   "cell_type": "markdown",
   "id": "678be283",
   "metadata": {},
   "source": [
    "### WAX-ML EWMA"
   ]
  },
  {
   "cell_type": "code",
   "execution_count": 8,
   "id": "11f3705d",
   "metadata": {
    "tags": []
   },
   "outputs": [
    {
     "name": "stdout",
     "output_type": "stream",
     "text": [
      "CPU times: user 2.06 s, sys: 390 ms, total: 2.45 s\n",
      "Wall time: 2.4 s\n"
     ]
    }
   ],
   "source": [
    "%%time\n",
    "df_ewma_wax = dataframe.wax.ewm(alpha=1.0 / 10.0).mean()"
   ]
  },
  {
   "cell_type": "markdown",
   "id": "0d94d5cf",
   "metadata": {},
   "source": [
    "It's a little faster, but not that much faster..."
   ]
  },
  {
   "cell_type": "markdown",
   "id": "e51ee290",
   "metadata": {},
   "source": [
    "### WAX-ML EWMA (without format step)"
   ]
  },
  {
   "cell_type": "markdown",
   "id": "7361def9",
   "metadata": {},
   "source": [
    "Let's disable the final formatting step (the output is now in raw JAX format):"
   ]
  },
  {
   "cell_type": "code",
   "execution_count": 9,
   "id": "f87f5668",
   "metadata": {
    "tags": []
   },
   "outputs": [
    {
     "name": "stdout",
     "output_type": "stream",
     "text": [
      "CPU times: user 444 ms, sys: 245 ms, total: 689 ms\n",
      "Wall time: 687 ms\n"
     ]
    }
   ],
   "source": [
    "%%time\n",
    "df_ewma_wax_no_format = dataframe.wax.ewm(alpha=1.0 / 10.0, format_outputs=False).mean()"
   ]
  },
  {
   "cell_type": "code",
   "execution_count": 10,
   "id": "88d0cab5-62ad-47f7-9d06-56fc45fa542e",
   "metadata": {},
   "outputs": [
    {
     "data": {
      "text/plain": [
       "jaxlib.xla_extension.DeviceArray"
      ]
     },
     "execution_count": 10,
     "metadata": {},
     "output_type": "execute_result"
    }
   ],
   "source": [
    "type(df_ewma_wax_no_format)"
   ]
  },
  {
   "cell_type": "markdown",
   "id": "9be62475-b2fa-4a95-b293-7e4410ca36ca",
   "metadata": {},
   "source": [
    "Let's check the device on which the calculation was performed (if you have GPU available, this should be `GpuDevice` otherwise it will be `CpuDevice`):"
   ]
  },
  {
   "cell_type": "code",
   "execution_count": 11,
   "id": "38d3970c-04a5-4deb-93b3-a4f5f899e8f1",
   "metadata": {},
   "outputs": [
    {
     "data": {
      "text/plain": [
       "CpuDevice(id=0)"
      ]
     },
     "execution_count": 11,
     "metadata": {},
     "output_type": "execute_result"
    }
   ],
   "source": [
    "df_ewma_wax_no_format.device()"
   ]
  },
  {
   "cell_type": "markdown",
   "id": "784ee16e",
   "metadata": {},
   "source": [
    "That's better! In fact (see below)\n",
    "there is a performance problem in the final formatting step.\n",
    "See WEP3 for a proposal to improve the formatting step."
   ]
  },
  {
   "cell_type": "markdown",
   "id": "c5e7b817",
   "metadata": {},
   "source": [
    "### Generate data (in dataset format)\n",
    "\n",
    "WAX-ML `Sream` object works on datasets.\n",
    "So let's transform the `DataFrame` into a xarray `Dataset`:"
   ]
  },
  {
   "cell_type": "code",
   "execution_count": 12,
   "id": "9965444b",
   "metadata": {},
   "outputs": [],
   "source": [
    "dataset = xr.DataArray(dataframe).to_dataset(name=\"dataarray\")"
   ]
  },
  {
   "cell_type": "markdown",
   "id": "123965eb",
   "metadata": {},
   "source": [
    "## Step (1) (synchronize | data tracing | encode)\n",
    "\n",
    "In this step,  WAX-ML do:\n",
    "- \"data tracing\" : prepare the indices for fast access tin the JAX function `access_data`\n",
    "- synchronize streams if there is multiple ones.\n",
    "  This functionality have options : `freq`, `ffills`\n",
    "- encode and convert data from numpy to JAX: use encoders for `datetimes64` and `string_`\n",
    "  dtypes. Be aware that by default JAX works in float32\n",
    "  (see [JAX's Common Gotchas](https://jax.readthedocs.io/en/latest/notebooks/Common_Gotchas_in_JAX.html#double-64bit-precision) to work in float64).\n",
    "\n",
    "We have a function `Stream.prepare` that implement this Step (1).\n",
    "It prepares a function that wraps the input function with the actual data and indices\n",
    "in a pair of pure functions (`TransformedWithState` Haiku tuple)."
   ]
  },
  {
   "cell_type": "code",
   "execution_count": 13,
   "id": "5f6b72ca",
   "metadata": {
    "lines_to_next_cell": 1
   },
   "outputs": [
    {
     "name": "stdout",
     "output_type": "stream",
     "text": [
      "CPU times: user 18 µs, sys: 2 µs, total: 20 µs\n",
      "Wall time: 22.9 µs\n"
     ]
    }
   ],
   "source": [
    "%%time\n",
    "stream = dataframe.wax.stream()"
   ]
  },
  {
   "cell_type": "markdown",
   "id": "4cc34aad-3e15-4220-9dff-30dcad660307",
   "metadata": {
    "lines_to_next_cell": 2
   },
   "source": [
    "Define our custom function to be applied on a dict of arrays\n",
    "having the same structure than the original dataset:"
   ]
  },
  {
   "cell_type": "code",
   "execution_count": 14,
   "id": "2bfa2a6c",
   "metadata": {
    "lines_to_next_cell": 1
   },
   "outputs": [],
   "source": [
    "def my_ewma_on_dataset(dataset):\n",
    "    return EWMA(alpha=1.0 / 10.0, adjust=True)(dataset[\"dataarray\"])"
   ]
  },
  {
   "cell_type": "code",
   "execution_count": 17,
   "id": "4735903f",
   "metadata": {},
   "outputs": [],
   "source": [
    "transform_dataset, jxs = stream.prepare(dataset, my_ewma_on_dataset)"
   ]
  },
  {
   "cell_type": "markdown",
   "id": "18b31346-501a-407b-b586-780117d043f3",
   "metadata": {},
   "source": [
    "Let's definite the init parameters and state of the transformation we\n",
    "will apply."
   ]
  },
  {
   "cell_type": "markdown",
   "id": "78ea9eda-d0cc-4dba-8b2a-60fbf1dd41bd",
   "metadata": {},
   "source": [
    "### Init params and state"
   ]
  },
  {
   "cell_type": "code",
   "execution_count": 18,
   "id": "47b1ebdf-ff32-4c2a-ae0b-51b88882328b",
   "metadata": {},
   "outputs": [],
   "source": [
    "from wax.unroll import init_params_state"
   ]
  },
  {
   "cell_type": "code",
   "execution_count": 19,
   "id": "ea6651f6-0db8-48f0-b578-013b2cb74272",
   "metadata": {},
   "outputs": [],
   "source": [
    "rng = jax.random.PRNGKey(42)\n",
    "params, state = init_params_state(transform_dataset, rng, jxs)"
   ]
  },
  {
   "cell_type": "code",
   "execution_count": 20,
   "id": "dc9a4bce-83d1-494b-b053-c6f9ebfb7d0c",
   "metadata": {},
   "outputs": [
    {
     "data": {
      "text/plain": [
       "FlatMapping({'ewma': FlatMapping({'alpha': DeviceArray(0.1, dtype=float32)})})"
      ]
     },
     "execution_count": 20,
     "metadata": {},
     "output_type": "execute_result"
    }
   ],
   "source": [
    "params"
   ]
  },
  {
   "cell_type": "code",
   "execution_count": 21,
   "id": "4dd83bef-ef68-4576-973f-594f18123944",
   "metadata": {
    "lines_to_next_cell": 2
   },
   "outputs": [],
   "source": [
    "assert state[\"ewma\"][\"count\"].shape == (N,)\n",
    "assert state[\"ewma\"][\"mean\"].shape == (N,)"
   ]
  },
  {
   "cell_type": "markdown",
   "id": "903a778c",
   "metadata": {},
   "source": [
    "## Step (2) (compile | code tracing | execution)"
   ]
  },
  {
   "cell_type": "markdown",
   "id": "425830f4",
   "metadata": {},
   "source": [
    "In this step we:\n",
    "- prepare a pure function (with\n",
    "  [Haiku's transform mechanism](https://dm-haiku.readthedocs.io/en/latest/api.html#haiku-transforms))\n",
    "  Define a \"transformation\" function which:\n",
    "    - access to the data\n",
    "    - apply another transformation, here: EWMA\n",
    "\n",
    "- compile it with `jax.jit`\n",
    "- perform code tracing and execution (the last line):\n",
    "    - Unroll the transformation on \"steps\" `xs` (a `np.arange` vector)."
   ]
  },
  {
   "cell_type": "code",
   "execution_count": 22,
   "id": "6825fdc8-1773-4e04-a41c-a126a1527891",
   "metadata": {},
   "outputs": [],
   "source": [
    "rng = next(hk.PRNGSequence(42))\n",
    "outputs, state = dynamic_unroll(transform_dataset, None, None, rng, False, jxs)"
   ]
  },
  {
   "cell_type": "code",
   "execution_count": 23,
   "id": "3862a486-a5a2-4aa9-967a-59ebc32a18e1",
   "metadata": {},
   "outputs": [
    {
     "data": {
      "text/plain": [
       "CpuDevice(id=0)"
      ]
     },
     "execution_count": 23,
     "metadata": {},
     "output_type": "execute_result"
    }
   ],
   "source": [
    "outputs.device()"
   ]
  },
  {
   "cell_type": "markdown",
   "id": "b73f3252",
   "metadata": {},
   "source": [
    "Once it has been compiled and \"traced\" by JAX, the function is much faster to execute:"
   ]
  },
  {
   "cell_type": "code",
   "execution_count": 24,
   "id": "a889d294",
   "metadata": {
    "tags": []
   },
   "outputs": [
    {
     "name": "stdout",
     "output_type": "stream",
     "text": [
      "1.55 s ± 15.8 ms per loop (mean ± std. dev. of 7 runs, 1 loop each)\n"
     ]
    }
   ],
   "source": [
    "%%timeit\n",
    "outputs, state = dynamic_unroll(transform_dataset, None, None, rng, False, jxs)"
   ]
  },
  {
   "cell_type": "code",
   "execution_count": 25,
   "id": "f19185cd-15c2-4c9c-bbff-8d50deb1fee2",
   "metadata": {},
   "outputs": [
    {
     "name": "stdout",
     "output_type": "stream",
     "text": [
      "CPU times: user 1.63 s, sys: 82.7 ms, total: 1.72 s\n",
      "Wall time: 1.56 s\n"
     ]
    }
   ],
   "source": [
    "%%time\n",
    "outputs, state = dynamic_unroll(transform_dataset, None, None, rng, False, jxs)"
   ]
  },
  {
   "cell_type": "markdown",
   "id": "987e8b63",
   "metadata": {},
   "source": [
    "This is 3x faster than pandas implementation!\n",
    "\n",
    "(The 3x factor is obtained by measuring the execution with %timeit.\n",
    "We don't know why, but when executing a code cell once at a time, then the execution time can vary a lot and we can observe some executions with a speed-up of 100x)."
   ]
  },
  {
   "cell_type": "markdown",
   "id": "4c8acec1-4414-4340-9cfc-199e90565d4d",
   "metadata": {},
   "source": [
    "### Manually prepare the data and manage the device"
   ]
  },
  {
   "cell_type": "markdown",
   "id": "8b76775b-76f7-45ae-8bc7-66a6f945370f",
   "metadata": {},
   "source": [
    "In order to manage the device on which the computations take place,\n",
    "we need to have even more control over the execution flow.\n",
    "Instead of calling `stream.prepare` to build the `transform_dataset` function,\n",
    "we can do it ourselves by :\n",
    "- using the `stream.trace_dataset` function\n",
    "- converting the numpy data in jax ourself\n",
    "- puting the data on the device we want."
   ]
  },
  {
   "cell_type": "code",
   "execution_count": 28,
   "id": "76479f76-7b6e-4321-97c3-942f2987bc01",
   "metadata": {},
   "outputs": [],
   "source": [
    "np_data, np_index, xs = stream.trace_dataset(dataset)\n",
    "jnp_data, jnp_index, jxs = convert_to_tensors((np_data, np_index, xs), \"jax\")"
   ]
  },
  {
   "cell_type": "markdown",
   "id": "a4fa1934-3633-4661-b808-c60e4b8c4600",
   "metadata": {},
   "source": [
    "We explicitly set data on CPUs (the is not needed if you only have CPUs):"
   ]
  },
  {
   "cell_type": "code",
   "execution_count": 29,
   "id": "bae591f7-e7ec-4b8b-9b80-6f129184e1ae",
   "metadata": {},
   "outputs": [
    {
     "name": "stdout",
     "output_type": "stream",
     "text": [
      "data copied to CPU device.\n"
     ]
    }
   ],
   "source": [
    "from jax.tree_util import tree_leaves, tree_map\n",
    "\n",
    "cpus = jax.devices(\"cpu\")\n",
    "jnp_data, jnp_index, jxs = tree_map(\n",
    "    lambda x: jax.device_put(x, cpus[0]), (jnp_data, jnp_index, jxs)\n",
    ")\n",
    "print(\"data copied to CPU device.\")"
   ]
  },
  {
   "cell_type": "markdown",
   "id": "f851fbe7-096e-4399-ae5c-08739837dfeb",
   "metadata": {},
   "source": [
    "We have now \"JAX-ready\" data for later fast access."
   ]
  },
  {
   "cell_type": "markdown",
   "id": "19f3b58e-61f3-481c-a512-cb87bde622a8",
   "metadata": {},
   "source": [
    "Let's define the transformation that wrap the actual data and indices in a pair of\n",
    "pure functions:"
   ]
  },
  {
   "cell_type": "code",
   "execution_count": 30,
   "id": "e7ebbb08-d790-4977-b49d-c9224e299a42",
   "metadata": {},
   "outputs": [
    {
     "name": "stdout",
     "output_type": "stream",
     "text": [
      "CPU times: user 149 µs, sys: 1 µs, total: 150 µs\n",
      "Wall time: 156 µs\n"
     ]
    }
   ],
   "source": [
    "%%time\n",
    "@jit_init_apply\n",
    "@hk.transform_with_state\n",
    "def transform_dataset(step):\n",
    "    dataset = tree_access_data(jnp_data, jnp_index, step)\n",
    "    return EWMA(alpha=1.0 / 10.0, adjust=True)(dataset[\"dataarray\"])"
   ]
  },
  {
   "cell_type": "markdown",
   "id": "31fa1d05-c3d7-4543-ac82-d398044cdc2e",
   "metadata": {},
   "source": [
    "And we can call it as before:"
   ]
  },
  {
   "cell_type": "code",
   "execution_count": 31,
   "id": "f851407a-597f-4711-8370-c3e83cb50da7",
   "metadata": {},
   "outputs": [
    {
     "name": "stdout",
     "output_type": "stream",
     "text": [
      "CPU times: user 387 ms, sys: 240 ms, total: 627 ms\n",
      "Wall time: 544 ms\n"
     ]
    }
   ],
   "source": [
    "%%time\n",
    "outputs, state = dynamic_unroll(transform_dataset, None, None, rng, False, jxs)"
   ]
  },
  {
   "cell_type": "code",
   "execution_count": 32,
   "id": "e5b786b7-ecaf-4280-894b-aa8f65a0b78f",
   "metadata": {},
   "outputs": [
    {
     "data": {
      "text/plain": [
       "CpuDevice(id=0)"
      ]
     },
     "execution_count": 32,
     "metadata": {},
     "output_type": "execute_result"
    }
   ],
   "source": [
    "outputs.device()"
   ]
  },
  {
   "cell_type": "markdown",
   "id": "6fa51498",
   "metadata": {},
   "source": [
    "## Step(3) (format)\n",
    "Let's come back to pandas/xarray:"
   ]
  },
  {
   "cell_type": "code",
   "execution_count": 33,
   "id": "d1b0732c",
   "metadata": {},
   "outputs": [
    {
     "name": "stdout",
     "output_type": "stream",
     "text": [
      "CPU times: user 766 ms, sys: 8.93 ms, total: 775 ms\n",
      "Wall time: 774 ms\n"
     ]
    }
   ],
   "source": [
    "%%time\n",
    "y = format_dataframe(\n",
    "    dataset.coords, onp.array(outputs), format_dims=dataset.dataarray.dims\n",
    ")"
   ]
  },
  {
   "cell_type": "markdown",
   "id": "e27bd3b8",
   "metadata": {},
   "source": [
    "It's quite slow (see WEP3 enhancement proposal)."
   ]
  },
  {
   "cell_type": "markdown",
   "id": "86c5009b-b2e1-4158-9a73-2e30872ce27d",
   "metadata": {
    "lines_to_next_cell": 2
   },
   "source": [
    "## GPU execution"
   ]
  },
  {
   "cell_type": "markdown",
   "id": "3cdc9281-6092-4368-a0e8-ed26a5114106",
   "metadata": {},
   "source": [
    "## GPU execution"
   ]
  },
  {
   "cell_type": "markdown",
   "id": "f0d4651d-9087-4f04-9f07-a4d92cd3ba1f",
   "metadata": {},
   "source": [
    "Let's look with execution on GPU"
   ]
  },
  {
   "cell_type": "code",
   "execution_count": 34,
   "id": "a30f6024-5e9c-4174-92ea-7207860d829d",
   "metadata": {},
   "outputs": [
    {
     "name": "stdout",
     "output_type": "stream",
     "text": [
      "Unknown backend gpu. Available: ['interpreter', 'cpu']\n"
     ]
    }
   ],
   "source": [
    "try:\n",
    "    gpus = jax.devices(\"gpu\")\n",
    "    jnp_data, jnp_index, jxs = tree_map(\n",
    "        lambda x: jax.device_put(x, gpus[0]), (jnp_data, jnp_index, jxs)\n",
    "    )\n",
    "    print(\"data copied to GPU device.\")\n",
    "    GPU_AVAILABLE = True\n",
    "except RuntimeError as err:\n",
    "    print(err)\n",
    "    GPU_AVAILABLE = False"
   ]
  },
  {
   "cell_type": "markdown",
   "id": "27d7cf26-f35b-489e-83b9-c120565d9b17",
   "metadata": {},
   "source": [
    "Let's check that our data is on the GPUs:"
   ]
  },
  {
   "cell_type": "code",
   "execution_count": 35,
   "id": "d6f00e5d-1b85-483d-9856-35de3a954b13",
   "metadata": {},
   "outputs": [
    {
     "data": {
      "text/plain": [
       "CpuDevice(id=0)"
      ]
     },
     "execution_count": 35,
     "metadata": {},
     "output_type": "execute_result"
    }
   ],
   "source": [
    "tree_leaves(jnp_data)[0].device()"
   ]
  },
  {
   "cell_type": "code",
   "execution_count": 36,
   "id": "6f89fc7c-4824-4858-aee8-6fff7834c70c",
   "metadata": {},
   "outputs": [
    {
     "data": {
      "text/plain": [
       "CpuDevice(id=0)"
      ]
     },
     "execution_count": 36,
     "metadata": {},
     "output_type": "execute_result"
    }
   ],
   "source": [
    "tree_leaves(jnp_index)[0].device()"
   ]
  },
  {
   "cell_type": "code",
   "execution_count": 37,
   "id": "ba2471ef-51e4-49f2-863c-aabafd401cbf",
   "metadata": {},
   "outputs": [
    {
     "data": {
      "text/plain": [
       "CpuDevice(id=0)"
      ]
     },
     "execution_count": 37,
     "metadata": {},
     "output_type": "execute_result"
    }
   ],
   "source": [
    "jxs.device()"
   ]
  },
  {
   "cell_type": "code",
   "execution_count": 38,
   "id": "6c35bd5d-0113-455d-bd56-f7c31bf6c736",
   "metadata": {
    "lines_to_next_cell": 2
   },
   "outputs": [
    {
     "name": "stdout",
     "output_type": "stream",
     "text": [
      "CPU times: user 3 µs, sys: 2 µs, total: 5 µs\n",
      "Wall time: 8.82 µs\n"
     ]
    }
   ],
   "source": [
    "%%time\n",
    "if GPU_AVAILABLE:\n",
    "    rng = next(hk.PRNGSequence(42))\n",
    "    outputs, state = dynamic_unroll(transform_dataset, None, None, rng, False, jxs)"
   ]
  },
  {
   "cell_type": "markdown",
   "id": "274b5615-8785-43e7-a2db-5f867566c913",
   "metadata": {},
   "source": [
    "Let's redefine our function `transform_dataset` by explicitly specify to `jax.jit` the `device` option."
   ]
  },
  {
   "cell_type": "code",
   "execution_count": 39,
   "id": "6bb7431e-90f2-4761-a906-69f25fea4a63",
   "metadata": {},
   "outputs": [
    {
     "name": "stdout",
     "output_type": "stream",
     "text": [
      "CPU times: user 2 µs, sys: 2 µs, total: 4 µs\n",
      "Wall time: 7.15 µs\n"
     ]
    }
   ],
   "source": [
    "%%time\n",
    "if GPU_AVAILABLE:\n",
    "\n",
    "    @hk.transform_with_state\n",
    "    def transform_dataset(step):\n",
    "        dataset = tree_access_data(jnp_data, jnp_index, step)\n",
    "        return EWMA(alpha=1.0 / 10.0, adjust=True)(dataset[\"dataarray\"])\n",
    "\n",
    "    transform_dataset = type(transform_dataset)(\n",
    "        transform_dataset.init, jax.jit(transform_dataset.apply, device=gpus[0])\n",
    "    )\n",
    "\n",
    "    rng = next(hk.PRNGSequence(42))\n",
    "    outputs, state = dynamic_unroll(transform_dataset, None, None, rng, False, jxs)"
   ]
  },
  {
   "cell_type": "code",
   "execution_count": 44,
   "id": "944dcb8e-211c-4b39-b854-12118fe775ed",
   "metadata": {},
   "outputs": [
    {
     "data": {
      "text/plain": [
       "CpuDevice(id=0)"
      ]
     },
     "execution_count": 44,
     "metadata": {},
     "output_type": "execute_result"
    }
   ],
   "source": [
    "outputs.device()"
   ]
  },
  {
   "cell_type": "code",
   "execution_count": 45,
   "id": "de99ee71-4e02-4843-9e6e-39d831f9697e",
   "metadata": {},
   "outputs": [
    {
     "name": "stdout",
     "output_type": "stream",
     "text": [
      "17.5 ns ± 0.151 ns per loop (mean ± std. dev. of 7 runs, 100000000 loops each)\n"
     ]
    }
   ],
   "source": [
    "%%timeit\n",
    "if GPU_AVAILABLE:\n",
    "    outputs, state = dynamic_unroll(transform_dataset, None, None, rng, False, jxs)"
   ]
  }
 ],
 "metadata": {
  "jupytext": {
   "encoding": "# -*- coding: utf-8 -*-",
   "formats": "ipynb,py,md:myst"
  },
  "kernelspec": {
   "display_name": "Python 3",
   "language": "python",
   "name": "python3"
  },
  "language_info": {
   "codemirror_mode": {
    "name": "ipython",
    "version": 3
   },
   "file_extension": ".py",
   "mimetype": "text/x-python",
   "name": "python",
   "nbconvert_exporter": "python",
   "pygments_lexer": "ipython3",
   "version": "3.7.0"
  }
 },
 "nbformat": 4,
 "nbformat_minor": 5
}
