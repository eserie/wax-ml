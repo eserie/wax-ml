{
 "cells": [
  {
   "cell_type": "code",
   "execution_count": 1,
   "id": "2b295407-92c4-4818-bfb9-f445f6967f10",
   "metadata": {
    "id": "2b295407-92c4-4818-bfb9-f445f6967f10"
   },
   "outputs": [],
   "source": [
    "# Uncomment to run the notebook in Colab\n",
    "# ! pip install -q \"wax-ml[complete]@git+https://github.com/eserie/wax-ml.git\"\n",
    "# ! pip install -q --upgrade jax jaxlib==0.1.67+cuda111 -f https://storage.googleapis.com/jax-releases/jax_releases.html"
   ]
  },
  {
   "cell_type": "code",
   "execution_count": 2,
   "id": "ff30291d",
   "metadata": {
    "id": "ff30291d"
   },
   "outputs": [],
   "source": [
    "# check available devices\n",
    "import jax"
   ]
  },
  {
   "cell_type": "code",
   "execution_count": 3,
   "id": "a3cdb104",
   "metadata": {
    "colab": {
     "base_uri": "https://localhost:8080/"
    },
    "id": "a3cdb104",
    "outputId": "2a8b84e5-1d90-4c06-bed5-1518bdfdc767"
   },
   "outputs": [
    {
     "name": "stdout",
     "output_type": "stream",
     "text": [
      "jax backend gpu\n"
     ]
    },
    {
     "data": {
      "text/plain": [
       "[GpuDevice(id=0, process_index=0)]"
      ]
     },
     "execution_count": 3,
     "metadata": {
      "tags": []
     },
     "output_type": "execute_result"
    }
   ],
   "source": [
    "print(\"jax backend {}\".format(jax.lib.xla_bridge.get_backend().platform))\n",
    "jax.devices()"
   ]
  },
  {
   "cell_type": "markdown",
   "id": "1fa1808c",
   "metadata": {
    "id": "1fa1808c"
   },
   "source": [
    "# 🎛 The 3-steps workflow 🎛\n",
    "\n",
    "[![Open in Colab](https://colab.research.google.com/assets/colab-badge.svg)](https://colab.research.google.com/github/eserie/wax-ml/blob/main/docs/notebooks/04_The_three_steps_workflow.ipynb)"
   ]
  },
  {
   "cell_type": "markdown",
   "id": "2e1eefec",
   "metadata": {
    "id": "2e1eefec"
   },
   "source": [
    "It is already very useful to be able to execute a JAX function on a dataframe in a single work step\n",
    "and with a single command line thanks to WAX-ML accessors.\n",
    "\n",
    "The 1-step WAX-ML's stream API works like that:\n",
    "```python\n",
    "<data-container>.stream(...).apply(...)\n",
    "```\n",
    "\n",
    "But this is not optimal because, under the hood, there are mainly three costly steps:\n",
    "- (1) (synchronize | data tracing | encode): make the data \"JAX ready\"\n",
    "- (2) (compile | code tracing | execution): compile and optimize a function for XLA, execute it.\n",
    "- (3) (format): convert data back to pandas/xarray/numpy format.\n",
    "\n",
    "With the `wax.stream` primitives, it is quite easy to explicitly split the 1-step workflow\n",
    "into a 3-step workflow.\n",
    "\n",
    "This will allow the user to have full control over each step and iterate on each one.\n",
    "\n",
    "It is actually very useful to iterate on step (2), the \"calculation step\" when\n",
    "you are doing research.\n",
    "You can then take full advantage of the JAX primitives, especially the `jit` primitive.\n",
    "\n",
    "Let's illustrate how to reimplement WAX-ML EWMA yourself with the WAX-ML 3-step workflow."
   ]
  },
  {
   "cell_type": "markdown",
   "id": "bd2e906e",
   "metadata": {
    "id": "bd2e906e"
   },
   "source": [
    "## Imports"
   ]
  },
  {
   "cell_type": "code",
   "execution_count": 4,
   "id": "2bdfbf9a",
   "metadata": {
    "id": "2bdfbf9a",
    "tags": []
   },
   "outputs": [],
   "source": [
    "import haiku as hk\n",
    "import numpy as onp\n",
    "import pandas as pd\n",
    "import xarray as xr\n",
    "\n",
    "from wax.accessors import register_wax_accessors\n",
    "from wax.compile import jit_init_apply\n",
    "from wax.external.eagerpy import convert_to_tensors\n",
    "from wax.format import format_dataframe\n",
    "from wax.modules import EWMA\n",
    "from wax.stream import tree_access_data\n",
    "from wax.unroll import dynamic_unroll\n",
    "\n",
    "register_wax_accessors()"
   ]
  },
  {
   "cell_type": "markdown",
   "id": "a0999c69",
   "metadata": {
    "id": "a0999c69"
   },
   "source": [
    "## Performance on big dataframes"
   ]
  },
  {
   "cell_type": "markdown",
   "id": "6f8447b4",
   "metadata": {
    "id": "6f8447b4"
   },
   "source": [
    "### Generate data"
   ]
  },
  {
   "cell_type": "code",
   "execution_count": 5,
   "id": "768d7802-580d-4c31-9a0e-e6dc4f0589ca",
   "metadata": {
    "id": "768d7802-580d-4c31-9a0e-e6dc4f0589ca",
    "tags": [
     "parameters"
    ]
   },
   "outputs": [],
   "source": [
    "T = 1.0e5\n",
    "N = 1000"
   ]
  },
  {
   "cell_type": "code",
   "execution_count": 6,
   "id": "03af743d",
   "metadata": {
    "colab": {
     "base_uri": "https://localhost:8080/"
    },
    "id": "03af743d",
    "outputId": "ae3f7e8f-7e2c-4ef1-a456-bd4d2f72893d",
    "tags": []
   },
   "outputs": [
    {
     "name": "stdout",
     "output_type": "stream",
     "text": [
      "CPU times: user 3.87 s, sys: 143 ms, total: 4.01 s\n",
      "Wall time: 3.99 s\n"
     ]
    }
   ],
   "source": [
    "%%time\n",
    "T, N = map(int, (T, N))\n",
    "dataframe = pd.DataFrame(\n",
    "    onp.random.normal(size=(T, N)), index=pd.date_range(\"1970\", periods=T, freq=\"s\")\n",
    ")"
   ]
  },
  {
   "cell_type": "markdown",
   "id": "d1fd46f7",
   "metadata": {
    "id": "d1fd46f7"
   },
   "source": [
    "### Pandas EWMA"
   ]
  },
  {
   "cell_type": "code",
   "execution_count": 7,
   "id": "27092faf",
   "metadata": {
    "colab": {
     "base_uri": "https://localhost:8080/"
    },
    "id": "27092faf",
    "outputId": "760f16e5-bc4d-4bf1-fa1b-7749e1d2366f",
    "tags": []
   },
   "outputs": [
    {
     "name": "stdout",
     "output_type": "stream",
     "text": [
      "CPU times: user 1.95 s, sys: 480 ms, total: 2.42 s\n",
      "Wall time: 2.42 s\n"
     ]
    }
   ],
   "source": [
    "%%time\n",
    "df_ewma_pandas = dataframe.ewm(alpha=1.0 / 10.0).mean()"
   ]
  },
  {
   "cell_type": "markdown",
   "id": "678be283",
   "metadata": {
    "id": "678be283"
   },
   "source": [
    "### WAX-ML EWMA"
   ]
  },
  {
   "cell_type": "code",
   "execution_count": 8,
   "id": "11f3705d",
   "metadata": {
    "colab": {
     "base_uri": "https://localhost:8080/"
    },
    "id": "11f3705d",
    "outputId": "75921f06-a92c-4e1a-a7f9-49866659c232",
    "tags": []
   },
   "outputs": [
    {
     "name": "stdout",
     "output_type": "stream",
     "text": [
      "CPU times: user 2.21 s, sys: 679 ms, total: 2.89 s\n",
      "Wall time: 3.11 s\n"
     ]
    }
   ],
   "source": [
    "%%time\n",
    "df_ewma_wax = dataframe.wax.ewm(alpha=1.0 / 10.0).mean()"
   ]
  },
  {
   "cell_type": "markdown",
   "id": "0d94d5cf",
   "metadata": {
    "id": "0d94d5cf"
   },
   "source": [
    "It's a little faster, but not that much faster..."
   ]
  },
  {
   "cell_type": "markdown",
   "id": "e51ee290",
   "metadata": {
    "id": "e51ee290"
   },
   "source": [
    "### WAX-ML EWMA (without format step)"
   ]
  },
  {
   "cell_type": "markdown",
   "id": "7361def9",
   "metadata": {
    "id": "7361def9"
   },
   "source": [
    "Let's disable the final formatting step (the output is now in raw JAX format):"
   ]
  },
  {
   "cell_type": "code",
   "execution_count": 9,
   "id": "f87f5668",
   "metadata": {
    "colab": {
     "base_uri": "https://localhost:8080/"
    },
    "id": "f87f5668",
    "outputId": "7e3e0052-803a-48ac-ae9a-c2b68af8c575",
    "tags": []
   },
   "outputs": [
    {
     "name": "stdout",
     "output_type": "stream",
     "text": [
      "CPU times: user 1.77 s, sys: 563 ms, total: 2.33 s\n",
      "Wall time: 2.22 s\n"
     ]
    }
   ],
   "source": [
    "%%time\n",
    "df_ewma_wax_no_format = dataframe.wax.ewm(alpha=1.0 / 10.0, format_outputs=False).mean()"
   ]
  },
  {
   "cell_type": "code",
   "execution_count": 10,
   "id": "88d0cab5-62ad-47f7-9d06-56fc45fa542e",
   "metadata": {
    "colab": {
     "base_uri": "https://localhost:8080/"
    },
    "id": "88d0cab5-62ad-47f7-9d06-56fc45fa542e",
    "outputId": "41fe33ca-4713-4a9d-a595-5c85696ff76f"
   },
   "outputs": [
    {
     "data": {
      "text/plain": [
       "jaxlib.xla_extension.DeviceArray"
      ]
     },
     "execution_count": 10,
     "metadata": {
      "tags": []
     },
     "output_type": "execute_result"
    }
   ],
   "source": [
    "type(df_ewma_wax_no_format)"
   ]
  },
  {
   "cell_type": "markdown",
   "id": "9be62475-b2fa-4a95-b293-7e4410ca36ca",
   "metadata": {
    "id": "9be62475-b2fa-4a95-b293-7e4410ca36ca"
   },
   "source": [
    "Let's check the device on which the calculation was performed (if you have GPU available, this should be `GpuDevice` otherwise it will be `CpuDevice`):"
   ]
  },
  {
   "cell_type": "code",
   "execution_count": 11,
   "id": "38d3970c-04a5-4deb-93b3-a4f5f899e8f1",
   "metadata": {
    "colab": {
     "base_uri": "https://localhost:8080/"
    },
    "id": "38d3970c-04a5-4deb-93b3-a4f5f899e8f1",
    "outputId": "ae302feb-5e16-4a53-8aad-6dd12de7d4e8"
   },
   "outputs": [
    {
     "data": {
      "text/plain": [
       "GpuDevice(id=0, process_index=0)"
      ]
     },
     "execution_count": 11,
     "metadata": {
      "tags": []
     },
     "output_type": "execute_result"
    }
   ],
   "source": [
    "df_ewma_wax_no_format.device()"
   ]
  },
  {
   "cell_type": "markdown",
   "id": "784ee16e",
   "metadata": {
    "id": "784ee16e"
   },
   "source": [
    "That's better! In fact (see below)\n",
    "there is a performance problem in the final formatting step.\n",
    "See WEP3 for a proposal to improve the formatting step."
   ]
  },
  {
   "cell_type": "markdown",
   "id": "c5e7b817",
   "metadata": {
    "id": "c5e7b817"
   },
   "source": [
    "### Generate data (in dataset format)\n",
    "\n",
    "WAX-ML `Sream` object works on datasets.\n",
    "So let's transform the `DataFrame` into a xarray `Dataset`:"
   ]
  },
  {
   "cell_type": "code",
   "execution_count": 12,
   "id": "9965444b",
   "metadata": {
    "id": "9965444b"
   },
   "outputs": [],
   "source": [
    "dataset = xr.DataArray(dataframe).to_dataset(name=\"dataarray\")"
   ]
  },
  {
   "cell_type": "markdown",
   "id": "123965eb",
   "metadata": {
    "id": "123965eb"
   },
   "source": [
    "## Step (1) (synchronize | data tracing | encode)\n",
    "\n",
    "In this step,  WAX-ML do:\n",
    "- \"data tracing\" : prepare the indices for fast access tin the JAX function `access_data`\n",
    "- synchronize streams if there is multiple ones.\n",
    "  This functionality have options : `freq`, `ffills`\n",
    "- encode and convert data from numpy to JAX: use encoders for `datetimes64` and `string_`\n",
    "  dtypes. Be aware that by default JAX works in float32\n",
    "  (see [JAX's Common Gotchas](https://jax.readthedocs.io/en/latest/notebooks/Common_Gotchas_in_JAX.html#double-64bit-precision) to work in float64).\n",
    "\n",
    "We have a function `Stream.prepare` that implement this Step (1).\n",
    "It prepares a function that wraps the input function with the actual data and indices\n",
    "in a pair of pure functions (`TransformedWithState` Haiku tuple)."
   ]
  },
  {
   "cell_type": "code",
   "execution_count": 13,
   "id": "5f6b72ca",
   "metadata": {
    "colab": {
     "base_uri": "https://localhost:8080/"
    },
    "id": "5f6b72ca",
    "lines_to_next_cell": 1,
    "outputId": "18f8761e-f198-476c-a3e0-06b6773d874a"
   },
   "outputs": [
    {
     "name": "stdout",
     "output_type": "stream",
     "text": [
      "CPU times: user 20 µs, sys: 5 µs, total: 25 µs\n",
      "Wall time: 29.8 µs\n"
     ]
    }
   ],
   "source": [
    "%%time\n",
    "stream = dataframe.wax.stream()"
   ]
  },
  {
   "cell_type": "markdown",
   "id": "4cc34aad-3e15-4220-9dff-30dcad660307",
   "metadata": {
    "id": "4cc34aad-3e15-4220-9dff-30dcad660307",
    "lines_to_next_cell": 2
   },
   "source": [
    "Define our custom function to be applied on a dict of arrays\n",
    "having the same structure than the original dataset:"
   ]
  },
  {
   "cell_type": "code",
   "execution_count": 14,
   "id": "2bfa2a6c",
   "metadata": {
    "id": "2bfa2a6c",
    "lines_to_next_cell": 1
   },
   "outputs": [],
   "source": [
    "def my_ewma_on_dataset(dataset):\n",
    "    return EWMA(alpha=1.0 / 10.0, adjust=True)(dataset[\"dataarray\"])"
   ]
  },
  {
   "cell_type": "code",
   "execution_count": 15,
   "id": "4735903f",
   "metadata": {
    "id": "4735903f"
   },
   "outputs": [],
   "source": [
    "transform_dataset, jxs = stream.prepare(dataset, my_ewma_on_dataset)"
   ]
  },
  {
   "cell_type": "markdown",
   "id": "18b31346-501a-407b-b586-780117d043f3",
   "metadata": {
    "id": "18b31346-501a-407b-b586-780117d043f3"
   },
   "source": [
    "Let's definite the init parameters and state of the transformation we\n",
    "will apply."
   ]
  },
  {
   "cell_type": "markdown",
   "id": "78ea9eda-d0cc-4dba-8b2a-60fbf1dd41bd",
   "metadata": {
    "id": "78ea9eda-d0cc-4dba-8b2a-60fbf1dd41bd"
   },
   "source": [
    "### Init params and state"
   ]
  },
  {
   "cell_type": "code",
   "execution_count": 16,
   "id": "47b1ebdf-ff32-4c2a-ae0b-51b88882328b",
   "metadata": {
    "id": "47b1ebdf-ff32-4c2a-ae0b-51b88882328b"
   },
   "outputs": [],
   "source": [
    "from wax.unroll import init_params_state"
   ]
  },
  {
   "cell_type": "code",
   "execution_count": 17,
   "id": "ea6651f6-0db8-48f0-b578-013b2cb74272",
   "metadata": {
    "id": "ea6651f6-0db8-48f0-b578-013b2cb74272"
   },
   "outputs": [],
   "source": [
    "rng = jax.random.PRNGKey(42)\n",
    "params, state = init_params_state(transform_dataset, rng, jxs)"
   ]
  },
  {
   "cell_type": "code",
   "execution_count": 18,
   "id": "dc9a4bce-83d1-494b-b053-c6f9ebfb7d0c",
   "metadata": {
    "colab": {
     "base_uri": "https://localhost:8080/"
    },
    "id": "dc9a4bce-83d1-494b-b053-c6f9ebfb7d0c",
    "outputId": "4c4e08a8-5c03-468f-96bb-c0b10fdb1d79"
   },
   "outputs": [
    {
     "data": {
      "text/plain": [
       "FlatMapping({'ewma': FlatMapping({'alpha': DeviceArray(0.1, dtype=float32)})})"
      ]
     },
     "execution_count": 18,
     "metadata": {
      "tags": []
     },
     "output_type": "execute_result"
    }
   ],
   "source": [
    "params"
   ]
  },
  {
   "cell_type": "code",
   "execution_count": 19,
   "id": "4dd83bef-ef68-4576-973f-594f18123944",
   "metadata": {
    "id": "4dd83bef-ef68-4576-973f-594f18123944",
    "lines_to_next_cell": 2
   },
   "outputs": [],
   "source": [
    "assert state[\"ewma\"][\"count\"].shape == (N,)\n",
    "assert state[\"ewma\"][\"mean\"].shape == (N,)"
   ]
  },
  {
   "cell_type": "markdown",
   "id": "903a778c",
   "metadata": {
    "id": "903a778c"
   },
   "source": [
    "## Step (2) (compile | code tracing | execution)"
   ]
  },
  {
   "cell_type": "markdown",
   "id": "425830f4",
   "metadata": {
    "id": "425830f4"
   },
   "source": [
    "In this step we:\n",
    "- prepare a pure function (with\n",
    "  [Haiku's transform mechanism](https://dm-haiku.readthedocs.io/en/latest/api.html#haiku-transforms))\n",
    "  Define a \"transformation\" function which:\n",
    "    - access to the data\n",
    "    - apply another transformation, here: EWMA\n",
    "\n",
    "- compile it with `jax.jit`\n",
    "- perform code tracing and execution (the last line):\n",
    "    - Unroll the transformation on \"steps\" `xs` (a `np.arange` vector)."
   ]
  },
  {
   "cell_type": "code",
   "execution_count": 20,
   "id": "6825fdc8-1773-4e04-a41c-a126a1527891",
   "metadata": {
    "id": "6825fdc8-1773-4e04-a41c-a126a1527891"
   },
   "outputs": [],
   "source": [
    "rng = next(hk.PRNGSequence(42))\n",
    "outputs, state = dynamic_unroll(transform_dataset, params, state, rng, False, jxs)"
   ]
  },
  {
   "cell_type": "code",
   "execution_count": 21,
   "id": "3862a486-a5a2-4aa9-967a-59ebc32a18e1",
   "metadata": {
    "colab": {
     "base_uri": "https://localhost:8080/"
    },
    "id": "3862a486-a5a2-4aa9-967a-59ebc32a18e1",
    "outputId": "bb926b58-cb8e-44df-a38d-56e6fa758466"
   },
   "outputs": [
    {
     "data": {
      "text/plain": [
       "GpuDevice(id=0, process_index=0)"
      ]
     },
     "execution_count": 21,
     "metadata": {
      "tags": []
     },
     "output_type": "execute_result"
    }
   ],
   "source": [
    "outputs.device()"
   ]
  },
  {
   "cell_type": "markdown",
   "id": "b73f3252",
   "metadata": {
    "id": "b73f3252"
   },
   "source": [
    "Once it has been compiled and \"traced\" by JAX, the function is much faster to execute:"
   ]
  },
  {
   "cell_type": "code",
   "execution_count": 22,
   "id": "a889d294",
   "metadata": {
    "colab": {
     "base_uri": "https://localhost:8080/"
    },
    "id": "a889d294",
    "outputId": "1bbcad84-5bc0-49d3-865f-685e75892793",
    "tags": []
   },
   "outputs": [
    {
     "name": "stdout",
     "output_type": "stream",
     "text": [
      "1 loop, best of 5: 1.18 s per loop\n"
     ]
    }
   ],
   "source": [
    "%%timeit\n",
    "outputs, _ = dynamic_unroll(transform_dataset, params, state, rng, False, jxs)"
   ]
  },
  {
   "cell_type": "code",
   "execution_count": 23,
   "id": "f19185cd-15c2-4c9c-bbff-8d50deb1fee2",
   "metadata": {
    "colab": {
     "base_uri": "https://localhost:8080/"
    },
    "id": "f19185cd-15c2-4c9c-bbff-8d50deb1fee2",
    "outputId": "b32b7d89-570d-4b09-ac53-d1119144ee65"
   },
   "outputs": [
    {
     "name": "stdout",
     "output_type": "stream",
     "text": [
      "CPU times: user 1.29 s, sys: 6.21 ms, total: 1.29 s\n",
      "Wall time: 1.24 s\n"
     ]
    }
   ],
   "source": [
    "%%time\n",
    "outputs, _ = dynamic_unroll(transform_dataset, params, state, rng, False, jxs)"
   ]
  },
  {
   "cell_type": "markdown",
   "id": "987e8b63",
   "metadata": {
    "id": "987e8b63"
   },
   "source": [
    "This is 3x faster than pandas implementation!\n",
    "\n",
    "(The 3x factor is obtained by measuring the execution with %timeit.\n",
    "We don't know why, but when executing a code cell once at a time, then the execution time can vary a lot and we can observe some executions with a speed-up of 100x)."
   ]
  },
  {
   "cell_type": "markdown",
   "id": "4c8acec1-4414-4340-9cfc-199e90565d4d",
   "metadata": {
    "id": "4c8acec1-4414-4340-9cfc-199e90565d4d"
   },
   "source": [
    "### Manually prepare the data and manage the device"
   ]
  },
  {
   "cell_type": "markdown",
   "id": "8b76775b-76f7-45ae-8bc7-66a6f945370f",
   "metadata": {
    "id": "8b76775b-76f7-45ae-8bc7-66a6f945370f"
   },
   "source": [
    "In order to manage the device on which the computations take place,\n",
    "we need to have even more control over the execution flow.\n",
    "Instead of calling `stream.prepare` to build the `transform_dataset` function,\n",
    "we can do it ourselves by :\n",
    "- using the `stream.trace_dataset` function\n",
    "- converting the numpy data in jax ourself\n",
    "- puting the data on the device we want."
   ]
  },
  {
   "cell_type": "code",
   "execution_count": 24,
   "id": "76479f76-7b6e-4321-97c3-942f2987bc01",
   "metadata": {
    "colab": {
     "base_uri": "https://localhost:8080/"
    },
    "id": "76479f76-7b6e-4321-97c3-942f2987bc01",
    "outputId": "c4c46c35-4e93-4f7b-8197-0520f8f0e1e0"
   },
   "outputs": [
    {
     "name": "stderr",
     "output_type": "stream",
     "text": [
      "/usr/local/lib/python3.7/dist-packages/jax/_src/numpy/lax_numpy.py:2983: UserWarning: Explicitly requested dtype float64 requested in asarray is not available, and will be truncated to dtype float32. To enable more dtypes, set the jax_enable_x64 configuration option or the JAX_ENABLE_X64 shell environment variable. See https://github.com/google/jax#current-gotchas for more.\n",
      "  lax._check_user_dtype_supported(dtype, \"asarray\")\n",
      "/usr/local/lib/python3.7/dist-packages/jax/_src/numpy/lax_numpy.py:2983: UserWarning: Explicitly requested dtype int64 requested in asarray is not available, and will be truncated to dtype int32. To enable more dtypes, set the jax_enable_x64 configuration option or the JAX_ENABLE_X64 shell environment variable. See https://github.com/google/jax#current-gotchas for more.\n",
      "  lax._check_user_dtype_supported(dtype, \"asarray\")\n"
     ]
    }
   ],
   "source": [
    "np_data, np_index, xs = stream.trace_dataset(dataset)\n",
    "jnp_data, jnp_index, jxs = convert_to_tensors((np_data, np_index, xs), \"jax\")"
   ]
  },
  {
   "cell_type": "markdown",
   "id": "a4fa1934-3633-4661-b808-c60e4b8c4600",
   "metadata": {
    "id": "a4fa1934-3633-4661-b808-c60e4b8c4600"
   },
   "source": [
    "We explicitly set data on CPUs (the is not needed if you only have CPUs):"
   ]
  },
  {
   "cell_type": "code",
   "execution_count": 25,
   "id": "bae591f7-e7ec-4b8b-9b80-6f129184e1ae",
   "metadata": {
    "colab": {
     "base_uri": "https://localhost:8080/"
    },
    "id": "bae591f7-e7ec-4b8b-9b80-6f129184e1ae",
    "outputId": "f073bab3-7f7b-4ed6-a5df-5266418d4072"
   },
   "outputs": [
    {
     "name": "stdout",
     "output_type": "stream",
     "text": [
      "data copied to CPU device.\n"
     ]
    }
   ],
   "source": [
    "from jax.tree_util import tree_leaves, tree_map\n",
    "\n",
    "cpus = jax.devices(\"cpu\")\n",
    "jnp_data, jnp_index, jxs = tree_map(\n",
    "    lambda x: jax.device_put(x, cpus[0]), (jnp_data, jnp_index, jxs)\n",
    ")\n",
    "print(\"data copied to CPU device.\")"
   ]
  },
  {
   "cell_type": "markdown",
   "id": "f851fbe7-096e-4399-ae5c-08739837dfeb",
   "metadata": {
    "id": "f851fbe7-096e-4399-ae5c-08739837dfeb"
   },
   "source": [
    "We have now \"JAX-ready\" data for later fast access."
   ]
  },
  {
   "cell_type": "markdown",
   "id": "19f3b58e-61f3-481c-a512-cb87bde622a8",
   "metadata": {
    "id": "19f3b58e-61f3-481c-a512-cb87bde622a8"
   },
   "source": [
    "Let's define the transformation that wrap the actual data and indices in a pair of\n",
    "pure functions:"
   ]
  },
  {
   "cell_type": "code",
   "execution_count": 26,
   "id": "e7ebbb08-d790-4977-b49d-c9224e299a42",
   "metadata": {
    "colab": {
     "base_uri": "https://localhost:8080/"
    },
    "id": "e7ebbb08-d790-4977-b49d-c9224e299a42",
    "outputId": "c91ac27c-b671-4bad-8e0d-c9eb0464ae3c"
   },
   "outputs": [
    {
     "name": "stdout",
     "output_type": "stream",
     "text": [
      "CPU times: user 277 µs, sys: 0 ns, total: 277 µs\n",
      "Wall time: 289 µs\n"
     ]
    }
   ],
   "source": [
    "%%time\n",
    "@jit_init_apply\n",
    "@hk.transform_with_state\n",
    "def transform_dataset(step):\n",
    "    dataset = tree_access_data(jnp_data, jnp_index, step)\n",
    "    return EWMA(alpha=1.0 / 10.0, adjust=True)(dataset[\"dataarray\"])"
   ]
  },
  {
   "cell_type": "markdown",
   "id": "31fa1d05-c3d7-4543-ac82-d398044cdc2e",
   "metadata": {
    "id": "31fa1d05-c3d7-4543-ac82-d398044cdc2e"
   },
   "source": [
    "And we can call it as before:"
   ]
  },
  {
   "cell_type": "code",
   "execution_count": 27,
   "id": "f851407a-597f-4711-8370-c3e83cb50da7",
   "metadata": {
    "colab": {
     "base_uri": "https://localhost:8080/"
    },
    "id": "f851407a-597f-4711-8370-c3e83cb50da7",
    "outputId": "585097e9-6025-4f45-886e-261cbdba4014"
   },
   "outputs": [
    {
     "name": "stdout",
     "output_type": "stream",
     "text": [
      "CPU times: user 373 ms, sys: 163 ms, total: 537 ms\n",
      "Wall time: 533 ms\n"
     ]
    }
   ],
   "source": [
    "%%time\n",
    "outputs, state = dynamic_unroll(transform_dataset, None, None, rng, False, jxs)"
   ]
  },
  {
   "cell_type": "code",
   "execution_count": 28,
   "id": "e5b786b7-ecaf-4280-894b-aa8f65a0b78f",
   "metadata": {
    "colab": {
     "base_uri": "https://localhost:8080/"
    },
    "id": "e5b786b7-ecaf-4280-894b-aa8f65a0b78f",
    "outputId": "c8bc9f41-7587-4482-c496-f40523f6840f"
   },
   "outputs": [
    {
     "data": {
      "text/plain": [
       "CpuDevice(id=0)"
      ]
     },
     "execution_count": 28,
     "metadata": {
      "tags": []
     },
     "output_type": "execute_result"
    }
   ],
   "source": [
    "outputs.device()"
   ]
  },
  {
   "cell_type": "markdown",
   "id": "6fa51498",
   "metadata": {
    "id": "6fa51498"
   },
   "source": [
    "## Step(3) (format)\n",
    "Let's come back to pandas/xarray:"
   ]
  },
  {
   "cell_type": "code",
   "execution_count": 29,
   "id": "d1b0732c",
   "metadata": {
    "colab": {
     "base_uri": "https://localhost:8080/"
    },
    "id": "d1b0732c",
    "outputId": "7427109b-7cfa-455c-af20-080b73b86182"
   },
   "outputs": [
    {
     "name": "stdout",
     "output_type": "stream",
     "text": [
      "CPU times: user 2.14 s, sys: 9.66 ms, total: 2.15 s\n",
      "Wall time: 2.13 s\n"
     ]
    }
   ],
   "source": [
    "%%time\n",
    "y = format_dataframe(\n",
    "    dataset.coords, onp.array(outputs), format_dims=dataset.dataarray.dims\n",
    ")"
   ]
  },
  {
   "cell_type": "markdown",
   "id": "e27bd3b8",
   "metadata": {
    "id": "e27bd3b8"
   },
   "source": [
    "It's quite slow (see WEP3 enhancement proposal)."
   ]
  },
  {
   "cell_type": "markdown",
   "id": "3cdc9281-6092-4368-a0e8-ed26a5114106",
   "metadata": {
    "id": "3cdc9281-6092-4368-a0e8-ed26a5114106"
   },
   "source": [
    "## GPU execution"
   ]
  },
  {
   "cell_type": "markdown",
   "id": "f0d4651d-9087-4f04-9f07-a4d92cd3ba1f",
   "metadata": {
    "id": "f0d4651d-9087-4f04-9f07-a4d92cd3ba1f"
   },
   "source": [
    "Let's look with execution on GPU"
   ]
  },
  {
   "cell_type": "code",
   "execution_count": 30,
   "id": "a30f6024-5e9c-4174-92ea-7207860d829d",
   "metadata": {
    "colab": {
     "base_uri": "https://localhost:8080/"
    },
    "id": "a30f6024-5e9c-4174-92ea-7207860d829d",
    "outputId": "ee0cc84f-e332-485b-fddd-ee5ce42b6ce8"
   },
   "outputs": [
    {
     "name": "stdout",
     "output_type": "stream",
     "text": [
      "data copied to GPU device.\n"
     ]
    }
   ],
   "source": [
    "try:\n",
    "    gpus = jax.devices(\"gpu\")\n",
    "    jnp_data, jnp_index, jxs = tree_map(\n",
    "        lambda x: jax.device_put(x, gpus[0]), (jnp_data, jnp_index, jxs)\n",
    "    )\n",
    "    print(\"data copied to GPU device.\")\n",
    "    GPU_AVAILABLE = True\n",
    "except RuntimeError as err:\n",
    "    print(err)\n",
    "    GPU_AVAILABLE = False"
   ]
  },
  {
   "cell_type": "markdown",
   "id": "27d7cf26-f35b-489e-83b9-c120565d9b17",
   "metadata": {
    "id": "27d7cf26-f35b-489e-83b9-c120565d9b17"
   },
   "source": [
    "Let's check that our data is on the GPUs:"
   ]
  },
  {
   "cell_type": "code",
   "execution_count": 31,
   "id": "d6f00e5d-1b85-483d-9856-35de3a954b13",
   "metadata": {
    "colab": {
     "base_uri": "https://localhost:8080/"
    },
    "id": "d6f00e5d-1b85-483d-9856-35de3a954b13",
    "outputId": "db9396c3-b35d-4cdc-aaa3-eadddc9da31c"
   },
   "outputs": [
    {
     "data": {
      "text/plain": [
       "GpuDevice(id=0, process_index=0)"
      ]
     },
     "execution_count": 31,
     "metadata": {
      "tags": []
     },
     "output_type": "execute_result"
    }
   ],
   "source": [
    "tree_leaves(jnp_data)[0].device()"
   ]
  },
  {
   "cell_type": "code",
   "execution_count": 32,
   "id": "6f89fc7c-4824-4858-aee8-6fff7834c70c",
   "metadata": {
    "colab": {
     "base_uri": "https://localhost:8080/"
    },
    "id": "6f89fc7c-4824-4858-aee8-6fff7834c70c",
    "outputId": "40c8a645-5771-40f0-ffab-0e5322d59c77"
   },
   "outputs": [
    {
     "data": {
      "text/plain": [
       "GpuDevice(id=0, process_index=0)"
      ]
     },
     "execution_count": 32,
     "metadata": {
      "tags": []
     },
     "output_type": "execute_result"
    }
   ],
   "source": [
    "tree_leaves(jnp_index)[0].device()"
   ]
  },
  {
   "cell_type": "code",
   "execution_count": 33,
   "id": "ba2471ef-51e4-49f2-863c-aabafd401cbf",
   "metadata": {
    "colab": {
     "base_uri": "https://localhost:8080/"
    },
    "id": "ba2471ef-51e4-49f2-863c-aabafd401cbf",
    "outputId": "25800a2f-4152-4714-9ceb-ba396fcf1790"
   },
   "outputs": [
    {
     "data": {
      "text/plain": [
       "GpuDevice(id=0, process_index=0)"
      ]
     },
     "execution_count": 33,
     "metadata": {
      "tags": []
     },
     "output_type": "execute_result"
    }
   ],
   "source": [
    "jxs.device()"
   ]
  },
  {
   "cell_type": "code",
   "execution_count": 34,
   "id": "6c35bd5d-0113-455d-bd56-f7c31bf6c736",
   "metadata": {
    "colab": {
     "base_uri": "https://localhost:8080/"
    },
    "id": "6c35bd5d-0113-455d-bd56-f7c31bf6c736",
    "lines_to_next_cell": 2,
    "outputId": "86e2ff5d-3b7b-4b65-8202-0feebc27063d"
   },
   "outputs": [
    {
     "name": "stdout",
     "output_type": "stream",
     "text": [
      "CPU times: user 1.7 s, sys: 555 ms, total: 2.25 s\n",
      "Wall time: 2.14 s\n"
     ]
    }
   ],
   "source": [
    "%%time\n",
    "if GPU_AVAILABLE:\n",
    "    rng = next(hk.PRNGSequence(42))\n",
    "    outputs, state = dynamic_unroll(transform_dataset, None, None, rng, False, jxs)"
   ]
  },
  {
   "cell_type": "markdown",
   "id": "274b5615-8785-43e7-a2db-5f867566c913",
   "metadata": {
    "id": "274b5615-8785-43e7-a2db-5f867566c913"
   },
   "source": [
    "Let's redefine our function `transform_dataset` by explicitly specify to `jax.jit` the `device` option."
   ]
  },
  {
   "cell_type": "code",
   "execution_count": 35,
   "id": "6bb7431e-90f2-4761-a906-69f25fea4a63",
   "metadata": {
    "colab": {
     "base_uri": "https://localhost:8080/"
    },
    "id": "6bb7431e-90f2-4761-a906-69f25fea4a63",
    "outputId": "405cc724-22e8-48d6-e722-d6cea8a90e49"
   },
   "outputs": [
    {
     "name": "stdout",
     "output_type": "stream",
     "text": [
      "CPU times: user 1.48 s, sys: 17.6 ms, total: 1.5 s\n",
      "Wall time: 2.13 s\n"
     ]
    }
   ],
   "source": [
    "%%time\n",
    "if GPU_AVAILABLE:\n",
    "\n",
    "    @hk.transform_with_state\n",
    "    def transform_dataset(step):\n",
    "        dataset = tree_access_data(jnp_data, jnp_index, step)\n",
    "        return EWMA(alpha=1.0 / 10.0, adjust=True)(dataset[\"dataarray\"])\n",
    "\n",
    "    transform_dataset = type(transform_dataset)(\n",
    "        transform_dataset.init, jax.jit(transform_dataset.apply, device=gpus[0])\n",
    "    )\n",
    "\n",
    "    rng = next(hk.PRNGSequence(42))\n",
    "    outputs, state = dynamic_unroll(transform_dataset, None, None, rng, False, jxs)"
   ]
  },
  {
   "cell_type": "code",
   "execution_count": 36,
   "id": "944dcb8e-211c-4b39-b854-12118fe775ed",
   "metadata": {
    "colab": {
     "base_uri": "https://localhost:8080/"
    },
    "id": "944dcb8e-211c-4b39-b854-12118fe775ed",
    "outputId": "d1f353b2-a7ed-4457-a26c-38ac4125aa65"
   },
   "outputs": [
    {
     "data": {
      "text/plain": [
       "GpuDevice(id=0, process_index=0)"
      ]
     },
     "execution_count": 36,
     "metadata": {
      "tags": []
     },
     "output_type": "execute_result"
    }
   ],
   "source": [
    "outputs.device()"
   ]
  },
  {
   "cell_type": "code",
   "execution_count": 37,
   "id": "de99ee71-4e02-4843-9e6e-39d831f9697e",
   "metadata": {
    "colab": {
     "base_uri": "https://localhost:8080/"
    },
    "id": "de99ee71-4e02-4843-9e6e-39d831f9697e",
    "outputId": "88a5e604-a722-43bf-d90c-49b11fde96b2"
   },
   "outputs": [
    {
     "name": "stdout",
     "output_type": "stream",
     "text": [
      "1 loop, best of 5: 1.18 s per loop\n"
     ]
    }
   ],
   "source": [
    "%%timeit\n",
    "if GPU_AVAILABLE:\n",
    "    outputs, state = dynamic_unroll(transform_dataset, None, None, rng, False, jxs)"
   ]
  }
 ],
 "metadata": {
  "accelerator": "GPU",
  "colab": {
   "name": "04_The_three_steps_workflow.ipynb",
   "provenance": []
  },
  "jupytext": {
   "encoding": "# -*- coding: utf-8 -*-",
   "formats": "ipynb,py,md:myst"
  },
  "kernelspec": {
   "display_name": "Python 3",
   "language": "python",
   "name": "python3"
  },
  "language_info": {
   "codemirror_mode": {
    "name": "ipython",
    "version": 3
   },
   "file_extension": ".py",
   "mimetype": "text/x-python",
   "name": "python",
   "nbconvert_exporter": "python",
   "pygments_lexer": "ipython3",
   "version": "3.7.0"
  }
 },
 "nbformat": 4,
 "nbformat_minor": 5
}
