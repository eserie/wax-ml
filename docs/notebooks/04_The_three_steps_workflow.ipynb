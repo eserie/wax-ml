{
 "cells": [
  {
   "cell_type": "code",
   "execution_count": 1,
   "id": "2b295407-92c4-4818-bfb9-f445f6967f10",
   "metadata": {},
   "outputs": [],
   "source": [
    "# Uncomment to run the notebook in Colab\n",
    "# ! pip install -q \"wax-ml[complete]@git+https://github.com/eserie/wax-ml.git\"\n",
    "# ! pip install -q --upgrade jax jaxlib==0.1.67+cuda111 -f https://storage.googleapis.com/jax-releases/jax_releases.html"
   ]
  },
  {
   "cell_type": "code",
   "execution_count": null,
   "id": "ff30291d",
   "metadata": {},
   "outputs": [],
   "source": [
    "# check available devices\n",
    "import jax"
   ]
  },
  {
   "cell_type": "code",
   "execution_count": 2,
   "id": "a3cdb104",
   "metadata": {},
   "outputs": [],
   "source": [
    "print(\"jax backend {}\".format(jax.lib.xla_bridge.get_backend().platform))\n",
    "jax.devices()"
   ]
  },
  {
   "cell_type": "markdown",
   "id": "1fa1808c",
   "metadata": {},
   "source": [
    "# 🎛 The 3-steps workflow 🎛\n",
    "\n",
    "[![Open in Colab](https://colab.research.google.com/assets/colab-badge.svg)](https://colab.research.google.com/github/eserie/wax-ml/blob/main/docs/notebooks/04_The_three_steps_workflow.ipynb)"
   ]
  },
  {
   "cell_type": "markdown",
   "id": "2e1eefec",
   "metadata": {},
   "source": [
    "It is already very useful to be able to execute a JAX function on a dataframe in a single work step\n",
    "and with a single command line thanks to WAX-ML accessors.\n",
    "\n",
    "The 1-step WAX-ML's stream API works like that:\n",
    "```python\n",
    "<data-container>.stream(...).apply(...)\n",
    "```\n",
    "\n",
    "But this is not optimal because, under the hood, there are mainly three costly steps:\n",
    "- (1) (synchronize | data tracing | encode): make the data \"JAX ready\"\n",
    "- (2) (compile | code tracing | execution): compile and optimize a function for XLA, execute it.\n",
    "- (3) (format): convert data back to pandas/xarray/numpy format.\n",
    "\n",
    "With the `wax.stream` primitives, it is quite easy to explicitly split the 1-step workflow\n",
    "into a 3-step workflow.\n",
    "\n",
    "This will allow the user to have full control over each step and iterate on each one.\n",
    "\n",
    "It is actually very useful to iterate on step (2), the \"calculation step\" when\n",
    "you are doing research.\n",
    "You can then take full advantage of the JAX primitives, especially the `jit` primitive.\n",
    "\n",
    "Let's illustrate how to reimplement WAX-ML EWMA yourself with the WAX-ML 3-step workflow."
   ]
  },
  {
   "cell_type": "markdown",
   "id": "bd2e906e",
   "metadata": {},
   "source": [
    "## Imports"
   ]
  },
  {
   "cell_type": "code",
   "execution_count": 4,
   "id": "2bdfbf9a",
   "metadata": {
    "tags": []
   },
   "outputs": [],
   "source": [
    "\n",
    "import haiku as hk\n",
    "import numpy as onp\n",
    "import pandas as pd\n",
    "import xarray as xr\n",
    "\n",
    "from wax.accessors import register_wax_accessors\n",
    "from wax.compile import jit_init_apply\n",
    "from wax.external.eagerpy import convert_to_tensors\n",
    "from wax.format import format_dataframe\n",
    "from wax.modules import EWMA\n",
    "from wax.stream import tree_access_data\n",
    "from wax.unroll import dynamic_unroll\n",
    "\n",
    "register_wax_accessors()"
   ]
  },
  {
   "cell_type": "markdown",
   "id": "a0999c69",
   "metadata": {},
   "source": [
    "## Performance on big dataframes"
   ]
  },
  {
   "cell_type": "markdown",
   "id": "6f8447b4",
   "metadata": {},
   "source": [
    "### Generate data"
   ]
  },
  {
   "cell_type": "code",
   "execution_count": 5,
   "id": "768d7802-580d-4c31-9a0e-e6dc4f0589ca",
   "metadata": {
    "tags": [
     "parameters"
    ]
   },
   "outputs": [],
   "source": [
    "T = 1.0e5\n",
    "N = 1000"
   ]
  },
  {
   "cell_type": "code",
   "execution_count": 6,
   "id": "03af743d",
   "metadata": {
    "tags": []
   },
   "outputs": [
    {
     "name": "stdout",
     "output_type": "stream",
     "text": [
      "CPU times: user 2.46 s, sys: 225 ms, total: 2.68 s\n",
      "Wall time: 2.68 s\n"
     ]
    }
   ],
   "source": [
    "%%time\n",
    "T, N = map(int, (T, N))\n",
    "dataframe = pd.DataFrame(\n",
    "    onp.random.normal(size=(T, N)), index=pd.date_range(\"1970\", periods=T, freq=\"s\")\n",
    ")"
   ]
  },
  {
   "cell_type": "markdown",
   "id": "d1fd46f7",
   "metadata": {},
   "source": [
    "### Pandas EWMA"
   ]
  },
  {
   "cell_type": "code",
   "execution_count": 7,
   "id": "27092faf",
   "metadata": {
    "tags": []
   },
   "outputs": [
    {
     "name": "stdout",
     "output_type": "stream",
     "text": [
      "CPU times: user 2.86 s, sys: 465 ms, total: 3.33 s\n",
      "Wall time: 3.33 s\n"
     ]
    }
   ],
   "source": [
    "%%time\n",
    "df_ewma_pandas = dataframe.ewm(alpha=1.0 / 10.0).mean()"
   ]
  },
  {
   "cell_type": "markdown",
   "id": "678be283",
   "metadata": {},
   "source": [
    "### WAX-ML EWMA"
   ]
  },
  {
   "cell_type": "code",
   "execution_count": 8,
   "id": "11f3705d",
   "metadata": {
    "tags": []
   },
   "outputs": [
    {
     "name": "stdout",
     "output_type": "stream",
     "text": [
      "CPU times: user 2.09 s, sys: 374 ms, total: 2.46 s\n",
      "Wall time: 2.42 s\n"
     ]
    }
   ],
   "source": [
    "%%time\n",
    "df_ewma_wax = dataframe.wax.ewm(alpha=1.0 / 10.0).mean()"
   ]
  },
  {
   "cell_type": "markdown",
   "id": "0d94d5cf",
   "metadata": {},
   "source": [
    "It's a little faster, but not that much faster..."
   ]
  },
  {
   "cell_type": "markdown",
   "id": "e51ee290",
   "metadata": {},
   "source": [
    "### WAX-ML EWMA (without format step)"
   ]
  },
  {
   "cell_type": "markdown",
   "id": "7361def9",
   "metadata": {},
   "source": [
    "Let's disable the final formatting step (the output is now in raw JAX format):"
   ]
  },
  {
   "cell_type": "code",
   "execution_count": 9,
   "id": "f87f5668",
   "metadata": {
    "tags": []
   },
   "outputs": [
    {
     "name": "stdout",
     "output_type": "stream",
     "text": [
      "CPU times: user 450 ms, sys: 244 ms, total: 694 ms\n",
      "Wall time: 693 ms\n"
     ]
    }
   ],
   "source": [
    "%%time\n",
    "df_ewma_wax_no_format = dataframe.wax.ewm(alpha=1.0 / 10.0, format_outputs=False).mean()"
   ]
  },
  {
   "cell_type": "code",
   "execution_count": 34,
   "id": "88d0cab5-62ad-47f7-9d06-56fc45fa542e",
   "metadata": {},
   "outputs": [
    {
     "data": {
      "text/plain": [
       "jaxlib.xla_extension.DeviceArray"
      ]
     },
     "execution_count": 34,
     "metadata": {},
     "output_type": "execute_result"
    }
   ],
   "source": [
    "type(df_ewma_wax_no_format)"
   ]
  },
  {
   "cell_type": "markdown",
   "id": "9be62475-b2fa-4a95-b293-7e4410ca36ca",
   "metadata": {},
   "source": [
    "Let's check the device on which the calculation was performed (if you have GPU available, this should be `GpuDevice` otherwise it will be `CpuDevice`):"
   ]
  },
  {
   "cell_type": "code",
   "execution_count": 35,
   "id": "38d3970c-04a5-4deb-93b3-a4f5f899e8f1",
   "metadata": {},
   "outputs": [
    {
     "data": {
      "text/plain": [
       "CpuDevice(id=0)"
      ]
     },
     "execution_count": 35,
     "metadata": {},
     "output_type": "execute_result"
    }
   ],
   "source": [
    "df_ewma_wax_no_format.device()"
   ]
  },
  {
   "cell_type": "markdown",
   "id": "784ee16e",
   "metadata": {},
   "source": [
    "That's better! In fact (see below)\n",
    "there is a performance problem in the final formatting step.\n",
    "See WEP3 for a proposal to improve the formatting step."
   ]
  },
  {
   "cell_type": "markdown",
   "id": "c5e7b817",
   "metadata": {},
   "source": [
    "### Generate data (in dataset format)\n",
    "\n",
    "WAX-ML `Sream` object works on datasets.\n",
    "So let's transform the `DataFrame` into a xarray `Dataset`:"
   ]
  },
  {
   "cell_type": "code",
   "execution_count": 10,
   "id": "9965444b",
   "metadata": {},
   "outputs": [],
   "source": [
    "dataset = xr.DataArray(dataframe).to_dataset(name=\"dataarray\")"
   ]
  },
  {
   "cell_type": "markdown",
   "id": "123965eb",
   "metadata": {},
   "source": [
    "## Step (1) (synchronize | data tracing | encode)\n",
    "\n",
    "In this step,  WAX-ML do:\n",
    "- \"data tracing\" : prepare the indices for fast access tin the JAX function `access_data`\n",
    "- synchronize streams if there is multiple ones.\n",
    "  This functionality have options : `freq`, `ffills`\n",
    "- encode and convert data from numpy to JAX: use encoders for `datetimes64` and `string_`\n",
    "  dtypes. Be aware that by default JAX works in float32\n",
    "  (see [JAX's Common Gotchas](https://jax.readthedocs.io/en/latest/notebooks/Common_Gotchas_in_JAX.html#double-64bit-precision) to work in float64)."
   ]
  },
  {
   "cell_type": "code",
   "execution_count": 11,
   "id": "4c085f3e",
   "metadata": {},
   "outputs": [
    {
     "name": "stdout",
     "output_type": "stream",
     "text": [
      "CPU times: user 212 ms, sys: 2.62 ms, total: 215 ms\n",
      "Wall time: 107 ms\n"
     ]
    },
    {
     "name": "stderr",
     "output_type": "stream",
     "text": [
      "/usr/local/anaconda3/envs/wax-env/lib/python3.7/site-packages/jax/_src/numpy/lax_numpy.py:2977: UserWarning: Explicitly requested dtype float64 requested in asarray is not available, and will be truncated to dtype float32. To enable more dtypes, set the jax_enable_x64 configuration option or the JAX_ENABLE_X64 shell environment variable. See https://github.com/google/jax#current-gotchas for more.\n",
      "  lax._check_user_dtype_supported(dtype, \"asarray\")\n",
      "/usr/local/anaconda3/envs/wax-env/lib/python3.7/site-packages/jax/_src/numpy/lax_numpy.py:2977: UserWarning: Explicitly requested dtype int64 requested in asarray is not available, and will be truncated to dtype int32. To enable more dtypes, set the jax_enable_x64 configuration option or the JAX_ENABLE_X64 shell environment variable. See https://github.com/google/jax#current-gotchas for more.\n",
      "  lax._check_user_dtype_supported(dtype, \"asarray\")\n"
     ]
    }
   ],
   "source": [
    "%%time\n",
    "stream = dataframe.wax.stream()\n",
    "np_data, np_index, xs = stream.trace_dataset(dataset)\n",
    "jnp_data, jnp_index, jxs = convert_to_tensors((np_data, np_index, xs), \"jax\")"
   ]
  },
  {
   "cell_type": "code",
   "execution_count": 12,
   "id": "e5b8163a-f7eb-4160-9ef4-8d98209758b7",
   "metadata": {},
   "outputs": [],
   "source": [
    "from jax.tree_util import tree_leaves, tree_map"
   ]
  },
  {
   "cell_type": "code",
   "execution_count": 13,
   "id": "dff4e665-58d1-4438-b100-a678f70a05a1",
   "metadata": {},
   "outputs": [
    {
     "name": "stdout",
     "output_type": "stream",
     "text": [
      "data copied to CPU device.\n"
     ]
    }
   ],
   "source": [
    "# We explicitly set data on CPUs (the is not needed if you only have CPUs)\n",
    "cpus = jax.devices(\"cpu\")\n",
    "jnp_data, jnp_index, jxs = tree_map(\n",
    "    lambda x: jax.device_put(x, cpus[0]), (jnp_data, jnp_index, jxs)\n",
    ")\n",
    "print(\"data copied to CPU device.\")"
   ]
  },
  {
   "cell_type": "markdown",
   "id": "12c9fb08",
   "metadata": {},
   "source": [
    "We have now \"JAX-ready\" data for later fast access."
   ]
  },
  {
   "cell_type": "markdown",
   "id": "903a778c",
   "metadata": {},
   "source": [
    "## Step (2) (compile | code tracing | execution)"
   ]
  },
  {
   "cell_type": "markdown",
   "id": "425830f4",
   "metadata": {},
   "source": [
    "In this step we:\n",
    "- prepare a pure function (with\n",
    "  [Haiku's transform mechanism](https://dm-haiku.readthedocs.io/en/latest/api.html#haiku-transforms))\n",
    "  Define a \"transformation\" function which:\n",
    "    - access to the data\n",
    "    - apply another transformation, here: EWMA\n",
    "\n",
    "- compile it with `jax.jit`\n",
    "- perform code tracing and execution (the last line):\n",
    "    - Unroll the transformation on \"steps\" `xs` (a `np.arange` vector)."
   ]
  },
  {
   "cell_type": "code",
   "execution_count": 14,
   "id": "bcc3e722",
   "metadata": {},
   "outputs": [
    {
     "name": "stdout",
     "output_type": "stream",
     "text": [
      "CPU times: user 1.78 s, sys: 269 ms, total: 2.05 s\n",
      "Wall time: 1.93 s\n"
     ]
    }
   ],
   "source": [
    "%%time\n",
    "@jit_init_apply\n",
    "@hk.transform_with_state\n",
    "def transform_dataset(step):\n",
    "    dataset = tree_access_data(jnp_data, jnp_index, step)\n",
    "    return EWMA(alpha=1.0 / 10.0, adjust=True)(dataset[\"dataarray\"])\n",
    "\n",
    "\n",
    "rng = next(hk.PRNGSequence(42))\n",
    "outputs, state = dynamic_unroll(transform_dataset, None, None, rng, False, jxs)"
   ]
  },
  {
   "cell_type": "code",
   "execution_count": 15,
   "id": "3862a486-a5a2-4aa9-967a-59ebc32a18e1",
   "metadata": {},
   "outputs": [
    {
     "data": {
      "text/plain": [
       "CpuDevice(id=0)"
      ]
     },
     "execution_count": 15,
     "metadata": {},
     "output_type": "execute_result"
    }
   ],
   "source": [
    "outputs.device()"
   ]
  },
  {
   "cell_type": "markdown",
   "id": "b73f3252",
   "metadata": {},
   "source": [
    "Once it has been compiled and \"traced\" by JAX, the function is much faster to execute:"
   ]
  },
  {
   "cell_type": "code",
   "execution_count": 16,
   "id": "a889d294",
   "metadata": {
    "tags": []
   },
   "outputs": [
    {
     "name": "stdout",
     "output_type": "stream",
     "text": [
      "1.57 s ± 6.97 ms per loop (mean ± std. dev. of 7 runs, 1 loop each)\n"
     ]
    }
   ],
   "source": [
    "%%timeit\n",
    "outputs, state = dynamic_unroll(transform_dataset, None, None, rng, False, jxs)"
   ]
  },
  {
   "cell_type": "code",
   "execution_count": 30,
   "id": "f19185cd-15c2-4c9c-bbff-8d50deb1fee2",
   "metadata": {},
   "outputs": [
    {
     "name": "stdout",
     "output_type": "stream",
     "text": [
      "CPU times: user 149 ms, sys: 128 ms, total: 277 ms\n",
      "Wall time: 133 ms\n"
     ]
    }
   ],
   "source": [
    "%%time\n",
    "outputs, state = dynamic_unroll(transform_dataset, None, None, rng, False, jxs)"
   ]
  },
  {
   "cell_type": "markdown",
   "id": "987e8b63",
   "metadata": {},
   "source": [
    "This is 3x faster than pandas implementation!\n",
    "\n",
    "(The 3x factor is obtained by measuring the execution with %timeit.\n",
    "We don't know why, but when executing a code cell once at a time, then the execution time can vary a lot and we can observe some executions with a speed-up of 100x)."
   ]
  },
  {
   "cell_type": "markdown",
   "id": "6fa51498",
   "metadata": {},
   "source": [
    "## Step(3) (format)\n",
    "Let's come back to pandas/xarray:"
   ]
  },
  {
   "cell_type": "code",
   "execution_count": 19,
   "id": "d1b0732c",
   "metadata": {},
   "outputs": [
    {
     "name": "stdout",
     "output_type": "stream",
     "text": [
      "CPU times: user 1.49 s, sys: 18.2 ms, total: 1.51 s\n",
      "Wall time: 1.51 s\n"
     ]
    }
   ],
   "source": [
    "%%time\n",
    "y = format_dataframe(\n",
    "    dataset.coords, onp.array(outputs), format_dims=dataset.dataarray.dims\n",
    ")"
   ]
  },
  {
   "cell_type": "markdown",
   "id": "e27bd3b8",
   "metadata": {},
   "source": [
    "It's quite slow (see WEP3 enhancement proposal)."
   ]
  },
  {
   "cell_type": "markdown",
   "id": "86c5009b-b2e1-4158-9a73-2e30872ce27d",
   "metadata": {
    "lines_to_next_cell": 2
   },
   "source": [
    "## GPU execution"
   ]
  },
  {
   "cell_type": "markdown",
   "id": "3cdc9281-6092-4368-a0e8-ed26a5114106",
   "metadata": {},
   "source": [
    "## GPU execution"
   ]
  },
  {
   "cell_type": "markdown",
   "id": "f0d4651d-9087-4f04-9f07-a4d92cd3ba1f",
   "metadata": {},
   "source": [
    "Let's look with execution on GPU"
   ]
  },
  {
   "cell_type": "code",
   "execution_count": 20,
   "id": "a30f6024-5e9c-4174-92ea-7207860d829d",
   "metadata": {},
   "outputs": [
    {
     "name": "stdout",
     "output_type": "stream",
     "text": [
      "Unknown backend gpu. Available: ['interpreter', 'cpu']\n"
     ]
    }
   ],
   "source": [
    "try:\n",
    "    gpus = jax.devices(\"gpu\")\n",
    "    jnp_data, jnp_index, jxs = tree_map(\n",
    "        lambda x: jax.device_put(x, gpus[0]), (jnp_data, jnp_index, jxs)\n",
    "    )\n",
    "    print(\"data copied to GPU device.\")\n",
    "    GPU_AVAILABLE = True\n",
    "except RuntimeError as err:\n",
    "    print(err)\n",
    "    GPU_AVAILABLE = False"
   ]
  },
  {
   "cell_type": "markdown",
   "id": "27d7cf26-f35b-489e-83b9-c120565d9b17",
   "metadata": {},
   "source": [
    "Let's check that our data is on the GPUs:"
   ]
  },
  {
   "cell_type": "code",
   "execution_count": 21,
   "id": "d6f00e5d-1b85-483d-9856-35de3a954b13",
   "metadata": {},
   "outputs": [
    {
     "data": {
      "text/plain": [
       "CpuDevice(id=0)"
      ]
     },
     "execution_count": 21,
     "metadata": {},
     "output_type": "execute_result"
    }
   ],
   "source": [
    "tree_leaves(jnp_data)[0].device()"
   ]
  },
  {
   "cell_type": "code",
   "execution_count": 22,
   "id": "6f89fc7c-4824-4858-aee8-6fff7834c70c",
   "metadata": {},
   "outputs": [
    {
     "data": {
      "text/plain": [
       "CpuDevice(id=0)"
      ]
     },
     "execution_count": 22,
     "metadata": {},
     "output_type": "execute_result"
    }
   ],
   "source": [
    "tree_leaves(jnp_index)[0].device()"
   ]
  },
  {
   "cell_type": "code",
   "execution_count": 23,
   "id": "ba2471ef-51e4-49f2-863c-aabafd401cbf",
   "metadata": {},
   "outputs": [
    {
     "data": {
      "text/plain": [
       "CpuDevice(id=0)"
      ]
     },
     "execution_count": 23,
     "metadata": {},
     "output_type": "execute_result"
    }
   ],
   "source": [
    "jxs.device()"
   ]
  },
  {
   "cell_type": "code",
   "execution_count": 24,
   "id": "6c35bd5d-0113-455d-bd56-f7c31bf6c736",
   "metadata": {
    "lines_to_next_cell": 2
   },
   "outputs": [
    {
     "name": "stdout",
     "output_type": "stream",
     "text": [
      "CPU times: user 2 µs, sys: 2 µs, total: 4 µs\n",
      "Wall time: 6.91 µs\n"
     ]
    }
   ],
   "source": [
    "%%time\n",
    "if GPU_AVAILABLE:\n",
    "    rng = next(hk.PRNGSequence(42))\n",
    "    outputs, state = dynamic_unroll(transform_dataset, None, None, rng, False, jxs)"
   ]
  },
  {
   "cell_type": "markdown",
   "id": "274b5615-8785-43e7-a2db-5f867566c913",
   "metadata": {},
   "source": [
    "Let's redefine our function `transform_dataset` by explicitly specify to `jax.jit` the `device` option."
   ]
  },
  {
   "cell_type": "code",
   "execution_count": 25,
   "id": "6bb7431e-90f2-4761-a906-69f25fea4a63",
   "metadata": {},
   "outputs": [
    {
     "name": "stdout",
     "output_type": "stream",
     "text": [
      "CPU times: user 2 µs, sys: 2 µs, total: 4 µs\n",
      "Wall time: 6.91 µs\n"
     ]
    }
   ],
   "source": [
    "%%time\n",
    "if GPU_AVAILABLE:\n",
    "\n",
    "    @hk.transform_with_state\n",
    "    def transform_dataset(step):\n",
    "        dataset = tree_access_data(jnp_data, jnp_index, step)\n",
    "        return EWMA(alpha=1.0 / 10.0, adjust=True)(dataset[\"dataarray\"])\n",
    "\n",
    "    transform_dataset = type(transform_dataset)(\n",
    "        transform_dataset.init, jax.jit(transform_dataset.apply, device=gpus[0])\n",
    "    )\n",
    "\n",
    "    rng = next(hk.PRNGSequence(42))\n",
    "    outputs, state = dynamic_unroll(transform_dataset, None, None, rng, False, jxs)"
   ]
  },
  {
   "cell_type": "code",
   "execution_count": 26,
   "id": "944dcb8e-211c-4b39-b854-12118fe775ed",
   "metadata": {},
   "outputs": [
    {
     "data": {
      "text/plain": [
       "CpuDevice(id=0)"
      ]
     },
     "execution_count": 26,
     "metadata": {},
     "output_type": "execute_result"
    }
   ],
   "source": [
    "outputs.device()"
   ]
  },
  {
   "cell_type": "code",
   "execution_count": 27,
   "id": "de99ee71-4e02-4843-9e6e-39d831f9697e",
   "metadata": {},
   "outputs": [
    {
     "name": "stdout",
     "output_type": "stream",
     "text": [
      "17.1 ns ± 0.0865 ns per loop (mean ± std. dev. of 7 runs, 100000000 loops each)\n"
     ]
    }
   ],
   "source": [
    "%%timeit\n",
    "if GPU_AVAILABLE:\n",
    "    outputs, state = dynamic_unroll(transform_dataset, None, None, rng, False, jxs)"
   ]
  }
 ],
 "metadata": {
  "jupytext": {
   "encoding": "# -*- coding: utf-8 -*-",
   "formats": "ipynb,py,md:myst"
  },
  "kernelspec": {
   "display_name": "Python 3",
   "language": "python",
   "name": "python3"
  },
  "language_info": {
   "codemirror_mode": {
    "name": "ipython",
    "version": 3
   },
   "file_extension": ".py",
   "mimetype": "text/x-python",
   "name": "python",
   "nbconvert_exporter": "python",
   "pygments_lexer": "ipython3",
   "version": "3.7.0"
  }
 },
 "nbformat": 4,
 "nbformat_minor": 5
}
