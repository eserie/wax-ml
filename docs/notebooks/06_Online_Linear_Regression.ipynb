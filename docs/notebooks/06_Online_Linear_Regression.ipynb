{
 "cells": [
  {
   "cell_type": "code",
   "execution_count": 1,
   "id": "fe417db2",
   "metadata": {},
   "outputs": [],
   "source": [
    "# Uncomment to run the notebook in Colab\n",
    "# ! pip install -q \"wax-ml[complete]@git+https://github.com/eserie/wax-ml.git\"\n",
    "# ! pip install -q --upgrade jax jaxlib==0.1.70+cuda111 -f https://storage.googleapis.com/jax-releases/jax_releases.html"
   ]
  },
  {
   "cell_type": "code",
   "execution_count": 4,
   "id": "55330098",
   "metadata": {},
   "outputs": [],
   "source": [
    "# check available devices\n",
    "import jax"
   ]
  },
  {
   "cell_type": "code",
   "execution_count": 5,
   "id": "42487faa",
   "metadata": {},
   "outputs": [
    {
     "name": "stdout",
     "output_type": "stream",
     "text": [
      "jax backend cpu\n"
     ]
    },
    {
     "data": {
      "text/plain": [
       "[<jaxlib.xla_extension.Device at 0x134d1dd70>]"
      ]
     },
     "execution_count": 5,
     "metadata": {},
     "output_type": "execute_result"
    }
   ],
   "source": [
    "print(\"jax backend {}\".format(jax.lib.xla_bridge.get_backend().platform))\n",
    "jax.devices()"
   ]
  },
  {
   "cell_type": "markdown",
   "id": "c51bd91e",
   "metadata": {},
   "source": [
    "# 🦎 Online linear regression with a non-stationary environment 🦎\n",
    "\n",
    "[![Open in Colab](https://colab.research.google.com/assets/colab-badge.svg)](https://colab.research.google.com/github/eserie/wax-ml/blob/main/docs/notebooks/06_Online_Linear_Regression.ipynb)"
   ]
  },
  {
   "cell_type": "markdown",
   "id": "30eb0afa",
   "metadata": {},
   "source": [
    "We implement an online learning non-stationary linear regression problem.\n",
    "\n",
    "We go there progressively by showing how a linear regression problem can be cast\n",
    "into an online learning problem thanks to the `OnlineSupervisedLearner` module.\n",
    "\n",
    "Then, to tackle a non-stationary linear regression problem (i.e. with a weight that can vary in time)\n",
    "we reformulate the problem into a reinforcement learning problem that we implement with the `GymFeedBack` module of WAX-ML.\n",
    "\n",
    "We then need to define an \"agent\" and an \"environment\" using simple functions implemented with modules:\n",
    "- The agent is responsible for learning the weights of its internal linear model.\n",
    "- The environment is responsible for generating labels and evaluating the agent's reward metric.\n",
    "\n",
    "We experiment with a non-stationary environment that returns the sign of the linear regression parameters at a given time step,\n",
    "known only to the environment.\n",
    "\n",
    "This example shows that it is quite simple to implement this online-learning task with WAX-ML tools.\n",
    "In particular, the functional workflow adopted here allows reusing the functions implemented for a\n",
    "task for each new task of increasing complexity,\n",
    "\n",
    "\n",
    "In this journey, we will use:\n",
    "- Haiku basic linear module `hk.Linear`.\n",
    "- Optax stochastic gradient descent optimizer: `sgd`.\n",
    "- WAX-ML modules: `OnlineSupervisedLearner`, `Lag`, `GymFeedBack`\n",
    "- WAX-ML helper functions: `unroll`, `jit_init_apply`"
   ]
  },
  {
   "cell_type": "code",
   "execution_count": 6,
   "id": "7254b7c9",
   "metadata": {},
   "outputs": [
    {
     "name": "stdout",
     "output_type": "stream",
     "text": [
      "%pylab is deprecated, use %matplotlib inline and import the required libraries.\n",
      "Populating the interactive namespace from numpy and matplotlib\n"
     ]
    }
   ],
   "source": [
    "%pylab inline"
   ]
  },
  {
   "cell_type": "code",
   "execution_count": 7,
   "id": "4d69a058",
   "metadata": {},
   "outputs": [],
   "source": [
    "import haiku as hk\n",
    "import jax\n",
    "import jax.numpy as jnp\n",
    "import optax\n",
    "from matplotlib import pyplot as plt"
   ]
  },
  {
   "cell_type": "code",
   "execution_count": 8,
   "id": "37d3c416",
   "metadata": {},
   "outputs": [],
   "source": [
    "from wax.compile import jit_init_apply\n",
    "from wax.modules import OnlineSupervisedLearner"
   ]
  },
  {
   "cell_type": "markdown",
   "id": "8608b87f",
   "metadata": {},
   "source": [
    "## Static Linear Regression"
   ]
  },
  {
   "cell_type": "markdown",
   "id": "bdd83d37",
   "metadata": {},
   "source": [
    "First, let's implement a simple linear regression"
   ]
  },
  {
   "cell_type": "markdown",
   "id": "3e7dd122",
   "metadata": {},
   "source": [
    "### Generate data"
   ]
  },
  {
   "cell_type": "markdown",
   "id": "61372f94",
   "metadata": {},
   "source": [
    "Let's generate a batch of data:"
   ]
  },
  {
   "cell_type": "code",
   "execution_count": 9,
   "id": "054aedca",
   "metadata": {},
   "outputs": [],
   "source": [
    "seq = hk.PRNGSequence(42)\n",
    "X = jax.random.normal(next(seq), (100, 3))\n",
    "w_true = jnp.ones(3)"
   ]
  },
  {
   "cell_type": "markdown",
   "id": "4931fc3b",
   "metadata": {},
   "source": [
    "### Define the model"
   ]
  },
  {
   "cell_type": "markdown",
   "id": "6fc2e627",
   "metadata": {
    "lines_to_next_cell": 2
   },
   "source": [
    "We use the basic module `hk.Linear` which is a linear layer.\n",
    "By default, it initializes the weights with random values from the truncated normal,\n",
    "with a standard deviation of $1 / \\sqrt{N}$ (See https://arxiv.org/abs/1502.03167v3)\n",
    "where $N$ is the size of the inputs."
   ]
  },
  {
   "cell_type": "code",
   "execution_count": 10,
   "id": "d6e969ec",
   "metadata": {},
   "outputs": [],
   "source": [
    "@jit_init_apply\n",
    "@hk.transform_with_state\n",
    "def linear_model(x):\n",
    "    return hk.Linear(output_size=1, with_bias=False)(x)"
   ]
  },
  {
   "cell_type": "markdown",
   "id": "bcf7c6e6",
   "metadata": {},
   "source": [
    "### Run the model"
   ]
  },
  {
   "cell_type": "markdown",
   "id": "f810b112",
   "metadata": {},
   "source": [
    "Let's run the model using WAX-ML `unroll` on the batch of data."
   ]
  },
  {
   "cell_type": "code",
   "execution_count": 11,
   "id": "df09d289",
   "metadata": {},
   "outputs": [],
   "source": [
    "from wax.unroll import unroll"
   ]
  },
  {
   "cell_type": "code",
   "execution_count": 12,
   "id": "d6614f28",
   "metadata": {},
   "outputs": [
    {
     "data": {
      "text/plain": [
       "(DeviceArray([-0.2070887], dtype=float32), FlatMap({}))"
      ]
     },
     "execution_count": 12,
     "metadata": {},
     "output_type": "execute_result"
    }
   ],
   "source": [
    "params, state = linear_model.init(next(seq), X[0])\n",
    "linear_model.apply(params, state, None, X[0])"
   ]
  },
  {
   "cell_type": "code",
   "execution_count": 13,
   "id": "d133ece9",
   "metadata": {},
   "outputs": [],
   "source": [
    "Y_pred = unroll(linear_model, rng=next(seq))(X)"
   ]
  },
  {
   "cell_type": "code",
   "execution_count": 14,
   "id": "439bdf32",
   "metadata": {
    "lines_to_next_cell": 2
   },
   "outputs": [
    {
     "data": {
      "text/plain": [
       "(100, 1)"
      ]
     },
     "execution_count": 14,
     "metadata": {},
     "output_type": "execute_result"
    }
   ],
   "source": [
    "Y_pred.shape"
   ]
  },
  {
   "cell_type": "markdown",
   "id": "3f9b4800",
   "metadata": {},
   "source": [
    "### Check cost"
   ]
  },
  {
   "cell_type": "markdown",
   "id": "cde3a02f",
   "metadata": {},
   "source": [
    "Let's look at the mean squared error for this non-trained model."
   ]
  },
  {
   "cell_type": "code",
   "execution_count": 15,
   "id": "4b025ef4",
   "metadata": {
    "lines_to_next_cell": 2
   },
   "outputs": [],
   "source": [
    "noise = jax.random.normal(next(seq), (100,))\n",
    "Y = X.dot(w_true) + noise\n",
    "L = ((Y - Y_pred) ** 2).sum(axis=1)\n",
    "mean_loss = L.mean()\n",
    "assert mean_loss > 0"
   ]
  },
  {
   "cell_type": "markdown",
   "id": "63791e3c",
   "metadata": {},
   "source": [
    "Let's look at the regret (cumulative sum of the loss) for the non-trained model."
   ]
  },
  {
   "cell_type": "code",
   "execution_count": 16,
   "id": "609de672",
   "metadata": {},
   "outputs": [
    {
     "data": {
      "text/plain": [
       "Text(0.5, 1.0, 'Regret')"
      ]
     },
     "execution_count": 16,
     "metadata": {},
     "output_type": "execute_result"
    },
    {
     "data": {
      "image/png": "[encoded data removed]",
      "text/plain": [
       "<Figure size 432x288 with 1 Axes>"
      ]
     },
     "metadata": {
      "needs_background": "light"
     },
     "output_type": "display_data"
    }
   ],
   "source": [
    "plt.plot(L.cumsum())\n",
    "plt.title(\"Regret\")"
   ]
  },
  {
   "cell_type": "markdown",
   "id": "eda93569",
   "metadata": {},
   "source": [
    "As expected, we have a linear regret when we did not train the model!"
   ]
  },
  {
   "cell_type": "markdown",
   "id": "337c8120",
   "metadata": {
    "lines_to_next_cell": 2
   },
   "source": [
    "## Online Linear Regression"
   ]
  },
  {
   "cell_type": "markdown",
   "id": "761c30da",
   "metadata": {},
   "source": [
    "We will now start training the model online.\n",
    "For a review on online-learning methods see [1]\n",
    "\n",
    "\n",
    "[1] [Elad Hazan, Introduction to Online Convex Optimization](https://arxiv.org/abs/1909.05207)"
   ]
  },
  {
   "cell_type": "markdown",
   "id": "b0b1142c",
   "metadata": {},
   "source": [
    "### Define an optimizer"
   ]
  },
  {
   "cell_type": "code",
   "execution_count": 17,
   "id": "f7ead5be",
   "metadata": {
    "lines_to_next_cell": 2
   },
   "outputs": [],
   "source": [
    "opt = optax.sgd(1e-3)"
   ]
  },
  {
   "cell_type": "markdown",
   "id": "4d0103e4",
   "metadata": {},
   "source": [
    "### Define a loss"
   ]
  },
  {
   "cell_type": "markdown",
   "id": "2d074ebc",
   "metadata": {
    "lines_to_next_cell": 2
   },
   "source": [
    "Since we are doing online learning, we need to define a local loss function:\n",
    "$$\n",
    "\\ell_t(y, w, x) = \\lVert y_t -  w \\cdot x_t \\rVert^2\n",
    "$$"
   ]
  },
  {
   "cell_type": "code",
   "execution_count": 18,
   "id": "71c403f3-a5d5-47b6-b362-4328843832cc",
   "metadata": {},
   "outputs": [],
   "source": [
    "def linear_model(x):\n",
    "    return hk.Linear(output_size=1, with_bias=False)(x)"
   ]
  },
  {
   "cell_type": "code",
   "execution_count": 19,
   "id": "bb0b6163",
   "metadata": {
    "lines_to_next_cell": 2
   },
   "outputs": [],
   "source": [
    "def loss(y_pred, y):\n",
    "    return jnp.mean(jnp.square(y_pred - y))"
   ]
  },
  {
   "cell_type": "markdown",
   "id": "36aab5ba",
   "metadata": {
    "lines_to_next_cell": 2
   },
   "source": [
    "### Define a learning strategy"
   ]
  },
  {
   "cell_type": "code",
   "execution_count": 20,
   "id": "a83df91e",
   "metadata": {
    "lines_to_next_cell": 2
   },
   "outputs": [],
   "source": [
    "def learner(x, y):\n",
    "    return OnlineSupervisedLearner(linear_model, opt, loss)(x, y)"
   ]
  },
  {
   "cell_type": "markdown",
   "id": "040f093f",
   "metadata": {
    "lines_to_next_cell": 2
   },
   "source": [
    "### Generate data"
   ]
  },
  {
   "cell_type": "code",
   "execution_count": 21,
   "id": "7cbd5cf5",
   "metadata": {},
   "outputs": [],
   "source": [
    "def generate_many_observations(T=300, sigma=1.0e-2, rng=None):\n",
    "    rng = jax.random.PRNGKey(42) if rng is None else rng\n",
    "    X = jax.random.normal(rng, (T, 3))\n",
    "    noise = sigma * jax.random.normal(rng, (T,))\n",
    "    w_true = jnp.ones(3)\n",
    "    noise = sigma * jax.random.normal(rng, (T,))\n",
    "    Y = X.dot(w_true) + noise\n",
    "    return (X, Y)"
   ]
  },
  {
   "cell_type": "code",
   "execution_count": 22,
   "id": "9a969bb9",
   "metadata": {},
   "outputs": [],
   "source": [
    "T = 3000\n",
    "X, Y = generate_many_observations(T)"
   ]
  },
  {
   "cell_type": "markdown",
   "id": "fae8a229",
   "metadata": {},
   "source": [
    "### Unroll the learner"
   ]
  },
  {
   "cell_type": "code",
   "execution_count": 23,
   "id": "88fccfcb",
   "metadata": {},
   "outputs": [],
   "source": [
    "(output, info) = unroll(learner, rng=next(seq))(X, Y)"
   ]
  },
  {
   "cell_type": "markdown",
   "id": "2df1c39f",
   "metadata": {},
   "source": [
    "### Plot the regret"
   ]
  },
  {
   "cell_type": "markdown",
   "id": "cfa49c86",
   "metadata": {},
   "source": [
    "Let's look at the loss and regret over time."
   ]
  },
  {
   "cell_type": "code",
   "execution_count": 24,
   "id": "bec3498f",
   "metadata": {
    "lines_to_end_of_cell_marker": 2
   },
   "outputs": [
    {
     "data": {
      "text/plain": [
       "Text(0.5, 1.0, 'Weight[0,0]')"
      ]
     },
     "execution_count": 24,
     "metadata": {},
     "output_type": "execute_result"
    },
    {
     "data": {
      "image/png": "[encoded data removed]",
      "text/plain": [
       "<Figure size 648x216 with 2 Axes>"
      ]
     },
     "metadata": {
      "needs_background": "light"
     },
     "output_type": "display_data"
    }
   ],
   "source": [
    "fig, axs = plt.subplots(1, 2, figsize=(9, 3))\n",
    "axs[0].plot(info.loss.cumsum())\n",
    "axs[0].set_title(\"Regret\")\n",
    "\n",
    "axs[1].plot(info.params[\"linear\"][\"w\"][:, 0, 0])\n",
    "axs[1].set_title(\"Weight[0,0]\")"
   ]
  },
  {
   "cell_type": "markdown",
   "id": "c76c68dc",
   "metadata": {},
   "source": [
    "We have sub-linear regret!"
   ]
  },
  {
   "cell_type": "markdown",
   "id": "f06fdeb6",
   "metadata": {},
   "source": [
    "##  Online learning with Gym\n",
    "\n",
    "Now we will recast the online linear regression learning task as a reinforcement learning task\n",
    "implemented with the `GymFeedback` module of WAX-ML.\n",
    "\n",
    "For that, we define:\n",
    "- obserbations (`obs`) : pairs  `(x, y)` of features and labels\n",
    "- raw observations (`raw_obs`): pairs `(x, noise)`  of features and noise."
   ]
  },
  {
   "cell_type": "markdown",
   "id": "b316804a",
   "metadata": {},
   "source": [
    "### Linear regression agent"
   ]
  },
  {
   "cell_type": "markdown",
   "id": "7aaded68",
   "metadata": {},
   "source": [
    "In WAX-ML, an agent is a simple function with the following API:\n",
    "<div align=\"center\">\n",
    "<img src=\"../tikz/agent.png\" alt=\"logo\" width=\"20%\"></img>\n",
    "</div>"
   ]
  },
  {
   "cell_type": "markdown",
   "id": "d252be25",
   "metadata": {
    "lines_to_next_cell": 2
   },
   "source": [
    "Let's define a simple linear regression agent with the elements we have defined so far."
   ]
  },
  {
   "cell_type": "code",
   "execution_count": 25,
   "id": "28f862fe",
   "metadata": {},
   "outputs": [],
   "source": [
    "def linear_regression_agent(obs):\n",
    "    x, y = obs\n",
    "\n",
    "    def model(x):\n",
    "        return hk.Linear(output_size=1, with_bias=False)(x)\n",
    "\n",
    "    opt = optax.sgd(1e-3)\n",
    "\n",
    "    def loss(y_pred, y):\n",
    "        return jnp.mean(jnp.square(y_pred - y))\n",
    "\n",
    "    return OnlineSupervisedLearner(model, opt, loss)(x, y)"
   ]
  },
  {
   "cell_type": "markdown",
   "id": "a4dcf443",
   "metadata": {},
   "source": [
    "### Linear regression environment"
   ]
  },
  {
   "cell_type": "markdown",
   "id": "871f125f",
   "metadata": {},
   "source": [
    "In WAX-ML, an environment is a simple function with the following API:\n",
    "<div align=\"center\">\n",
    "<img src=\"../tikz/env.png\" alt=\"logo\" width=\"20%\"></img>\n",
    "</div>"
   ]
  },
  {
   "cell_type": "markdown",
   "id": "d0947647",
   "metadata": {},
   "source": [
    "Let's now define a linear regression environment that, for the moment,\n",
    "have static weights.\n",
    "\n",
    "It is responsible for generating the real labels and evaluating the agent's reward.\n",
    "\n",
    "\n",
    "For the evaluation of the reward, we need the `Lag` module to evaluate the action of\n",
    "the agent with the labels generated in the previous time step."
   ]
  },
  {
   "cell_type": "code",
   "execution_count": 26,
   "id": "cfd7444b",
   "metadata": {},
   "outputs": [],
   "source": [
    "from wax.modules import Lag"
   ]
  },
  {
   "cell_type": "code",
   "execution_count": 27,
   "id": "575ae3f6",
   "metadata": {
    "lines_to_next_cell": 2
   },
   "outputs": [],
   "source": [
    "def stationary_linear_regression_env(action, raw_obs):\n",
    "\n",
    "    # Only the environment now the true value of the parameters\n",
    "    w_true = -jnp.ones(3)\n",
    "\n",
    "    # The environment has its proper loss definition\n",
    "    def loss(y_pred, y):\n",
    "        return jnp.mean(jnp.square(y_pred - y))\n",
    "\n",
    "    # raw observation contains features and generative noise\n",
    "    x, noise = raw_obs\n",
    "\n",
    "    # generate targets\n",
    "    y = x @ w_true + noise\n",
    "    obs = (x, y)\n",
    "\n",
    "    y_previous = Lag(1)(y)\n",
    "    # evaluate the prediction made by the agent\n",
    "    y_pred = action\n",
    "    reward = loss(y_pred, y_previous)\n",
    "\n",
    "    return reward, obs, {}"
   ]
  },
  {
   "cell_type": "markdown",
   "id": "d24e7f93",
   "metadata": {
    "lines_to_next_cell": 2
   },
   "source": [
    "### Generate raw observation\n",
    "\n",
    "Let's define a function that generate the raw observation:"
   ]
  },
  {
   "cell_type": "code",
   "execution_count": 28,
   "id": "b2c5d5f7",
   "metadata": {},
   "outputs": [],
   "source": [
    "def generate_many_raw_observations(T=300, sigma=1.0e-2, rng=None):\n",
    "    rng = jax.random.PRNGKey(42) if rng is None else rng\n",
    "    X = jax.random.normal(rng, (T, 3))\n",
    "    noise = sigma * jax.random.normal(rng, (T,))\n",
    "    return (X, noise)"
   ]
  },
  {
   "cell_type": "markdown",
   "id": "f8dd7bbb",
   "metadata": {},
   "source": [
    "### Implement Feedback"
   ]
  },
  {
   "cell_type": "markdown",
   "id": "23019522",
   "metadata": {},
   "source": [
    "We are now ready to set things up with the `GymFeedback` module implemented in WAX-ML.\n",
    "\n",
    "It implements the following feedback loop:\n",
    "<div align=\"center\">\n",
    "<img src=\"../tikz/gymfeedback.png\" alt=\"logo\" width=\"50%\"></img>\n",
    "</div>"
   ]
  },
  {
   "cell_type": "markdown",
   "id": "3402ccc5",
   "metadata": {},
   "source": [
    "Equivalently, it can be described with the pair of `init` and `apply` functions:\n",
    "<div align=\"center\">\n",
    "<img src=\"../tikz/gymfeedback_init_apply.png\" alt=\"logo\" width=\"100%\"></img>\n",
    "</div>"
   ]
  },
  {
   "cell_type": "code",
   "execution_count": 29,
   "id": "13dfb44e",
   "metadata": {},
   "outputs": [],
   "source": [
    "from wax.modules import GymFeedback"
   ]
  },
  {
   "cell_type": "code",
   "execution_count": 30,
   "id": "53a35d17",
   "metadata": {},
   "outputs": [],
   "source": [
    "def gym_fun(raw_obs):\n",
    "    return GymFeedback(\n",
    "        linear_regression_agent, stationary_linear_regression_env, return_action=True\n",
    "    )(raw_obs)"
   ]
  },
  {
   "cell_type": "markdown",
   "id": "8660a5c5",
   "metadata": {},
   "source": [
    "And now we can unroll it on a sequence of raw observations!"
   ]
  },
  {
   "cell_type": "code",
   "execution_count": 31,
   "id": "de1d0393",
   "metadata": {},
   "outputs": [],
   "source": [
    "seq = hk.PRNGSequence(42)\n",
    "T = 3000\n",
    "raw_observations = generate_many_raw_observations(T)\n",
    "rng = next(seq)\n",
    "(gym_output, gym_info) = unroll(gym_fun, rng=rng, skip_first=True)(raw_observations)"
   ]
  },
  {
   "cell_type": "markdown",
   "id": "12f2c03b",
   "metadata": {},
   "source": [
    "Let's visualize the outputs.\n",
    "\n",
    "\n",
    "We now use `pd.Series` to represent the reward sequence since its first value is Nan due to the use of the lag operator."
   ]
  },
  {
   "cell_type": "code",
   "execution_count": 32,
   "id": "654ab622",
   "metadata": {},
   "outputs": [],
   "source": [
    "import pandas as pd"
   ]
  },
  {
   "cell_type": "code",
   "execution_count": 33,
   "id": "5030aef6",
   "metadata": {},
   "outputs": [
    {
     "data": {
      "text/plain": [
       "Text(0.5, 1.0, 'Weight[0,0]')"
      ]
     },
     "execution_count": 33,
     "metadata": {},
     "output_type": "execute_result"
    },
    {
     "data": {
      "image/png": "[encoded data removed]",
      "text/plain": [
       "<Figure size 648x216 with 2 Axes>"
      ]
     },
     "metadata": {
      "needs_background": "light"
     },
     "output_type": "display_data"
    }
   ],
   "source": [
    "fig, axs = plt.subplots(1, 2, figsize=(9, 3))\n",
    "pd.Series(gym_output.reward).cumsum().plot(ax=axs[0], title=\"Regret\")\n",
    "axs[1].plot(info.params[\"linear\"][\"w\"][:, 0, 0])\n",
    "axs[1].set_title(\"Weight[0,0]\")"
   ]
  },
  {
   "cell_type": "markdown",
   "id": "3c282335",
   "metadata": {},
   "source": [
    "## Non-stationary environment"
   ]
  },
  {
   "cell_type": "markdown",
   "id": "241db2bb",
   "metadata": {
    "lines_to_next_cell": 2
   },
   "source": [
    "Now, let's implement a non-stationary environment.\n",
    "\n",
    "We implement it so that the sign of the weight is reversed after 2000$ steps."
   ]
  },
  {
   "cell_type": "code",
   "execution_count": 34,
   "id": "4e0deb91",
   "metadata": {
    "lines_to_next_cell": 2
   },
   "outputs": [],
   "source": [
    "class NonStationaryEnvironment(hk.Module):\n",
    "    def __call__(self, action, raw_obs):\n",
    "\n",
    "        step = hk.get_state(\"step\", [], init=lambda *_: 0)\n",
    "\n",
    "        # Only the environment now the true value of the parameters\n",
    "        # at step 2000 we flip the sign of the true parameters !\n",
    "        w_true = hk.cond(\n",
    "            step < 2000,\n",
    "            step,\n",
    "            lambda step: -jnp.ones(3),\n",
    "            step,\n",
    "            lambda step: jnp.ones(3),\n",
    "        )\n",
    "\n",
    "        # The environment has its proper loss definition\n",
    "        def loss(y_pred, y):\n",
    "            return jnp.mean(jnp.square(y_pred - y))\n",
    "\n",
    "        # raw observation contains features and generative noise\n",
    "        x, noise = raw_obs\n",
    "\n",
    "        # generate targets\n",
    "        y = x @ w_true + noise\n",
    "        obs = (x, y)\n",
    "\n",
    "        # evaluate the prediction made by the agent\n",
    "        y_previous = Lag(1)(y)\n",
    "        y_pred = action\n",
    "        reward = loss(y_pred, y_previous)\n",
    "\n",
    "        step += 1\n",
    "        hk.set_state(\"step\", step)\n",
    "\n",
    "        return reward, obs, {}"
   ]
  },
  {
   "cell_type": "markdown",
   "id": "be33c348",
   "metadata": {
    "lines_to_next_cell": 2
   },
   "source": [
    "Now let's run a gym simulation to see how the agent adapt to the\n",
    "change of environment."
   ]
  },
  {
   "cell_type": "code",
   "execution_count": 35,
   "id": "1b46f534",
   "metadata": {},
   "outputs": [],
   "source": [
    "def gym_fun(raw_obs):\n",
    "    return GymFeedback(\n",
    "        linear_regression_agent, NonStationaryEnvironment(), return_action=True\n",
    "    )(raw_obs)"
   ]
  },
  {
   "cell_type": "code",
   "execution_count": 36,
   "id": "3653c303",
   "metadata": {},
   "outputs": [],
   "source": [
    "T = 6000\n",
    "raw_observations = generate_many_raw_observations(T)\n",
    "rng = jax.random.PRNGKey(42)\n",
    "(gym_output, gym_info) = unroll(gym_fun, rng=rng, skip_first=True)(\n",
    "    raw_observations,\n",
    ")"
   ]
  },
  {
   "cell_type": "code",
   "execution_count": 37,
   "id": "f81a70ae",
   "metadata": {},
   "outputs": [],
   "source": [
    "import pandas as pd"
   ]
  },
  {
   "cell_type": "code",
   "execution_count": 38,
   "id": "816c235c",
   "metadata": {},
   "outputs": [
    {
     "data": {
      "text/plain": [
       "Text(0.5, 1.0, 'Weight[0,0]')"
      ]
     },
     "execution_count": 38,
     "metadata": {},
     "output_type": "execute_result"
    },
    {
     "data": {
      "image/png": "[encoded data removed]",
      "text/plain": [
       "<Figure size 648x216 with 2 Axes>"
      ]
     },
     "metadata": {
      "needs_background": "light"
     },
     "output_type": "display_data"
    }
   ],
   "source": [
    "fig, axs = plt.subplots(1, 2, figsize=(9, 3))\n",
    "pd.Series(gym_output.reward).cumsum().plot(ax=axs[0], title=\"Regret\")\n",
    "axs[1].plot(gym_info.agent.params[\"linear\"][\"w\"][:, 0, 0])\n",
    "axs[1].set_title(\"Weight[0,0]\")\n",
    "# plt.savefig(\"../_static/online_linear_regression_regret.png\")"
   ]
  },
  {
   "cell_type": "markdown",
   "id": "3de37335",
   "metadata": {},
   "source": [
    "It adapts!\n",
    "\n",
    "The regret first converges, then jumps on step 2000 and finally readjusts to the new regime.\n",
    "\n",
    "We see that the weights converge to the correct values in both regimes."
   ]
  }
 ],
 "metadata": {
  "jupytext": {
   "encoding": "# -*- coding: utf-8 -*-",
   "formats": "ipynb,py,md"
  },
  "kernelspec": {
   "display_name": "Python 3 (ipykernel)",
   "language": "python",
   "name": "python3"
  },
  "language_info": {
   "codemirror_mode": {
    "name": "ipython",
    "version": 3
   },
   "file_extension": ".py",
   "mimetype": "text/x-python",
   "name": "python",
   "nbconvert_exporter": "python",
   "pygments_lexer": "ipython3",
   "version": "3.9.9"
  }
 },
 "nbformat": 4,
 "nbformat_minor": 5
}
