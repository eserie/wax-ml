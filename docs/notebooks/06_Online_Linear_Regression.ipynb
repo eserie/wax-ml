{
 "cells": [
  {
   "cell_type": "code",
   "execution_count": 1,
   "id": "b6767977-bdfc-4585-8171-109fbb50e911",
   "metadata": {},
   "outputs": [],
   "source": [
    "# Uncomment to run the notebook in Colab\n",
    "# ! pip install -q \"wax-ml[complete]@git+https://github.com/eserie/wax-ml.git\"\n",
    "# ! pip install -q --upgrade jax jaxlib==0.1.67+cuda111 -f https://storage.googleapis.com/jax-releases/jax_releases.html"
   ]
  },
  {
   "cell_type": "code",
   "execution_count": null,
   "id": "aff95ced",
   "metadata": {},
   "outputs": [],
   "source": [
    "# check available devices\n",
    "import jax"
   ]
  },
  {
   "cell_type": "code",
   "execution_count": 2,
   "id": "4ff60ac5-7d76-4ace-8eec-da7d9bfec1c6",
   "metadata": {},
   "outputs": [
    {
     "name": "stderr",
     "output_type": "stream",
     "text": [
      "WARNING:absl:No GPU/TPU found, falling back to CPU. (Set TF_CPP_MIN_LOG_LEVEL=0 and rerun for more info.)\n",
      "WARNING:absl:No GPU/TPU found, falling back to CPU. (Set TF_CPP_MIN_LOG_LEVEL=0 and rerun for more info.)\n"
     ]
    },
    {
     "name": "stdout",
     "output_type": "stream",
     "text": [
      "jax backend cpu\n"
     ]
    },
    {
     "data": {
      "text/plain": [
       "[CpuDevice(id=0)]"
      ]
     },
     "execution_count": 2,
     "metadata": {},
     "output_type": "execute_result"
    }
   ],
   "source": [
    "print(\"jax backend {}\".format(jax.lib.xla_bridge.get_backend().platform))\n",
    "jax.devices()"
   ]
  },
  {
   "cell_type": "markdown",
   "id": "8fd0bd29-128d-4920-91a4-122845b82d27",
   "metadata": {},
   "source": [
    "# 🦎 Online linear regression with a non-stationary environment 🦎\n",
    "\n",
    "[![Open in Colab](https://colab.research.google.com/assets/colab-badge.svg)](https://colab.research.google.com/github/eserie/wax-ml/blob/main/docs/notebooks/06_Online_Linear_Regression.ipynb)"
   ]
  },
  {
   "cell_type": "markdown",
   "id": "66c6be23-ef79-48ed-bb5d-29ca9c7eb359",
   "metadata": {},
   "source": [
    "We implement an online learning non-stationary linear regression problem.\n",
    "\n",
    "We go there progressively by showing how a linear regression problem can be cast\n",
    "into an online learning problem thanks to the `OnlineSupervisedLearner` module.\n",
    "\n",
    "Then, to tackle a non-stationary linear regression problem (i.e. with a weight that can vary in time)\n",
    "we reformulate the problem into a reinforcement learning problem that we implement with the `GymFeedBack` module of WAX-ML.\n",
    "\n",
    "We then need to define an \"agent\" and an \"environment\" using simple functions implemented with modules:\n",
    "- The agent is responsible for learning the weights of its internal linear model.\n",
    "- The environment is responsible for generating labels and evaluating the agent's reward metric.\n",
    "\n",
    "We experiment with a non-stationary environment that returns the sign of the linear regression parameters at a given time step,\n",
    "known only to the environment.\n",
    "\n",
    "This example shows that it is quite simple to implement this online-learning task with WAX-ML tools.\n",
    "In particular, the functional workflow adopted here allows reusing the functions implemented for a\n",
    "task for each new task of increasing complexity,\n",
    "\n",
    "\n",
    "In this journey, we will use:\n",
    "- Haiku basic linear module `hk.Linear`.\n",
    "- Optax stochastic gradient descent optimizer: `sgd`.\n",
    "- WAX-ML modules: `OnlineSupervisedLearner`, `Lag`, `GymFeedBack`\n",
    "- WAX-ML helper functions: `unroll`, `jit_init_apply`"
   ]
  },
  {
   "cell_type": "code",
   "execution_count": 3,
   "id": "7e74b3df-6c75-46b7-9204-dcfa5f37e557",
   "metadata": {},
   "outputs": [
    {
     "name": "stdout",
     "output_type": "stream",
     "text": [
      "Populating the interactive namespace from numpy and matplotlib\n"
     ]
    }
   ],
   "source": [
    "%pylab inline"
   ]
  },
  {
   "cell_type": "code",
   "execution_count": 4,
   "id": "8372e0da",
   "metadata": {},
   "outputs": [],
   "source": [
    "import haiku as hk\n",
    "import jax\n",
    "import jax.numpy as jnp\n",
    "import optax\n",
    "from matplotlib import pyplot as plt"
   ]
  },
  {
   "cell_type": "code",
   "execution_count": 5,
   "id": "25561fc0",
   "metadata": {},
   "outputs": [],
   "source": [
    "from wax.compile import jit_init_apply\n",
    "from wax.modules import OnlineSupervisedLearner"
   ]
  },
  {
   "cell_type": "markdown",
   "id": "61e6d167-3508-4bba-b480-4086249aeffd",
   "metadata": {},
   "source": [
    "## Static Linear Regression"
   ]
  },
  {
   "cell_type": "markdown",
   "id": "30eb5c51-2ef1-4b1b-af35-0dbffc84f415",
   "metadata": {},
   "source": [
    "First, let's implement a simple linear regression"
   ]
  },
  {
   "cell_type": "markdown",
   "id": "57e35386-2f47-47e8-94ba-d95dc1bf656d",
   "metadata": {},
   "source": [
    "### Generate data"
   ]
  },
  {
   "cell_type": "markdown",
   "id": "06842901-07f5-4a70-bf6f-a17cb1cd3a62",
   "metadata": {},
   "source": [
    "Let's generate a batch of data:"
   ]
  },
  {
   "cell_type": "code",
   "execution_count": 6,
   "id": "2f5ec718-f78c-40bf-9b5e-868d34973ea1",
   "metadata": {
    "lines_to_next_cell": 1
   },
   "outputs": [],
   "source": [
    "seq = hk.PRNGSequence(42)\n",
    "X = jax.random.normal(next(seq), (100, 3))\n",
    "w_true = jnp.ones(3)"
   ]
  },
  {
   "cell_type": "markdown",
   "id": "81f1df87-023b-4149-9666-32c29d1df41d",
   "metadata": {},
   "source": [
    "### Define the model"
   ]
  },
  {
   "cell_type": "markdown",
   "id": "4aab9f81-5af3-4cea-a934-45dd064b5bb8",
   "metadata": {
    "lines_to_next_cell": 2
   },
   "source": [
    "We use the basic module `hk.Linear` which is a linear layer.\n",
    "By default, it initializes the weights with random values from the truncated normal,\n",
    "with a standard deviation of $1 / \\sqrt{N}$ (See https://arxiv.org/abs/1502.03167v3)\n",
    "where $N$ is the size of the inputs."
   ]
  },
  {
   "cell_type": "code",
   "execution_count": 7,
   "id": "3d0f9e34-c52e-425a-bf25-bda53b790b62",
   "metadata": {},
   "outputs": [],
   "source": [
    "@jit_init_apply\n",
    "@hk.transform_with_state\n",
    "def linear_model(x):\n",
    "    return hk.Linear(output_size=1, with_bias=False)(x)"
   ]
  },
  {
   "cell_type": "markdown",
   "id": "e0ab8da9-51fd-490b-b242-8ac287d7b62c",
   "metadata": {},
   "source": [
    "### Run the model"
   ]
  },
  {
   "cell_type": "markdown",
   "id": "aadf18d1-c439-430f-9419-bdf99e6bd2a0",
   "metadata": {},
   "source": [
    "Let's run the model using WAX-ML `unroll` on the batch of data."
   ]
  },
  {
   "cell_type": "code",
   "execution_count": 8,
   "id": "056a57ee-6106-480c-93f5-ef8fd77459cb",
   "metadata": {},
   "outputs": [],
   "source": [
    "from wax.unroll import unroll"
   ]
  },
  {
   "cell_type": "code",
   "execution_count": 9,
   "id": "f9524d19",
   "metadata": {},
   "outputs": [
    {
     "data": {
      "text/plain": [
       "(DeviceArray([-0.2070887], dtype=float32), FlatMapping({}))"
      ]
     },
     "execution_count": 9,
     "metadata": {},
     "output_type": "execute_result"
    }
   ],
   "source": [
    "params, state = linear_model.init(next(seq), X[0])\n",
    "linear_model.apply(params, state, None, X[0])"
   ]
  },
  {
   "cell_type": "code",
   "execution_count": 10,
   "id": "bf7253ab-fe4a-4d72-97fd-9494f1761c66",
   "metadata": {},
   "outputs": [],
   "source": [
    "Y_pred = unroll(linear_model, rng=next(seq))(X)"
   ]
  },
  {
   "cell_type": "code",
   "execution_count": 11,
   "id": "dde369ed-359b-42d9-b8ad-a764b3b77894",
   "metadata": {
    "lines_to_next_cell": 2
   },
   "outputs": [
    {
     "data": {
      "text/plain": [
       "(100, 1)"
      ]
     },
     "execution_count": 11,
     "metadata": {},
     "output_type": "execute_result"
    }
   ],
   "source": [
    "Y_pred.shape"
   ]
  },
  {
   "cell_type": "markdown",
   "id": "f7841e0f-13a9-4fc1-8718-4cfde92cbd4c",
   "metadata": {},
   "source": [
    "### Check cost"
   ]
  },
  {
   "cell_type": "markdown",
   "id": "bd1dca4b-7c45-40b6-b1e2-32e0293253ff",
   "metadata": {},
   "source": [
    "Let's look at the mean squared error for this non-trained model."
   ]
  },
  {
   "cell_type": "code",
   "execution_count": 12,
   "id": "e1f2f79e-6da7-46c5-8bbf-8f52af0d549d",
   "metadata": {
    "lines_to_next_cell": 2
   },
   "outputs": [],
   "source": [
    "noise = jax.random.normal(next(seq), (100,))\n",
    "Y = X.dot(w_true) + noise\n",
    "L = ((Y - Y_pred) ** 2).sum(axis=1)\n",
    "mean_loss = L.mean()\n",
    "assert mean_loss > 0"
   ]
  },
  {
   "cell_type": "markdown",
   "id": "86e000fb-eb18-438d-9639-5a78aa3a68f0",
   "metadata": {},
   "source": [
    "Let's look at the regret (cumulative sum of the loss) for the non-trained model."
   ]
  },
  {
   "cell_type": "code",
   "execution_count": 13,
   "id": "f425d5b0-7850-4a82-93f2-196e7081429c",
   "metadata": {},
   "outputs": [
    {
     "data": {
      "text/plain": [
       "Text(0.5, 1.0, 'Regret')"
      ]
     },
     "execution_count": 13,
     "metadata": {},
     "output_type": "execute_result"
    },
    {
     "data": {
      "image/png": "[encoded data removed]",
      "text/plain": [
       "<Figure size 432x288 with 1 Axes>"
      ]
     },
     "metadata": {
      "needs_background": "light"
     },
     "output_type": "display_data"
    }
   ],
   "source": [
    "plt.plot(L.cumsum())\n",
    "plt.title(\"Regret\")"
   ]
  },
  {
   "cell_type": "markdown",
   "id": "1a52eda6-7582-4bfb-ae22-3e4a4a8ee066",
   "metadata": {},
   "source": [
    "As expected, we have a linear regret when we did not train the model!"
   ]
  },
  {
   "cell_type": "markdown",
   "id": "b3c6ecd1-f2a5-451e-9d40-63efe6e90dd6",
   "metadata": {
    "lines_to_next_cell": 2
   },
   "source": [
    "## Online Linear Regression"
   ]
  },
  {
   "cell_type": "markdown",
   "id": "ef5f037d-725b-4f85-b64a-4ad318e58177",
   "metadata": {},
   "source": [
    "We will now start training the model online.\n",
    "For a review on online-learning methods see [1]\n",
    "\n",
    "\n",
    "[1] [Elad Hazan, Introduction to Online Convex Optimization](https://arxiv.org/abs/1909.05207)"
   ]
  },
  {
   "cell_type": "markdown",
   "id": "96cf75b2-54e0-45fb-9e36-2b89064d48ae",
   "metadata": {},
   "source": [
    "### Define an optimizer"
   ]
  },
  {
   "cell_type": "code",
   "execution_count": 14,
   "id": "470b0e29-9397-4903-8867-5841d0ebd9e6",
   "metadata": {
    "lines_to_next_cell": 2
   },
   "outputs": [],
   "source": [
    "opt = optax.sgd(1e-3)"
   ]
  },
  {
   "cell_type": "markdown",
   "id": "e44a5c58-9dea-425f-99f7-75f0aa808474",
   "metadata": {},
   "source": [
    "### Define a loss"
   ]
  },
  {
   "cell_type": "markdown",
   "id": "4e23b5f7-93ab-43b6-93ac-4bb5198ee074",
   "metadata": {
    "lines_to_next_cell": 2
   },
   "source": [
    "Since we are doing online learning, we need to define a local loss function:\n",
    "$$\n",
    "\\ell_t(y, w, x) = \\lVert y_t -  w \\cdot x_t \\rVert^2\n",
    "$$"
   ]
  },
  {
   "cell_type": "code",
   "execution_count": 15,
   "id": "5a7ad9b4-e54b-432c-b3ac-0878263ca4e1",
   "metadata": {
    "lines_to_next_cell": 2
   },
   "outputs": [],
   "source": [
    "@jax.jit\n",
    "def loss(y_pred, y):\n",
    "    return jnp.mean(jnp.square(y_pred - y))"
   ]
  },
  {
   "cell_type": "markdown",
   "id": "4d2e088f-79ea-4cf5-845c-493f22a34676",
   "metadata": {
    "lines_to_next_cell": 2
   },
   "source": [
    "### Define a learning strategy"
   ]
  },
  {
   "cell_type": "code",
   "execution_count": 16,
   "id": "91f92324-e0dc-4713-afc3-36a272ed8a18",
   "metadata": {
    "lines_to_next_cell": 2
   },
   "outputs": [],
   "source": [
    "@jit_init_apply\n",
    "@hk.transform_with_state\n",
    "def learner(x, y):\n",
    "    return OnlineSupervisedLearner(linear_model, opt, loss)(x, y)"
   ]
  },
  {
   "cell_type": "markdown",
   "id": "3a323fa0-73ff-4d06-87e0-f1c48aedf50c",
   "metadata": {
    "lines_to_next_cell": 2
   },
   "source": [
    "### Generate data"
   ]
  },
  {
   "cell_type": "code",
   "execution_count": 17,
   "id": "39cbf49c-ca74-4577-b4bf-16c6a00e63e0",
   "metadata": {
    "lines_to_next_cell": 1
   },
   "outputs": [],
   "source": [
    "def generate_many_observations(T=300, sigma=1.0e-2, rng=None):\n",
    "    rng = jax.random.PRNGKey(42) if rng is None else rng\n",
    "    X = jax.random.normal(rng, (T, 3))\n",
    "    noise = sigma * jax.random.normal(rng, (T,))\n",
    "    w_true = jnp.ones(3)\n",
    "    noise = sigma * jax.random.normal(rng, (T,))\n",
    "    Y = X.dot(w_true) + noise\n",
    "    return (X, Y)"
   ]
  },
  {
   "cell_type": "code",
   "execution_count": 18,
   "id": "222e20fa",
   "metadata": {},
   "outputs": [],
   "source": [
    "T = 3000\n",
    "X, Y = generate_many_observations(T)"
   ]
  },
  {
   "cell_type": "markdown",
   "id": "35277efd-9a95-428b-ad42-69eaf0ff22b1",
   "metadata": {},
   "source": [
    "### Unroll the learner"
   ]
  },
  {
   "cell_type": "code",
   "execution_count": 19,
   "id": "d7f8def7-6306-4060-aee1-2e0c193cc38d",
   "metadata": {},
   "outputs": [],
   "source": [
    "(output, info) = unroll(learner, rng=next(seq))(X, Y)"
   ]
  },
  {
   "cell_type": "markdown",
   "id": "93b1fac2-97aa-4d77-a48f-06ee517c5163",
   "metadata": {},
   "source": [
    "### Plot the regret"
   ]
  },
  {
   "cell_type": "markdown",
   "id": "38b34348-f915-44e1-97d5-3bc20c4d025f",
   "metadata": {},
   "source": [
    "Let's look at the loss and regret over time."
   ]
  },
  {
   "cell_type": "code",
   "execution_count": 20,
   "id": "be4b6202-d62f-4bfe-b5a4-e3ecb2e6cc89",
   "metadata": {
    "lines_to_end_of_cell_marker": 2
   },
   "outputs": [
    {
     "data": {
      "text/plain": [
       "Text(0.5, 1.0, 'Weight[0,0]')"
      ]
     },
     "execution_count": 20,
     "metadata": {},
     "output_type": "execute_result"
    },
    {
     "data": {
      "image/png": "[encoded data removed]",
      "text/plain": [
       "<Figure size 648x216 with 2 Axes>"
      ]
     },
     "metadata": {
      "needs_background": "light"
     },
     "output_type": "display_data"
    }
   ],
   "source": [
    "fig, axs = plt.subplots(1, 2, figsize=(9, 3))\n",
    "axs[0].plot(info.loss.cumsum())\n",
    "axs[0].set_title(\"Regret\")\n",
    "\n",
    "axs[1].plot(info.params[\"linear\"][\"w\"][:, 0, 0])\n",
    "axs[1].set_title(\"Weight[0,0]\")"
   ]
  },
  {
   "cell_type": "markdown",
   "id": "0541a251-6186-4479-8dc7-3b13c47ae7e4",
   "metadata": {},
   "source": [
    "We have sub-linear regret!"
   ]
  },
  {
   "cell_type": "markdown",
   "id": "6a88d1d1-3177-4197-adeb-07618975dc5d",
   "metadata": {},
   "source": [
    "##  Online learning with Gym\n",
    "\n",
    "Now we will recast the online linear regression learning task as a reinforcement learning task\n",
    "implemented with the `GymFeedback` module of WAX-ML.\n",
    "\n",
    "For that, we define:\n",
    "- obserbations (`obs`) : pairs  `(x, y)` of features and labels\n",
    "- raw observations (`raw_obs`): pairs `(x, noise)`  of features and noise."
   ]
  },
  {
   "cell_type": "markdown",
   "id": "2f5c31f6-0bba-4a12-b30b-48caa9f3807b",
   "metadata": {},
   "source": [
    "### Linear regression agent"
   ]
  },
  {
   "cell_type": "markdown",
   "id": "993266b5-dac5-4fb3-a5a7-1307414a8bed",
   "metadata": {},
   "source": [
    "In WAX-ML, an agent is a simple function with the following API:\n",
    "<div align=\"center\">\n",
    "<img src=\"../tikz/agent.png\" alt=\"logo\" width=\"20%\"></img>\n",
    "</div>"
   ]
  },
  {
   "cell_type": "markdown",
   "id": "3e883a3a-5f18-47fe-ad90-e1f903881069",
   "metadata": {
    "lines_to_next_cell": 2
   },
   "source": [
    "Let's define a simple linear regression agent with the elements we have defined so far."
   ]
  },
  {
   "cell_type": "code",
   "execution_count": 21,
   "id": "15b1ed6c-7b19-494c-9a67-e910693e9a6d",
   "metadata": {},
   "outputs": [],
   "source": [
    "def linear_regression_agent(obs):\n",
    "    x, y = obs\n",
    "\n",
    "    @jit_init_apply\n",
    "    @hk.transform_with_state\n",
    "    def model(x):\n",
    "        return hk.Linear(output_size=1, with_bias=False)(x)\n",
    "\n",
    "    opt = optax.sgd(1e-3)\n",
    "\n",
    "    @jax.jit\n",
    "    def loss(y_pred, y):\n",
    "        return jnp.mean(jnp.square(y_pred - y))\n",
    "\n",
    "    return OnlineSupervisedLearner(model, opt, loss)(x, y)"
   ]
  },
  {
   "cell_type": "markdown",
   "id": "4953df6e-dd69-434c-b6f4-2898d0b1eb9f",
   "metadata": {},
   "source": [
    "### Linear regression environment"
   ]
  },
  {
   "cell_type": "markdown",
   "id": "82bb2dfb-fa4c-4837-8966-6e3a7b0cd253",
   "metadata": {},
   "source": [
    "In WAX-ML, an environment is a simple function with the following API:\n",
    "<div align=\"center\">\n",
    "<img src=\"../tikz/env.png\" alt=\"logo\" width=\"20%\"></img>\n",
    "</div>"
   ]
  },
  {
   "cell_type": "markdown",
   "id": "f63cfc98-f452-4106-9de3-29a3ec1fc934",
   "metadata": {},
   "source": [
    "Let's now define a linear regression environment that, for the moment,\n",
    "have static weights.\n",
    "\n",
    "It is responsible for generating the real labels and evaluating the agent's reward.\n",
    "\n",
    "\n",
    "For the evaluation of the reward, we need the `Lag` module to evaluate the action of\n",
    "the agent with the labels generated in the previous time step."
   ]
  },
  {
   "cell_type": "code",
   "execution_count": 22,
   "id": "05731d96-b643-46c3-a375-bbbb0b892307",
   "metadata": {},
   "outputs": [],
   "source": [
    "from wax.modules import Lag"
   ]
  },
  {
   "cell_type": "code",
   "execution_count": 23,
   "id": "5c91bf01-4a92-47a4-bd2b-448462be2ce7",
   "metadata": {
    "lines_to_next_cell": 2
   },
   "outputs": [],
   "source": [
    "def stationary_linear_regression_env(action, raw_obs):\n",
    "\n",
    "    # Only the environment now the true value of the parameters\n",
    "    w_true = -jnp.ones(3)\n",
    "\n",
    "    # The environment has its proper loss definition\n",
    "    @jax.jit\n",
    "    def loss(y_pred, y):\n",
    "        return jnp.mean(jnp.square(y_pred - y))\n",
    "\n",
    "    # raw observation contains features and generative noise\n",
    "    x, noise = raw_obs\n",
    "\n",
    "    # generate targets\n",
    "    y = x @ w_true + noise\n",
    "    obs = (x, y)\n",
    "\n",
    "    y_previous = Lag(1)(y)\n",
    "    # evaluate the prediction made by the agent\n",
    "    y_pred = action\n",
    "    reward = loss(y_pred, y_previous)\n",
    "\n",
    "    return reward, obs, {}"
   ]
  },
  {
   "cell_type": "markdown",
   "id": "c7e5e8b5-a6c7-4cfa-80a9-55665a064ec2",
   "metadata": {
    "lines_to_next_cell": 2
   },
   "source": [
    "### Generate raw observation\n",
    "\n",
    "Let's define a function that generate the raw observation:"
   ]
  },
  {
   "cell_type": "code",
   "execution_count": 24,
   "id": "296f2a50-3c84-4418-92c1-1e4bd0314752",
   "metadata": {},
   "outputs": [],
   "source": [
    "def generate_many_raw_observations(T=300, sigma=1.0e-2, rng=None):\n",
    "    rng = jax.random.PRNGKey(42) if rng is None else rng\n",
    "    X = jax.random.normal(rng, (T, 3))\n",
    "    noise = sigma * jax.random.normal(rng, (T,))\n",
    "    return (X, noise)"
   ]
  },
  {
   "cell_type": "markdown",
   "id": "853587b2-cbcc-4a5d-9c47-016fc0291838",
   "metadata": {},
   "source": [
    "### Implement Feedback"
   ]
  },
  {
   "cell_type": "markdown",
   "id": "0ccdce36-467c-40cd-9b27-6f63124cdc8f",
   "metadata": {},
   "source": [
    "We are now ready to set things up with the `GymFeedback` module implemented in WAX-ML.\n",
    "\n",
    "It implements the following feedback loop:\n",
    "<div align=\"center\">\n",
    "<img src=\"../tikz/gymfeedback.png\" alt=\"logo\" width=\"50%\"></img>\n",
    "</div>"
   ]
  },
  {
   "cell_type": "markdown",
   "id": "d6978379-5b72-4f50-991d-8982bec13a2a",
   "metadata": {},
   "source": [
    "Equivalently, it can be described with the pair of `init` and `apply` functions:\n",
    "<div align=\"center\">\n",
    "<img src=\"../tikz/gymfeedback_init_apply.png\" alt=\"logo\" width=\"100%\"></img>\n",
    "</div>"
   ]
  },
  {
   "cell_type": "code",
   "execution_count": 25,
   "id": "4f09bc90-9f46-4703-b1a8-c80108cefd90",
   "metadata": {},
   "outputs": [],
   "source": [
    "from wax.modules import GymFeedback"
   ]
  },
  {
   "cell_type": "code",
   "execution_count": 26,
   "id": "65a2d645-d5fd-4b4b-9978-77cda0572052",
   "metadata": {
    "lines_to_next_cell": 1
   },
   "outputs": [],
   "source": [
    "@hk.transform_with_state\n",
    "def gym_fun(raw_obs):\n",
    "    return GymFeedback(\n",
    "        linear_regression_agent, stationary_linear_regression_env, return_action=True\n",
    "    )(raw_obs)"
   ]
  },
  {
   "cell_type": "markdown",
   "id": "cf3561ed-e2a9-47cc-8472-ca1cd5d4cdae",
   "metadata": {},
   "source": [
    "And now we can unroll it on a sequence of raw observations!"
   ]
  },
  {
   "cell_type": "code",
   "execution_count": 27,
   "id": "845cbd25",
   "metadata": {},
   "outputs": [],
   "source": [
    "seq = hk.PRNGSequence(42)\n",
    "T = 3000\n",
    "raw_observations = generate_many_raw_observations(T)\n",
    "rng = next(seq)\n",
    "(gym_output, gym_info) = unroll(gym_fun, rng=rng, skip_first=True)(raw_observations)"
   ]
  },
  {
   "cell_type": "markdown",
   "id": "f255b053-bee0-4a3a-987d-196142d464fd",
   "metadata": {},
   "source": [
    "Let's visualize the outputs.\n",
    "\n",
    "\n",
    "We now use `pd.Series` to represent the reward sequence since its first value is Nan due to the use of the lag operator."
   ]
  },
  {
   "cell_type": "code",
   "execution_count": 28,
   "id": "ad3a9ec2",
   "metadata": {},
   "outputs": [],
   "source": [
    "import pandas as pd"
   ]
  },
  {
   "cell_type": "code",
   "execution_count": 29,
   "id": "00e3e13f-5ab7-4145-8e85-238610452f22",
   "metadata": {},
   "outputs": [
    {
     "data": {
      "text/plain": [
       "Text(0.5, 1.0, 'Weight[0,0]')"
      ]
     },
     "execution_count": 29,
     "metadata": {},
     "output_type": "execute_result"
    },
    {
     "data": {
      "image/png": "[encoded data removed]",
      "text/plain": [
       "<Figure size 648x216 with 2 Axes>"
      ]
     },
     "metadata": {
      "needs_background": "light"
     },
     "output_type": "display_data"
    }
   ],
   "source": [
    "fig, axs = plt.subplots(1, 2, figsize=(9, 3))\n",
    "pd.Series(gym_output.reward).cumsum().plot(ax=axs[0], title=\"Regret\")\n",
    "axs[1].plot(info.params[\"linear\"][\"w\"][:, 0, 0])\n",
    "axs[1].set_title(\"Weight[0,0]\")"
   ]
  },
  {
   "cell_type": "markdown",
   "id": "eab2df7d-c8b1-4975-8ecf-831032be67f5",
   "metadata": {},
   "source": [
    "## Non-stationary environment"
   ]
  },
  {
   "cell_type": "markdown",
   "id": "6b417724-f848-4388-8ac8-5ac90dc64ac9",
   "metadata": {
    "lines_to_next_cell": 2
   },
   "source": [
    "Now, let's implement a non-stationary environment.\n",
    "\n",
    "We implement it so that the sign of the weight is reversed after 2000$ steps."
   ]
  },
  {
   "cell_type": "code",
   "execution_count": 30,
   "id": "e67188c8-3fda-4ef3-ab52-c3aed00085f0",
   "metadata": {
    "lines_to_next_cell": 2
   },
   "outputs": [],
   "source": [
    "class NonStationaryEnvironment(hk.Module):\n",
    "    def __call__(self, action, raw_obs):\n",
    "\n",
    "        step = hk.get_state(\"step\", [], init=lambda *_: 0)\n",
    "\n",
    "        # Only the environment now the true value of the parameters\n",
    "        # at step 2000 we flip the sign of the true parameters !\n",
    "        w_true = hk.cond(\n",
    "            step < 2000,\n",
    "            step,\n",
    "            lambda step: -jnp.ones(3),\n",
    "            step,\n",
    "            lambda step: jnp.ones(3),\n",
    "        )\n",
    "\n",
    "        # The environment has its proper loss definition\n",
    "        @jax.jit\n",
    "        def loss(y_pred, y):\n",
    "            return jnp.mean(jnp.square(y_pred - y))\n",
    "\n",
    "        # raw observation contains features and generative noise\n",
    "        x, noise = raw_obs\n",
    "\n",
    "        # generate targets\n",
    "        y = x @ w_true + noise\n",
    "        obs = (x, y)\n",
    "\n",
    "        # evaluate the prediction made by the agent\n",
    "        y_previous = Lag(1)(y)\n",
    "        y_pred = action\n",
    "        reward = loss(y_pred, y_previous)\n",
    "\n",
    "        step += 1\n",
    "        hk.set_state(\"step\", step)\n",
    "\n",
    "        return reward, obs, {}"
   ]
  },
  {
   "cell_type": "markdown",
   "id": "9b6e0ac1-f72f-48da-80e1-f402d165a1c8",
   "metadata": {
    "lines_to_next_cell": 2
   },
   "source": [
    "Now let's run a gym simulation to see how the agent adapt to the\n",
    "change of environment."
   ]
  },
  {
   "cell_type": "code",
   "execution_count": 31,
   "id": "542eca1a-9ac0-44c9-8a37-e9b89cbdc8aa",
   "metadata": {},
   "outputs": [],
   "source": [
    "@hk.transform_with_state\n",
    "def gym_fun(raw_obs):\n",
    "    return GymFeedback(\n",
    "        linear_regression_agent, NonStationaryEnvironment(), return_action=True\n",
    "    )(raw_obs)"
   ]
  },
  {
   "cell_type": "code",
   "execution_count": 32,
   "id": "d0c9b0d3-8081-49f8-9edb-6673497ff219",
   "metadata": {},
   "outputs": [],
   "source": [
    "T = 6000\n",
    "raw_observations = generate_many_raw_observations(T)\n",
    "rng = jax.random.PRNGKey(42)\n",
    "(gym_output, gym_info) = unroll(gym_fun, rng=rng, skip_first=True)(\n",
    "    raw_observations,\n",
    ")"
   ]
  },
  {
   "cell_type": "code",
   "execution_count": 33,
   "id": "6cbe8d15",
   "metadata": {},
   "outputs": [],
   "source": [
    "import pandas as pd"
   ]
  },
  {
   "cell_type": "code",
   "execution_count": 34,
   "id": "49bfec43-9082-47b9-8834-208fbbf4ed2c",
   "metadata": {},
   "outputs": [
    {
     "data": {
      "text/plain": [
       "Text(0.5, 1.0, 'Weight[0,0]')"
      ]
     },
     "execution_count": 34,
     "metadata": {},
     "output_type": "execute_result"
    },
    {
     "data": {
      "image/png": "[encoded data removed]",
      "text/plain": [
       "<Figure size 648x216 with 2 Axes>"
      ]
     },
     "metadata": {
      "needs_background": "light"
     },
     "output_type": "display_data"
    }
   ],
   "source": [
    "fig, axs = plt.subplots(1, 2, figsize=(9, 3))\n",
    "pd.Series(gym_output.reward).cumsum().plot(ax=axs[0], title=\"Regret\")\n",
    "axs[1].plot(gym_info.agent.params[\"linear\"][\"w\"][:, 0, 0])\n",
    "axs[1].set_title(\"Weight[0,0]\")\n",
    "# plt.savefig(\"../_static/online_linear_regression_regret.png\")"
   ]
  },
  {
   "cell_type": "markdown",
   "id": "052224b6-fee0-42ce-b7af-0382b7af667b",
   "metadata": {},
   "source": [
    "It adapts!\n",
    "\n",
    "The regret first converges, then jumps on step 2000 and finally readjusts to the new regime.\n",
    "\n",
    "We see that the weights converge to the correct values in both regimes."
   ]
  }
 ],
 "metadata": {
  "jupytext": {
   "encoding": "# -*- coding: utf-8 -*-",
   "formats": "ipynb,py,md:myst"
  },
  "kernelspec": {
   "display_name": "Python 3",
   "language": "python",
   "name": "python3"
  },
  "language_info": {
   "codemirror_mode": {
    "name": "ipython",
    "version": 3
   },
   "file_extension": ".py",
   "mimetype": "text/x-python",
   "name": "python",
   "nbconvert_exporter": "python",
   "pygments_lexer": "ipython3",
   "version": "3.7.10"
  }
 },
 "nbformat": 4,
 "nbformat_minor": 5
}
