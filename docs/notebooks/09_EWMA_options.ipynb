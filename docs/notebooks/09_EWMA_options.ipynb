{
 "cells": [
  {
   "cell_type": "code",
   "execution_count": 1,
   "id": "bd2ee536",
   "metadata": {},
   "outputs": [],
   "source": [
    "# Uncomment to run the notebook in Colab\n",
    "# ! pip install -q \"wax-ml[complete]@git+https://github.com/eserie/wax-ml.git\"\n",
    "# ! pip install -q --upgrade jax jaxlib==0.1.70+cuda111 -f https://storage.googleapis.com/jax-releases/jax_releases.html"
   ]
  },
  {
   "cell_type": "code",
   "execution_count": 1,
   "id": "956a5611",
   "metadata": {},
   "outputs": [
    {
     "name": "stdout",
     "output_type": "stream",
     "text": [
      "%pylab is deprecated, use %matplotlib inline and import the required libraries.\n",
      "Populating the interactive namespace from numpy and matplotlib\n"
     ]
    }
   ],
   "source": [
    "%pylab inline\n",
    "%load_ext autoreload\n",
    "%autoreload 2"
   ]
  },
  {
   "cell_type": "code",
   "execution_count": 2,
   "id": "8c949906",
   "metadata": {},
   "outputs": [
    {
     "name": "stderr",
     "output_type": "stream",
     "text": [
      "/Users/emmanuelserie/mambaforge/envs/waxml39/lib/python3.9/site-packages/jax/_src/lib/__init__.py:31: UserWarning: JAX on Mac ARM machines is experimental and minimally tested. Please see https://github.com/google/jax/issues/5501 in the event of problems.\n",
      "  warnings.warn(\"JAX on Mac ARM machines is experimental and minimally tested. \"\n"
     ]
    }
   ],
   "source": [
    "from functools import partial\n",
    "\n",
    "import jax\n",
    "import jax.numpy as jnp\n",
    "import numpy as onp\n",
    "import pandas as pd\n",
    "from jax.config import config\n",
    "\n",
    "from wax.modules.ewma import EWMA\n",
    "from wax.unroll import unroll_transform_with_state"
   ]
  },
  {
   "cell_type": "code",
   "execution_count": 3,
   "id": "7cf7110b",
   "metadata": {},
   "outputs": [
    {
     "name": "stderr",
     "output_type": "stream",
     "text": [
      "WARNING:absl:No GPU/TPU found, falling back to CPU. (Set TF_CPP_MIN_LOG_LEVEL=0 and rerun for more info.)\n"
     ]
    },
    {
     "name": "stdout",
     "output_type": "stream",
     "text": [
      "jax backend cpu\n"
     ]
    },
    {
     "data": {
      "text/plain": [
       "[<jaxlib.xla_extension.Device at 0x164fd81b0>]"
      ]
     },
     "execution_count": 3,
     "metadata": {},
     "output_type": "execute_result"
    }
   ],
   "source": [
    "# check available devices\n",
    "print(\"jax backend {}\".format(jax.lib.xla_bridge.get_backend().platform))\n",
    "jax.devices()"
   ]
  },
  {
   "cell_type": "code",
   "execution_count": 4,
   "id": "06e812c2",
   "metadata": {
    "lines_to_next_cell": 0
   },
   "outputs": [],
   "source": [
    "adjust = True\n",
    "ignore_na = False\n",
    "config.update(\"jax_enable_x64\", True)\n",
    "\n",
    "T = 20\n",
    "\n",
    "x = jnp.full((T,), jnp.nan).at[0].set(1).at[10].set(-1)\n",
    "\n",
    "rng = jax.random.PRNGKey(38)\n",
    "x = jax.random.normal(rng, (T,))\n",
    "\n",
    "x = jnp.full((T,), jnp.nan).at[2].set(1).at[10].set(-1)\n",
    "\n",
    "\n",
    "@partial(unroll_transform_with_state, dynamic=True)\n",
    "def fun(x):\n",
    "    return EWMA(1 / 10, adjust=adjust, ignore_na=ignore_na, return_info=True)(x)\n",
    "\n",
    "\n",
    "rng = jax.random.PRNGKey(42)\n",
    "params, state = fun.init(rng, x)\n",
    "(res, info), final_state = fun.apply(params, state, rng, x)\n",
    "\n",
    "\n",
    "res = pd.DataFrame(onp.array(res))\n",
    "\n",
    "ref_res = (\n",
    "    pd.DataFrame(onp.array(x))\n",
    "    .ewm(alpha=1 / 10, adjust=adjust, ignore_na=ignore_na)\n",
    "    .mean()\n",
    ")"
   ]
  },
  {
   "cell_type": "code",
   "execution_count": 5,
   "id": "7c4b0855",
   "metadata": {},
   "outputs": [
    {
     "data": {
      "text/html": [
       "<div>\n",
       "<style scoped>\n",
       "    .dataframe tbody tr th:only-of-type {\n",
       "        vertical-align: middle;\n",
       "    }\n",
       "\n",
       "    .dataframe tbody tr th {\n",
       "        vertical-align: top;\n",
       "    }\n",
       "\n",
       "    .dataframe thead th {\n",
       "        text-align: right;\n",
       "    }\n",
       "</style>\n",
       "<table border=\"1\" class=\"dataframe\">\n",
       "  <thead>\n",
       "    <tr style=\"text-align: right;\">\n",
       "      <th></th>\n",
       "      <th>0</th>\n",
       "    </tr>\n",
       "  </thead>\n",
       "  <tbody>\n",
       "    <tr>\n",
       "      <th>0</th>\n",
       "      <td>NaN</td>\n",
       "    </tr>\n",
       "    <tr>\n",
       "      <th>1</th>\n",
       "      <td>NaN</td>\n",
       "    </tr>\n",
       "    <tr>\n",
       "      <th>2</th>\n",
       "      <td>1.000000</td>\n",
       "    </tr>\n",
       "    <tr>\n",
       "      <th>3</th>\n",
       "      <td>1.000000</td>\n",
       "    </tr>\n",
       "    <tr>\n",
       "      <th>4</th>\n",
       "      <td>1.000000</td>\n",
       "    </tr>\n",
       "    <tr>\n",
       "      <th>5</th>\n",
       "      <td>1.000000</td>\n",
       "    </tr>\n",
       "    <tr>\n",
       "      <th>6</th>\n",
       "      <td>1.000000</td>\n",
       "    </tr>\n",
       "    <tr>\n",
       "      <th>7</th>\n",
       "      <td>1.000000</td>\n",
       "    </tr>\n",
       "    <tr>\n",
       "      <th>8</th>\n",
       "      <td>1.000000</td>\n",
       "    </tr>\n",
       "    <tr>\n",
       "      <th>9</th>\n",
       "      <td>1.000000</td>\n",
       "    </tr>\n",
       "    <tr>\n",
       "      <th>10</th>\n",
       "      <td>-0.398145</td>\n",
       "    </tr>\n",
       "    <tr>\n",
       "      <th>11</th>\n",
       "      <td>-0.398145</td>\n",
       "    </tr>\n",
       "    <tr>\n",
       "      <th>12</th>\n",
       "      <td>-0.398145</td>\n",
       "    </tr>\n",
       "    <tr>\n",
       "      <th>13</th>\n",
       "      <td>-0.398145</td>\n",
       "    </tr>\n",
       "    <tr>\n",
       "      <th>14</th>\n",
       "      <td>-0.398145</td>\n",
       "    </tr>\n",
       "    <tr>\n",
       "      <th>15</th>\n",
       "      <td>-0.398145</td>\n",
       "    </tr>\n",
       "    <tr>\n",
       "      <th>16</th>\n",
       "      <td>-0.398145</td>\n",
       "    </tr>\n",
       "    <tr>\n",
       "      <th>17</th>\n",
       "      <td>-0.398145</td>\n",
       "    </tr>\n",
       "    <tr>\n",
       "      <th>18</th>\n",
       "      <td>-0.398145</td>\n",
       "    </tr>\n",
       "    <tr>\n",
       "      <th>19</th>\n",
       "      <td>-0.398145</td>\n",
       "    </tr>\n",
       "  </tbody>\n",
       "</table>\n",
       "</div>"
      ],
      "text/plain": [
       "           0\n",
       "0        NaN\n",
       "1        NaN\n",
       "2   1.000000\n",
       "3   1.000000\n",
       "4   1.000000\n",
       "5   1.000000\n",
       "6   1.000000\n",
       "7   1.000000\n",
       "8   1.000000\n",
       "9   1.000000\n",
       "10 -0.398145\n",
       "11 -0.398145\n",
       "12 -0.398145\n",
       "13 -0.398145\n",
       "14 -0.398145\n",
       "15 -0.398145\n",
       "16 -0.398145\n",
       "17 -0.398145\n",
       "18 -0.398145\n",
       "19 -0.398145"
      ]
     },
     "execution_count": 5,
     "metadata": {},
     "output_type": "execute_result"
    }
   ],
   "source": [
    "res"
   ]
  },
  {
   "cell_type": "code",
   "execution_count": 6,
   "id": "ed2c4c76",
   "metadata": {},
   "outputs": [
    {
     "data": {
      "text/html": [
       "<div>\n",
       "<style scoped>\n",
       "    .dataframe tbody tr th:only-of-type {\n",
       "        vertical-align: middle;\n",
       "    }\n",
       "\n",
       "    .dataframe tbody tr th {\n",
       "        vertical-align: top;\n",
       "    }\n",
       "\n",
       "    .dataframe thead th {\n",
       "        text-align: right;\n",
       "    }\n",
       "</style>\n",
       "<table border=\"1\" class=\"dataframe\">\n",
       "  <thead>\n",
       "    <tr style=\"text-align: right;\">\n",
       "      <th></th>\n",
       "      <th>0</th>\n",
       "    </tr>\n",
       "  </thead>\n",
       "  <tbody>\n",
       "    <tr>\n",
       "      <th>0</th>\n",
       "      <td>NaN</td>\n",
       "    </tr>\n",
       "    <tr>\n",
       "      <th>1</th>\n",
       "      <td>NaN</td>\n",
       "    </tr>\n",
       "    <tr>\n",
       "      <th>2</th>\n",
       "      <td>1.000000</td>\n",
       "    </tr>\n",
       "    <tr>\n",
       "      <th>3</th>\n",
       "      <td>1.000000</td>\n",
       "    </tr>\n",
       "    <tr>\n",
       "      <th>4</th>\n",
       "      <td>1.000000</td>\n",
       "    </tr>\n",
       "    <tr>\n",
       "      <th>5</th>\n",
       "      <td>1.000000</td>\n",
       "    </tr>\n",
       "    <tr>\n",
       "      <th>6</th>\n",
       "      <td>1.000000</td>\n",
       "    </tr>\n",
       "    <tr>\n",
       "      <th>7</th>\n",
       "      <td>1.000000</td>\n",
       "    </tr>\n",
       "    <tr>\n",
       "      <th>8</th>\n",
       "      <td>1.000000</td>\n",
       "    </tr>\n",
       "    <tr>\n",
       "      <th>9</th>\n",
       "      <td>1.000000</td>\n",
       "    </tr>\n",
       "    <tr>\n",
       "      <th>10</th>\n",
       "      <td>-0.398145</td>\n",
       "    </tr>\n",
       "    <tr>\n",
       "      <th>11</th>\n",
       "      <td>-0.398145</td>\n",
       "    </tr>\n",
       "    <tr>\n",
       "      <th>12</th>\n",
       "      <td>-0.398145</td>\n",
       "    </tr>\n",
       "    <tr>\n",
       "      <th>13</th>\n",
       "      <td>-0.398145</td>\n",
       "    </tr>\n",
       "    <tr>\n",
       "      <th>14</th>\n",
       "      <td>-0.398145</td>\n",
       "    </tr>\n",
       "    <tr>\n",
       "      <th>15</th>\n",
       "      <td>-0.398145</td>\n",
       "    </tr>\n",
       "    <tr>\n",
       "      <th>16</th>\n",
       "      <td>-0.398145</td>\n",
       "    </tr>\n",
       "    <tr>\n",
       "      <th>17</th>\n",
       "      <td>-0.398145</td>\n",
       "    </tr>\n",
       "    <tr>\n",
       "      <th>18</th>\n",
       "      <td>-0.398145</td>\n",
       "    </tr>\n",
       "    <tr>\n",
       "      <th>19</th>\n",
       "      <td>-0.398145</td>\n",
       "    </tr>\n",
       "  </tbody>\n",
       "</table>\n",
       "</div>"
      ],
      "text/plain": [
       "           0\n",
       "0        NaN\n",
       "1        NaN\n",
       "2   1.000000\n",
       "3   1.000000\n",
       "4   1.000000\n",
       "5   1.000000\n",
       "6   1.000000\n",
       "7   1.000000\n",
       "8   1.000000\n",
       "9   1.000000\n",
       "10 -0.398145\n",
       "11 -0.398145\n",
       "12 -0.398145\n",
       "13 -0.398145\n",
       "14 -0.398145\n",
       "15 -0.398145\n",
       "16 -0.398145\n",
       "17 -0.398145\n",
       "18 -0.398145\n",
       "19 -0.398145"
      ]
     },
     "execution_count": 6,
     "metadata": {},
     "output_type": "execute_result"
    }
   ],
   "source": [
    "ref_res"
   ]
  },
  {
   "cell_type": "code",
   "execution_count": 7,
   "id": "4a2acfa9",
   "metadata": {},
   "outputs": [
    {
     "data": {
      "text/plain": [
       "{'com_eff': DeviceArray([0.        , 0.        , 0.        , 0.9       , 0.81      ,\n",
       "              0.729     , 0.6561    , 0.59049   , 0.531441  , 0.4782969 ,\n",
       "              0.43046721, 1.28742049, 1.15867844, 1.0428106 , 0.93852954,\n",
       "              0.84467658, 0.76020892, 0.68418803, 0.61576923, 0.55419231],            dtype=float64)}"
      ]
     },
     "execution_count": 7,
     "metadata": {},
     "output_type": "execute_result"
    }
   ],
   "source": [
    "info"
   ]
  },
  {
   "cell_type": "code",
   "execution_count": 8,
   "id": "8c319435",
   "metadata": {},
   "outputs": [],
   "source": [
    "pd.testing.assert_frame_equal(res, ref_res, atol=1.0e-6)"
   ]
  },
  {
   "cell_type": "markdown",
   "id": "02093de9",
   "metadata": {},
   "source": [
    "##  check gradient"
   ]
  },
  {
   "cell_type": "code",
   "execution_count": 9,
   "id": "6c6afe80",
   "metadata": {},
   "outputs": [
    {
     "data": {
      "text/plain": [
       "(DeviceArray(0.223253, dtype=float64),\n",
       " FlatMap({'ewma': FlatMap({'logcom': DeviceArray(0.18699575, dtype=float64)})}))"
      ]
     },
     "execution_count": 9,
     "metadata": {},
     "output_type": "execute_result"
    }
   ],
   "source": [
    "@jax.value_and_grad\n",
    "def batch(params):\n",
    "    (res, info), final_state = fun.apply(params, state, rng, x)\n",
    "    return jnp.nanmean(res)\n",
    "\n",
    "\n",
    "score, grad = batch(params)\n",
    "assert not jnp.isnan(grad[\"ewma\"][\"logcom\"])\n",
    "score, grad"
   ]
  },
  {
   "cell_type": "markdown",
   "id": "f2b5c401",
   "metadata": {},
   "source": [
    "# Linear adjustement"
   ]
  },
  {
   "cell_type": "code",
   "execution_count": 10,
   "id": "35abe086",
   "metadata": {
    "lines_to_next_cell": 2
   },
   "outputs": [],
   "source": [
    "adjust = True\n",
    "ignore_na = False\n",
    "config.update(\"jax_enable_x64\", True)\n",
    "\n",
    "T = 20\n",
    "\n",
    "x = jnp.full((T,), jnp.nan).at[0].set(1).at[10].set(-1)\n",
    "\n",
    "rng = jax.random.PRNGKey(38)\n",
    "x = jax.random.normal(rng, (T,))"
   ]
  },
  {
   "cell_type": "code",
   "execution_count": 11,
   "id": "924962ce",
   "metadata": {},
   "outputs": [],
   "source": [
    "from wax.unroll import unroll"
   ]
  },
  {
   "cell_type": "code",
   "execution_count": 12,
   "id": "7b92edc4",
   "metadata": {
    "lines_to_next_cell": 2
   },
   "outputs": [
    {
     "data": {
      "text/plain": [
       "<AxesSubplot:>"
      ]
     },
     "execution_count": 12,
     "metadata": {},
     "output_type": "execute_result"
    },
    {
     "data": {
      "image/png": "[encoded data removed]",
      "text/plain": [
       "<Figure size 432x288 with 1 Axes>"
      ]
     },
     "metadata": {
      "needs_background": "light"
     },
     "output_type": "display_data"
    }
   ],
   "source": [
    "x = jnp.full((20,), jnp.nan).at[2].set(1).at[10].set(-1)\n",
    "(res, info) = unroll(\n",
    "    lambda x: EWMA(com=10, adjust=\"linear\", ignore_na=True, return_info=True)(x)\n",
    ")(x)\n",
    "res = pd.DataFrame(onp.array(res))\n",
    "pd.Series(info[\"com_eff\"]).plot()"
   ]
  },
  {
   "cell_type": "code",
   "execution_count": 13,
   "id": "e741d016",
   "metadata": {
    "lines_to_next_cell": 2
   },
   "outputs": [],
   "source": [
    "# rng = jax.random.PRNGKey(42)\n",
    "# x = jax.random.normal(rng, (100,)).at[30:50].set(jnp.nan)\n",
    "# x = jnp.full((100,), jnp.nan).at[2].set(1).at[10].set(-1)"
   ]
  },
  {
   "cell_type": "code",
   "execution_count": 14,
   "id": "0d6b5bcf",
   "metadata": {
    "lines_to_next_cell": 2
   },
   "outputs": [
    {
     "data": {
      "text/plain": [
       "<AxesSubplot:>"
      ]
     },
     "execution_count": 14,
     "metadata": {},
     "output_type": "execute_result"
    },
    {
     "data": {
      "image/png": "[encoded data removed]",
      "text/plain": [
       "<Figure size 432x288 with 1 Axes>"
      ]
     },
     "metadata": {
      "needs_background": "light"
     },
     "output_type": "display_data"
    }
   ],
   "source": [
    "x = (\n",
    "    jnp.ones((100,))\n",
    "    .at[0]\n",
    "    .set(-1)\n",
    "    .at[30:50]\n",
    "    .set(-1)\n",
    "    .at[40:50]\n",
    "    .set(jnp.nan)\n",
    "    .at[3:20]\n",
    "    .set(jnp.nan)\n",
    ")\n",
    "\n",
    "(res, info) = unroll(\n",
    "    lambda x: EWMA(com=10, adjust=\"linear\", ignore_na=True, return_info=True)(x)\n",
    ")(x)\n",
    "res = pd.Series(onp.array(res))\n",
    "pd.Series(info[\"com_eff\"]).plot()\n",
    "res.plot()"
   ]
  },
  {
   "cell_type": "code",
   "execution_count": 15,
   "id": "8ca2721c",
   "metadata": {
    "lines_to_next_cell": 2
   },
   "outputs": [
    {
     "data": {
      "text/plain": [
       "<AxesSubplot:>"
      ]
     },
     "execution_count": 15,
     "metadata": {},
     "output_type": "execute_result"
    },
    {
     "data": {
      "image/png": "[encoded data removed]",
      "text/plain": [
       "<Figure size 432x288 with 1 Axes>"
      ]
     },
     "metadata": {
      "needs_background": "light"
     },
     "output_type": "display_data"
    }
   ],
   "source": [
    "x = (\n",
    "    jnp.ones((100,))\n",
    "    .at[0]\n",
    "    .set(-1)\n",
    "    .at[30:50]\n",
    "    .set(-1)\n",
    "    .at[40:45]\n",
    "    .set(jnp.nan)\n",
    "    .at[3:20]\n",
    "    .set(jnp.nan)\n",
    ")\n",
    "\n",
    "(res, info) = unroll(\n",
    "    lambda x: EWMA(com=10, adjust=\"linear\", ignore_na=False, return_info=True)(x)\n",
    ")(x)\n",
    "res = pd.Series(onp.array(res))\n",
    "pd.Series(info[\"com_eff\"]).plot()\n",
    "res.plot()"
   ]
  },
  {
   "cell_type": "code",
   "execution_count": 16,
   "id": "23afd5c6",
   "metadata": {
    "lines_to_next_cell": 2
   },
   "outputs": [
    {
     "data": {
      "text/plain": [
       "<AxesSubplot:>"
      ]
     },
     "execution_count": 16,
     "metadata": {},
     "output_type": "execute_result"
    },
    {
     "data": {
      "image/png": "[encoded data removed]",
      "text/plain": [
       "<Figure size 432x288 with 1 Axes>"
      ]
     },
     "metadata": {
      "needs_background": "light"
     },
     "output_type": "display_data"
    }
   ],
   "source": [
    "x = (\n",
    "    jnp.ones((100,))\n",
    "    .at[0]\n",
    "    .set(-1)\n",
    "    .at[30:50]\n",
    "    .set(-1)\n",
    "    .at[40:50]\n",
    "    .set(jnp.nan)\n",
    "    .at[3:20]\n",
    "    .set(jnp.nan)\n",
    ")\n",
    "\n",
    "(res, info) = unroll(\n",
    "    lambda x: EWMA(com=10, adjust=\"linear\", ignore_na=False, return_info=True)(x)\n",
    ")(x)\n",
    "res = pd.Series(onp.array(res))\n",
    "pd.Series(info[\"com_eff\"]).plot()\n",
    "res.plot()"
   ]
  },
  {
   "cell_type": "code",
   "execution_count": 17,
   "id": "c6ddf6c9",
   "metadata": {
    "lines_to_next_cell": 2
   },
   "outputs": [
    {
     "data": {
      "text/plain": [
       "<matplotlib.legend.Legend at 0x166e3f310>"
      ]
     },
     "execution_count": 17,
     "metadata": {},
     "output_type": "execute_result"
    },
    {
     "data": {
      "image/png": "[encoded data removed]",
      "text/plain": [
       "<Figure size 432x288 with 1 Axes>"
      ]
     },
     "metadata": {
      "needs_background": "light"
     },
     "output_type": "display_data"
    }
   ],
   "source": [
    "x = (\n",
    "    jnp.ones((100,))\n",
    "    .at[0]\n",
    "    .set(-1)\n",
    "    .at[30:50]\n",
    "    .set(-1)\n",
    "    .at[40:50]\n",
    "    .set(jnp.nan)\n",
    "    .at[3:20]\n",
    "    .set(jnp.nan)\n",
    ")\n",
    "\n",
    "(res, info) = unroll(\n",
    "    lambda x: EWMA(\n",
    "        com=10, adjust=False, ignore_na=False, return_info=True, initial_value=jnp.nan\n",
    "    )(x)\n",
    ")(x)\n",
    "res = pd.Series(onp.array(res))\n",
    "# pd.Series(info[\"com_eff\"]).plot()\n",
    "res.plot()\n",
    "(res, info) = unroll(\n",
    "    lambda x: EWMA(\n",
    "        com=10, adjust=False, ignore_na=False, return_info=True, initial_value=0.0\n",
    "    )(x)\n",
    ")(x)\n",
    "res = pd.Series(onp.array(res))\n",
    "# pd.Series(info[\"com_eff\"]).plot()\n",
    "res.plot()\n",
    "plt.legend((\"init nan\", \"init 0\"))"
   ]
  },
  {
   "cell_type": "code",
   "execution_count": 18,
   "id": "bd4e27fd",
   "metadata": {
    "lines_to_next_cell": 2
   },
   "outputs": [
    {
     "data": {
      "text/plain": [
       "<AxesSubplot:>"
      ]
     },
     "execution_count": 18,
     "metadata": {},
     "output_type": "execute_result"
    },
    {
     "data": {
      "image/png": "[encoded data removed]",
      "text/plain": [
       "<Figure size 432x288 with 1 Axes>"
      ]
     },
     "metadata": {
      "needs_background": "light"
     },
     "output_type": "display_data"
    }
   ],
   "source": [
    "x = (\n",
    "    jnp.ones((100,))\n",
    "    .at[0]\n",
    "    .set(-1)\n",
    "    .at[30:50]\n",
    "    .set(-1)\n",
    "    .at[40:50]\n",
    "    .set(jnp.nan)\n",
    "    .at[3:20]\n",
    "    .set(jnp.nan)\n",
    ")\n",
    "\n",
    "(res, info) = unroll(\n",
    "    lambda x: EWMA(com=10, adjust=True, ignore_na=False, return_info=True)(x)\n",
    ")(x)\n",
    "res = pd.Series(onp.array(res))\n",
    "pd.Series(info[\"com_eff\"]).plot()\n",
    "res.plot()"
   ]
  },
  {
   "cell_type": "code",
   "execution_count": 19,
   "id": "b34301ee",
   "metadata": {
    "lines_to_end_of_cell_marker": 2,
    "lines_to_next_cell": 2
   },
   "outputs": [
    {
     "data": {
      "text/plain": [
       "<AxesSubplot:>"
      ]
     },
     "execution_count": 19,
     "metadata": {},
     "output_type": "execute_result"
    },
    {
     "data": {
      "image/png": "[encoded data removed]",
      "text/plain": [
       "<Figure size 432x288 with 1 Axes>"
      ]
     },
     "metadata": {
      "needs_background": "light"
     },
     "output_type": "display_data"
    }
   ],
   "source": [
    "x = (\n",
    "    jnp.ones((100,))\n",
    "    .at[0]\n",
    "    .set(-1)\n",
    "    .at[30:50]\n",
    "    .set(-1)\n",
    "    .at[40:50]\n",
    "    .set(jnp.nan)\n",
    "    .at[3:20]\n",
    "    .set(jnp.nan)\n",
    ")\n",
    "\n",
    "alpha = 1 / (1 + 10)\n",
    "(res, info) = unroll(\n",
    "    lambda x: EWMA(com=10, adjust=True, ignore_na=True, return_info=True)(x),\n",
    "    dynamic=False,\n",
    ")(x)\n",
    "res = pd.Series(onp.array(res))\n",
    "pd.Series(info[\"com_eff\"]).plot()\n",
    "# pd.Series(info[\"old_wt\"]/alpha).plot()\n",
    "\n",
    "res.plot()"
   ]
  },
  {
   "cell_type": "markdown",
   "id": "952835af",
   "metadata": {},
   "source": [
    "# Exponential adjustement"
   ]
  },
  {
   "cell_type": "code",
   "execution_count": 20,
   "id": "5ef8be39",
   "metadata": {},
   "outputs": [
    {
     "data": {
      "text/plain": [
       "<AxesSubplot:>"
      ]
     },
     "execution_count": 20,
     "metadata": {},
     "output_type": "execute_result"
    },
    {
     "data": {
      "image/png": "[encoded data removed]",
      "text/plain": [
       "<Figure size 432x288 with 1 Axes>"
      ]
     },
     "metadata": {
      "needs_background": "light"
     },
     "output_type": "display_data"
    }
   ],
   "source": [
    "@partial(unroll_transform_with_state, dynamic=True)\n",
    "def fun(x):\n",
    "    return EWMA(1 / 10, adjust=True, ignore_na=False, return_info=True)(x)\n",
    "\n",
    "\n",
    "rng = jax.random.PRNGKey(42)\n",
    "params, state = fun.init(rng, x)\n",
    "(res, info), final_state = fun.apply(params, state, rng, x)\n",
    "\n",
    "\n",
    "res = pd.DataFrame(onp.array(res))\n",
    "\n",
    "\n",
    "c1 = pd.DataFrame(info[\"com_eff\"])\n",
    "c1.plot()"
   ]
  },
  {
   "cell_type": "markdown",
   "id": "73635469",
   "metadata": {},
   "source": [
    "# More checks"
   ]
  },
  {
   "cell_type": "code",
   "execution_count": 21,
   "id": "0b4443df",
   "metadata": {},
   "outputs": [],
   "source": [
    "adjust = False\n",
    "ignore_na = False\n",
    "\n",
    "adjust = True\n",
    "ignore_na = False\n",
    "\n",
    "\n",
    "def run():\n",
    "    x = jnp.ones((30,), \"float64\").at[0].set(-1).at[5:20].set(jnp.nan)\n",
    "\n",
    "    @partial(unroll_transform_with_state)\n",
    "    def fun(x):\n",
    "        return EWMA(1 / 10, adjust=adjust, ignore_na=ignore_na, return_info=True)(x)\n",
    "\n",
    "    rng = jax.random.PRNGKey(42)\n",
    "    params, state = fun.init(rng, x)\n",
    "    (res, info), final_state = fun.apply(params, state, rng, x)\n",
    "    res = pd.Series(onp.array(res))\n",
    "\n",
    "    ref_res = (\n",
    "        pd.Series(onp.array(x))\n",
    "        .ewm(alpha=1 / 10, adjust=adjust, ignore_na=ignore_na)\n",
    "        .mean()\n",
    "        .values\n",
    "    )\n",
    "\n",
    "    df = pd.concat(\n",
    "        [\n",
    "            pd.Series(x),\n",
    "            pd.Series(onp.array(ref_res)),\n",
    "            pd.Series(onp.array(res)),\n",
    "        ],\n",
    "        axis=1,\n",
    "        keys=[\"x\", \"pandas\", \"wax\"],\n",
    "    )\n",
    "\n",
    "    return df\n",
    "\n",
    "    df = pd.concat(\n",
    "        [\n",
    "            pd.Series(x),\n",
    "            ref_res,\n",
    "            res,\n",
    "            pd.Series(onp.array(info[\"mean\"])),\n",
    "            pd.Series(info[\"norm\"]),\n",
    "            pd.Series(onp.array(info[\"mean\"])) / ref_res,\n",
    "        ],\n",
    "        axis=1,\n",
    "        keys=[\"x\", \"pandas\", \"wax\", \"wax-mean\", \"wax-norm\", \"pandas-norm\"],\n",
    "    )\n",
    "    df.plot()"
   ]
  },
  {
   "cell_type": "code",
   "execution_count": 22,
   "id": "7e11817f",
   "metadata": {},
   "outputs": [
    {
     "data": {
      "text/plain": [
       "<AxesSubplot:>"
      ]
     },
     "execution_count": 22,
     "metadata": {},
     "output_type": "execute_result"
    },
    {
     "data": {
      "image/png": "[encoded data removed]",
      "text/plain": [
       "<Figure size 432x288 with 1 Axes>"
      ]
     },
     "metadata": {
      "needs_background": "light"
     },
     "output_type": "display_data"
    }
   ],
   "source": [
    "adjust = False\n",
    "ignore_na = False\n",
    "df = run()\n",
    "df.plot()"
   ]
  },
  {
   "cell_type": "code",
   "execution_count": 23,
   "id": "f86ba1ef",
   "metadata": {},
   "outputs": [
    {
     "data": {
      "text/plain": [
       "<AxesSubplot:>"
      ]
     },
     "execution_count": 23,
     "metadata": {},
     "output_type": "execute_result"
    },
    {
     "data": {
      "image/png": "[encoded data removed]",
      "text/plain": [
       "<Figure size 432x288 with 1 Axes>"
      ]
     },
     "metadata": {
      "needs_background": "light"
     },
     "output_type": "display_data"
    }
   ],
   "source": [
    "adjust = True\n",
    "ignore_na = False\n",
    "df = run()\n",
    "df.plot()"
   ]
  },
  {
   "cell_type": "code",
   "execution_count": 24,
   "id": "0ce607ec",
   "metadata": {},
   "outputs": [
    {
     "data": {
      "text/plain": [
       "<AxesSubplot:>"
      ]
     },
     "execution_count": 24,
     "metadata": {},
     "output_type": "execute_result"
    },
    {
     "data": {
      "image/png": "[encoded data removed]",
      "text/plain": [
       "<Figure size 432x288 with 1 Axes>"
      ]
     },
     "metadata": {
      "needs_background": "light"
     },
     "output_type": "display_data"
    }
   ],
   "source": [
    "adjust = False\n",
    "ignore_na = True\n",
    "df = run()\n",
    "df.plot()"
   ]
  },
  {
   "cell_type": "code",
   "execution_count": 25,
   "id": "991b352d",
   "metadata": {},
   "outputs": [
    {
     "data": {
      "text/plain": [
       "<AxesSubplot:>"
      ]
     },
     "execution_count": 25,
     "metadata": {},
     "output_type": "execute_result"
    },
    {
     "data": {
      "image/png": "[encoded data removed]",
      "text/plain": [
       "<Figure size 432x288 with 1 Axes>"
      ]
     },
     "metadata": {
      "needs_background": "light"
     },
     "output_type": "display_data"
    }
   ],
   "source": [
    "adjust = True\n",
    "ignore_na = True\n",
    "df = run()\n",
    "df.plot()"
   ]
  },
  {
   "cell_type": "code",
   "execution_count": 26,
   "id": "8e460594",
   "metadata": {},
   "outputs": [
    {
     "data": {
      "text/plain": [
       "<AxesSubplot:>"
      ]
     },
     "execution_count": 26,
     "metadata": {},
     "output_type": "execute_result"
    },
    {
     "data": {
      "image/png": "[encoded data removed]",
      "text/plain": [
       "<Figure size 432x288 with 1 Axes>"
      ]
     },
     "metadata": {
      "needs_background": "light"
     },
     "output_type": "display_data"
    }
   ],
   "source": [
    "adjust = \"linear\"\n",
    "ignore_na = True\n",
    "df = run()\n",
    "df.plot()"
   ]
  },
  {
   "cell_type": "code",
   "execution_count": 27,
   "id": "925b3097",
   "metadata": {},
   "outputs": [
    {
     "data": {
      "text/plain": [
       "<AxesSubplot:>"
      ]
     },
     "execution_count": 27,
     "metadata": {},
     "output_type": "execute_result"
    },
    {
     "data": {
      "image/png": "[encoded data removed]",
      "text/plain": [
       "<Figure size 432x288 with 1 Axes>"
      ]
     },
     "metadata": {
      "needs_background": "light"
     },
     "output_type": "display_data"
    }
   ],
   "source": [
    "adjust = \"linear\"\n",
    "ignore_na = False\n",
    "df = run()\n",
    "df.plot()"
   ]
  },
  {
   "cell_type": "markdown",
   "id": "12d7638b",
   "metadata": {},
   "source": [
    "# Numba implementation"
   ]
  },
  {
   "cell_type": "code",
   "execution_count": 28,
   "id": "c8093924",
   "metadata": {},
   "outputs": [],
   "source": [
    "from wax.modules.ewma_numba import ewma"
   ]
  },
  {
   "cell_type": "code",
   "execution_count": 29,
   "id": "639559b5",
   "metadata": {},
   "outputs": [
    {
     "data": {
      "text/plain": [
       "<AxesSubplot:>"
      ]
     },
     "execution_count": 29,
     "metadata": {},
     "output_type": "execute_result"
    },
    {
     "data": {
      "image/png": "[encoded data removed]",
      "text/plain": [
       "<Figure size 432x288 with 1 Axes>"
      ]
     },
     "metadata": {
      "needs_background": "light"
     },
     "output_type": "display_data"
    }
   ],
   "source": [
    "x = onp.ones((30,), \"float64\")\n",
    "x[0] = onp.nan\n",
    "\n",
    "x[1] = -1\n",
    "\n",
    "x[5:20] = onp.nan\n",
    "x = x.reshape(-1, 1)\n",
    "\n",
    "\n",
    "res, state = ewma(com=10, adjust=\"linear\")(x)\n",
    "pd.DataFrame(res).plot()"
   ]
  },
  {
   "cell_type": "code",
   "execution_count": 39,
   "id": "55d2327d",
   "metadata": {},
   "outputs": [
    {
     "data": {
      "text/html": [
       "<div>\n",
       "<style scoped>\n",
       "    .dataframe tbody tr th:only-of-type {\n",
       "        vertical-align: middle;\n",
       "    }\n",
       "\n",
       "    .dataframe tbody tr th {\n",
       "        vertical-align: top;\n",
       "    }\n",
       "\n",
       "    .dataframe thead tr th {\n",
       "        text-align: left;\n",
       "    }\n",
       "</style>\n",
       "<table border=\"1\" class=\"dataframe\">\n",
       "  <thead>\n",
       "    <tr>\n",
       "      <th></th>\n",
       "      <th>full</th>\n",
       "      <th>12</th>\n",
       "    </tr>\n",
       "    <tr>\n",
       "      <th></th>\n",
       "      <th>0</th>\n",
       "      <th>0</th>\n",
       "    </tr>\n",
       "  </thead>\n",
       "  <tbody>\n",
       "    <tr>\n",
       "      <th>0</th>\n",
       "      <td>NaN</td>\n",
       "      <td>NaN</td>\n",
       "    </tr>\n",
       "    <tr>\n",
       "      <th>1</th>\n",
       "      <td>NaN</td>\n",
       "      <td>NaN</td>\n",
       "    </tr>\n",
       "    <tr>\n",
       "      <th>2</th>\n",
       "      <td>NaN</td>\n",
       "      <td>NaN</td>\n",
       "    </tr>\n",
       "    <tr>\n",
       "      <th>3</th>\n",
       "      <td>0.333333</td>\n",
       "      <td>0.333333</td>\n",
       "    </tr>\n",
       "    <tr>\n",
       "      <th>4</th>\n",
       "      <td>0.500000</td>\n",
       "      <td>0.500000</td>\n",
       "    </tr>\n",
       "    <tr>\n",
       "      <th>5</th>\n",
       "      <td>0.500000</td>\n",
       "      <td>0.500000</td>\n",
       "    </tr>\n",
       "    <tr>\n",
       "      <th>6</th>\n",
       "      <td>0.500000</td>\n",
       "      <td>0.500000</td>\n",
       "    </tr>\n",
       "    <tr>\n",
       "      <th>7</th>\n",
       "      <td>0.500000</td>\n",
       "      <td>0.500000</td>\n",
       "    </tr>\n",
       "    <tr>\n",
       "      <th>8</th>\n",
       "      <td>0.500000</td>\n",
       "      <td>0.500000</td>\n",
       "    </tr>\n",
       "    <tr>\n",
       "      <th>9</th>\n",
       "      <td>0.500000</td>\n",
       "      <td>0.500000</td>\n",
       "    </tr>\n",
       "    <tr>\n",
       "      <th>10</th>\n",
       "      <td>0.500000</td>\n",
       "      <td>0.500000</td>\n",
       "    </tr>\n",
       "    <tr>\n",
       "      <th>11</th>\n",
       "      <td>0.500000</td>\n",
       "      <td>0.500000</td>\n",
       "    </tr>\n",
       "    <tr>\n",
       "      <th>12</th>\n",
       "      <td>0.500000</td>\n",
       "      <td>0.500000</td>\n",
       "    </tr>\n",
       "    <tr>\n",
       "      <th>13</th>\n",
       "      <td>0.500000</td>\n",
       "      <td>0.500000</td>\n",
       "    </tr>\n",
       "    <tr>\n",
       "      <th>14</th>\n",
       "      <td>0.500000</td>\n",
       "      <td>0.500000</td>\n",
       "    </tr>\n",
       "    <tr>\n",
       "      <th>15</th>\n",
       "      <td>0.500000</td>\n",
       "      <td>0.500000</td>\n",
       "    </tr>\n",
       "    <tr>\n",
       "      <th>16</th>\n",
       "      <td>0.500000</td>\n",
       "      <td>0.500000</td>\n",
       "    </tr>\n",
       "    <tr>\n",
       "      <th>17</th>\n",
       "      <td>0.500000</td>\n",
       "      <td>0.500000</td>\n",
       "    </tr>\n",
       "    <tr>\n",
       "      <th>18</th>\n",
       "      <td>0.500000</td>\n",
       "      <td>0.500000</td>\n",
       "    </tr>\n",
       "    <tr>\n",
       "      <th>19</th>\n",
       "      <td>0.500000</td>\n",
       "      <td>0.500000</td>\n",
       "    </tr>\n",
       "    <tr>\n",
       "      <th>20</th>\n",
       "      <td>1.000000</td>\n",
       "      <td>1.000000</td>\n",
       "    </tr>\n",
       "    <tr>\n",
       "      <th>21</th>\n",
       "      <td>1.000000</td>\n",
       "      <td>1.000000</td>\n",
       "    </tr>\n",
       "    <tr>\n",
       "      <th>22</th>\n",
       "      <td>1.000000</td>\n",
       "      <td>1.000000</td>\n",
       "    </tr>\n",
       "    <tr>\n",
       "      <th>23</th>\n",
       "      <td>1.000000</td>\n",
       "      <td>1.000000</td>\n",
       "    </tr>\n",
       "    <tr>\n",
       "      <th>24</th>\n",
       "      <td>1.000000</td>\n",
       "      <td>1.000000</td>\n",
       "    </tr>\n",
       "    <tr>\n",
       "      <th>25</th>\n",
       "      <td>1.000000</td>\n",
       "      <td>1.000000</td>\n",
       "    </tr>\n",
       "    <tr>\n",
       "      <th>26</th>\n",
       "      <td>1.000000</td>\n",
       "      <td>1.000000</td>\n",
       "    </tr>\n",
       "    <tr>\n",
       "      <th>27</th>\n",
       "      <td>1.000000</td>\n",
       "      <td>1.000000</td>\n",
       "    </tr>\n",
       "    <tr>\n",
       "      <th>28</th>\n",
       "      <td>1.000000</td>\n",
       "      <td>1.000000</td>\n",
       "    </tr>\n",
       "    <tr>\n",
       "      <th>29</th>\n",
       "      <td>1.000000</td>\n",
       "      <td>1.000000</td>\n",
       "    </tr>\n",
       "  </tbody>\n",
       "</table>\n",
       "</div>"
      ],
      "text/plain": [
       "        full        12\n",
       "           0         0\n",
       "0        NaN       NaN\n",
       "1        NaN       NaN\n",
       "2        NaN       NaN\n",
       "3   0.333333  0.333333\n",
       "4   0.500000  0.500000\n",
       "5   0.500000  0.500000\n",
       "6   0.500000  0.500000\n",
       "7   0.500000  0.500000\n",
       "8   0.500000  0.500000\n",
       "9   0.500000  0.500000\n",
       "10  0.500000  0.500000\n",
       "11  0.500000  0.500000\n",
       "12  0.500000  0.500000\n",
       "13  0.500000  0.500000\n",
       "14  0.500000  0.500000\n",
       "15  0.500000  0.500000\n",
       "16  0.500000  0.500000\n",
       "17  0.500000  0.500000\n",
       "18  0.500000  0.500000\n",
       "19  0.500000  0.500000\n",
       "20  1.000000  1.000000\n",
       "21  1.000000  1.000000\n",
       "22  1.000000  1.000000\n",
       "23  1.000000  1.000000\n",
       "24  1.000000  1.000000\n",
       "25  1.000000  1.000000\n",
       "26  1.000000  1.000000\n",
       "27  1.000000  1.000000\n",
       "28  1.000000  1.000000\n",
       "29  1.000000  1.000000"
      ]
     },
     "execution_count": 39,
     "metadata": {},
     "output_type": "execute_result"
    }
   ],
   "source": [
    "ewma_apply = ewma(com=10, adjust=\"linear\", min_periods=3)\n",
    "res_full, _ = ewma_apply(x)\n",
    "\n",
    "T = 10\n",
    "res1, state = ewma_apply(x[:T])\n",
    "res2, _ = ewma_apply(x[T:], state)\n",
    "res12 = np.concatenate([res1, res2])\n",
    "assert np.allclose(res_full, res12, equal_nan=True)\n",
    "pd.concat([pd.DataFrame(res_full), pd.DataFrame(res12)], axis=1, keys=[\"full\", \"12\"])"
   ]
  },
  {
   "cell_type": "markdown",
   "id": "880f591c",
   "metadata": {},
   "source": [
    "# Online pandas ewm"
   ]
  },
  {
   "cell_type": "code",
   "execution_count": 36,
   "id": "c0b265bb",
   "metadata": {},
   "outputs": [
    {
     "data": {
      "text/html": [
       "<div>\n",
       "<style scoped>\n",
       "    .dataframe tbody tr th:only-of-type {\n",
       "        vertical-align: middle;\n",
       "    }\n",
       "\n",
       "    .dataframe tbody tr th {\n",
       "        vertical-align: top;\n",
       "    }\n",
       "\n",
       "    .dataframe thead tr th {\n",
       "        text-align: left;\n",
       "    }\n",
       "</style>\n",
       "<table border=\"1\" class=\"dataframe\">\n",
       "  <thead>\n",
       "    <tr>\n",
       "      <th></th>\n",
       "      <th>tot</th>\n",
       "      <th>res1</th>\n",
       "      <th>res2</th>\n",
       "    </tr>\n",
       "    <tr>\n",
       "      <th></th>\n",
       "      <th>0</th>\n",
       "      <th>0</th>\n",
       "      <th>0</th>\n",
       "    </tr>\n",
       "  </thead>\n",
       "  <tbody>\n",
       "    <tr>\n",
       "      <th>0</th>\n",
       "      <td>NaN</td>\n",
       "      <td>NaN</td>\n",
       "      <td>NaN</td>\n",
       "    </tr>\n",
       "    <tr>\n",
       "      <th>1</th>\n",
       "      <td>-1.000000</td>\n",
       "      <td>-1.000000</td>\n",
       "      <td>NaN</td>\n",
       "    </tr>\n",
       "    <tr>\n",
       "      <th>2</th>\n",
       "      <td>0.000000</td>\n",
       "      <td>0.000000</td>\n",
       "      <td>NaN</td>\n",
       "    </tr>\n",
       "    <tr>\n",
       "      <th>3</th>\n",
       "      <td>0.333333</td>\n",
       "      <td>0.333333</td>\n",
       "      <td>NaN</td>\n",
       "    </tr>\n",
       "    <tr>\n",
       "      <th>4</th>\n",
       "      <td>0.500000</td>\n",
       "      <td>0.500000</td>\n",
       "      <td>NaN</td>\n",
       "    </tr>\n",
       "    <tr>\n",
       "      <th>5</th>\n",
       "      <td>0.500000</td>\n",
       "      <td>0.500000</td>\n",
       "      <td>NaN</td>\n",
       "    </tr>\n",
       "    <tr>\n",
       "      <th>6</th>\n",
       "      <td>0.500000</td>\n",
       "      <td>0.500000</td>\n",
       "      <td>NaN</td>\n",
       "    </tr>\n",
       "    <tr>\n",
       "      <th>7</th>\n",
       "      <td>0.500000</td>\n",
       "      <td>0.500000</td>\n",
       "      <td>NaN</td>\n",
       "    </tr>\n",
       "    <tr>\n",
       "      <th>8</th>\n",
       "      <td>0.500000</td>\n",
       "      <td>0.500000</td>\n",
       "      <td>NaN</td>\n",
       "    </tr>\n",
       "    <tr>\n",
       "      <th>9</th>\n",
       "      <td>0.500000</td>\n",
       "      <td>0.500000</td>\n",
       "      <td>NaN</td>\n",
       "    </tr>\n",
       "    <tr>\n",
       "      <th>10</th>\n",
       "      <td>0.500000</td>\n",
       "      <td>NaN</td>\n",
       "      <td>0.500000</td>\n",
       "    </tr>\n",
       "    <tr>\n",
       "      <th>11</th>\n",
       "      <td>0.500000</td>\n",
       "      <td>NaN</td>\n",
       "      <td>0.500000</td>\n",
       "    </tr>\n",
       "    <tr>\n",
       "      <th>12</th>\n",
       "      <td>0.500000</td>\n",
       "      <td>NaN</td>\n",
       "      <td>0.500000</td>\n",
       "    </tr>\n",
       "    <tr>\n",
       "      <th>13</th>\n",
       "      <td>0.500000</td>\n",
       "      <td>NaN</td>\n",
       "      <td>0.500000</td>\n",
       "    </tr>\n",
       "    <tr>\n",
       "      <th>14</th>\n",
       "      <td>0.500000</td>\n",
       "      <td>NaN</td>\n",
       "      <td>0.500000</td>\n",
       "    </tr>\n",
       "    <tr>\n",
       "      <th>15</th>\n",
       "      <td>0.500000</td>\n",
       "      <td>NaN</td>\n",
       "      <td>0.500000</td>\n",
       "    </tr>\n",
       "    <tr>\n",
       "      <th>16</th>\n",
       "      <td>0.500000</td>\n",
       "      <td>NaN</td>\n",
       "      <td>0.500000</td>\n",
       "    </tr>\n",
       "    <tr>\n",
       "      <th>17</th>\n",
       "      <td>0.500000</td>\n",
       "      <td>NaN</td>\n",
       "      <td>0.500000</td>\n",
       "    </tr>\n",
       "    <tr>\n",
       "      <th>18</th>\n",
       "      <td>0.500000</td>\n",
       "      <td>NaN</td>\n",
       "      <td>0.500000</td>\n",
       "    </tr>\n",
       "    <tr>\n",
       "      <th>19</th>\n",
       "      <td>0.500000</td>\n",
       "      <td>NaN</td>\n",
       "      <td>0.500000</td>\n",
       "    </tr>\n",
       "    <tr>\n",
       "      <th>20</th>\n",
       "      <td>0.600000</td>\n",
       "      <td>NaN</td>\n",
       "      <td>0.600000</td>\n",
       "    </tr>\n",
       "    <tr>\n",
       "      <th>21</th>\n",
       "      <td>0.666667</td>\n",
       "      <td>NaN</td>\n",
       "      <td>0.666667</td>\n",
       "    </tr>\n",
       "    <tr>\n",
       "      <th>22</th>\n",
       "      <td>0.714286</td>\n",
       "      <td>NaN</td>\n",
       "      <td>0.714286</td>\n",
       "    </tr>\n",
       "    <tr>\n",
       "      <th>23</th>\n",
       "      <td>0.750000</td>\n",
       "      <td>NaN</td>\n",
       "      <td>0.750000</td>\n",
       "    </tr>\n",
       "    <tr>\n",
       "      <th>24</th>\n",
       "      <td>0.777778</td>\n",
       "      <td>NaN</td>\n",
       "      <td>0.777778</td>\n",
       "    </tr>\n",
       "    <tr>\n",
       "      <th>25</th>\n",
       "      <td>0.800000</td>\n",
       "      <td>NaN</td>\n",
       "      <td>0.800000</td>\n",
       "    </tr>\n",
       "    <tr>\n",
       "      <th>26</th>\n",
       "      <td>0.818182</td>\n",
       "      <td>NaN</td>\n",
       "      <td>0.818182</td>\n",
       "    </tr>\n",
       "    <tr>\n",
       "      <th>27</th>\n",
       "      <td>0.833333</td>\n",
       "      <td>NaN</td>\n",
       "      <td>0.833333</td>\n",
       "    </tr>\n",
       "    <tr>\n",
       "      <th>28</th>\n",
       "      <td>0.846154</td>\n",
       "      <td>NaN</td>\n",
       "      <td>0.846154</td>\n",
       "    </tr>\n",
       "    <tr>\n",
       "      <th>29</th>\n",
       "      <td>0.857143</td>\n",
       "      <td>NaN</td>\n",
       "      <td>0.857143</td>\n",
       "    </tr>\n",
       "  </tbody>\n",
       "</table>\n",
       "</div>"
      ],
      "text/plain": [
       "         tot      res1      res2\n",
       "           0         0         0\n",
       "0        NaN       NaN       NaN\n",
       "1  -1.000000 -1.000000       NaN\n",
       "2   0.000000  0.000000       NaN\n",
       "3   0.333333  0.333333       NaN\n",
       "4   0.500000  0.500000       NaN\n",
       "5   0.500000  0.500000       NaN\n",
       "6   0.500000  0.500000       NaN\n",
       "7   0.500000  0.500000       NaN\n",
       "8   0.500000  0.500000       NaN\n",
       "9   0.500000  0.500000       NaN\n",
       "10  0.500000       NaN  0.500000\n",
       "11  0.500000       NaN  0.500000\n",
       "12  0.500000       NaN  0.500000\n",
       "13  0.500000       NaN  0.500000\n",
       "14  0.500000       NaN  0.500000\n",
       "15  0.500000       NaN  0.500000\n",
       "16  0.500000       NaN  0.500000\n",
       "17  0.500000       NaN  0.500000\n",
       "18  0.500000       NaN  0.500000\n",
       "19  0.500000       NaN  0.500000\n",
       "20  0.600000       NaN  0.600000\n",
       "21  0.666667       NaN  0.666667\n",
       "22  0.714286       NaN  0.714286\n",
       "23  0.750000       NaN  0.750000\n",
       "24  0.777778       NaN  0.777778\n",
       "25  0.800000       NaN  0.800000\n",
       "26  0.818182       NaN  0.818182\n",
       "27  0.833333       NaN  0.833333\n",
       "28  0.846154       NaN  0.846154\n",
       "29  0.857143       NaN  0.857143"
      ]
     },
     "execution_count": 36,
     "metadata": {},
     "output_type": "execute_result"
    },
    {
     "data": {
      "image/png": "[encoded data removed]",
      "text/plain": [
       "<Figure size 432x288 with 1 Axes>"
      ]
     },
     "metadata": {
      "needs_background": "light"
     },
     "output_type": "display_data"
    }
   ],
   "source": [
    "online_ewm = pd.DataFrame(x).ewm(10).online()\n",
    "res_tot = online_ewm.mean()\n",
    "\n",
    "\n",
    "data = pd.DataFrame(x)\n",
    "online_ewm = data.iloc[:10].ewm(10).online()\n",
    "res1 = online_ewm.mean()\n",
    "\n",
    "res2 = online_ewm.mean(update=data.iloc[10:])\n",
    "\n",
    "df = pd.concat([res_tot, res1, res2], keys=[\"tot\", \"res1\", \"res2\"], axis=1)\n",
    "df.plot()\n",
    "df"
   ]
  },
  {
   "cell_type": "markdown",
   "id": "db2d0e84",
   "metadata": {},
   "source": []
  }
 ],
 "metadata": {
  "jupytext": {
   "encoding": "# -*- coding: utf-8 -*-",
   "formats": "ipynb,py,md"
  },
  "kernelspec": {
   "display_name": "Python 3 (ipykernel)",
   "language": "python",
   "name": "python3"
  },
  "language_info": {
   "codemirror_mode": {
    "name": "ipython",
    "version": 3
   },
   "file_extension": ".py",
   "mimetype": "text/x-python",
   "name": "python",
   "nbconvert_exporter": "python",
   "pygments_lexer": "ipython3",
   "version": "3.9.9"
  }
 },
 "nbformat": 4,
 "nbformat_minor": 5
}
